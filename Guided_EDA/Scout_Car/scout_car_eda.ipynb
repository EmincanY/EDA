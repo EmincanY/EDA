{
 "cells": [
  {
   "cell_type": "code",
   "execution_count": 1,
   "metadata": {},
   "outputs": [],
   "source": [
    "import numpy as np\n",
    "import pandas as pd\n",
    "import matplotlib.pyplot as plt"
   ]
  },
  {
   "cell_type": "code",
   "execution_count": 2,
   "metadata": {},
   "outputs": [
    {
     "data": {
      "text/html": [
       "<div>\n",
       "<style scoped>\n",
       "    .dataframe tbody tr th:only-of-type {\n",
       "        vertical-align: middle;\n",
       "    }\n",
       "\n",
       "    .dataframe tbody tr th {\n",
       "        vertical-align: top;\n",
       "    }\n",
       "\n",
       "    .dataframe thead th {\n",
       "        text-align: right;\n",
       "    }\n",
       "</style>\n",
       "<table border=\"1\" class=\"dataframe\">\n",
       "  <thead>\n",
       "    <tr style=\"text-align: right;\">\n",
       "      <th></th>\n",
       "      <th>url</th>\n",
       "      <th>make_model</th>\n",
       "      <th>short_description</th>\n",
       "      <th>body_type</th>\n",
       "      <th>price</th>\n",
       "      <th>vat</th>\n",
       "      <th>km</th>\n",
       "      <th>registration</th>\n",
       "      <th>prev_owner</th>\n",
       "      <th>kW</th>\n",
       "      <th>...</th>\n",
       "      <th>description</th>\n",
       "      <th>Emission Label</th>\n",
       "      <th>Gears</th>\n",
       "      <th>Country version</th>\n",
       "      <th>Electricity consumption</th>\n",
       "      <th>Last Service Date</th>\n",
       "      <th>Other Fuel Types</th>\n",
       "      <th>Availability</th>\n",
       "      <th>Last Timing Belt Service Date</th>\n",
       "      <th>Available from</th>\n",
       "    </tr>\n",
       "  </thead>\n",
       "  <tbody>\n",
       "    <tr>\n",
       "      <th>0</th>\n",
       "      <td>https://www.autoscout24.com//offers/audi-a1-sp...</td>\n",
       "      <td>Audi A1</td>\n",
       "      <td>Sportback 1.4 TDI S-tronic Xenon Navi Klima</td>\n",
       "      <td>Sedans</td>\n",
       "      <td>15770</td>\n",
       "      <td>VAT deductible</td>\n",
       "      <td>56,013 km</td>\n",
       "      <td>01/2016</td>\n",
       "      <td>2 previous owners</td>\n",
       "      <td>NaN</td>\n",
       "      <td>...</td>\n",
       "      <td>[\\n, Sicherheit:,  , Deaktivierung für Beifahr...</td>\n",
       "      <td>NaN</td>\n",
       "      <td>NaN</td>\n",
       "      <td>NaN</td>\n",
       "      <td>NaN</td>\n",
       "      <td>NaN</td>\n",
       "      <td>NaN</td>\n",
       "      <td>NaN</td>\n",
       "      <td>NaN</td>\n",
       "      <td>NaN</td>\n",
       "    </tr>\n",
       "    <tr>\n",
       "      <th>1</th>\n",
       "      <td>https://www.autoscout24.com//offers/audi-a1-1-...</td>\n",
       "      <td>Audi A1</td>\n",
       "      <td>1.8 TFSI sport</td>\n",
       "      <td>Sedans</td>\n",
       "      <td>14500</td>\n",
       "      <td>Price negotiable</td>\n",
       "      <td>80,000 km</td>\n",
       "      <td>03/2017</td>\n",
       "      <td>None</td>\n",
       "      <td>NaN</td>\n",
       "      <td>...</td>\n",
       "      <td>[\\nLangstreckenfahrzeug daher die hohe Kilomet...</td>\n",
       "      <td>[\\n4 (Green)\\n]</td>\n",
       "      <td>[\\n7\\n]</td>\n",
       "      <td>NaN</td>\n",
       "      <td>NaN</td>\n",
       "      <td>NaN</td>\n",
       "      <td>NaN</td>\n",
       "      <td>NaN</td>\n",
       "      <td>NaN</td>\n",
       "      <td>NaN</td>\n",
       "    </tr>\n",
       "    <tr>\n",
       "      <th>2</th>\n",
       "      <td>https://www.autoscout24.com//offers/audi-a1-sp...</td>\n",
       "      <td>Audi A1</td>\n",
       "      <td>Sportback 1.6 TDI S tronic Einparkhilfe plus+m...</td>\n",
       "      <td>Sedans</td>\n",
       "      <td>14640</td>\n",
       "      <td>VAT deductible</td>\n",
       "      <td>83,450 km</td>\n",
       "      <td>02/2016</td>\n",
       "      <td>1 previous owner</td>\n",
       "      <td>NaN</td>\n",
       "      <td>...</td>\n",
       "      <td>[\\n, Fahrzeug-Nummer: AM-95365,  , Ehem. UPE 2...</td>\n",
       "      <td>[\\n4 (Green)\\n]</td>\n",
       "      <td>NaN</td>\n",
       "      <td>NaN</td>\n",
       "      <td>NaN</td>\n",
       "      <td>NaN</td>\n",
       "      <td>NaN</td>\n",
       "      <td>NaN</td>\n",
       "      <td>NaN</td>\n",
       "      <td>NaN</td>\n",
       "    </tr>\n",
       "    <tr>\n",
       "      <th>3</th>\n",
       "      <td>https://www.autoscout24.com//offers/audi-a1-1-...</td>\n",
       "      <td>Audi A1</td>\n",
       "      <td>1.4 TDi Design S tronic</td>\n",
       "      <td>Sedans</td>\n",
       "      <td>14500</td>\n",
       "      <td>None</td>\n",
       "      <td>73,000 km</td>\n",
       "      <td>08/2016</td>\n",
       "      <td>1 previous owner</td>\n",
       "      <td>NaN</td>\n",
       "      <td>...</td>\n",
       "      <td>[\\nAudi A1: , - 1e eigenaar , - Perfecte staat...</td>\n",
       "      <td>NaN</td>\n",
       "      <td>[\\n6\\n]</td>\n",
       "      <td>NaN</td>\n",
       "      <td>NaN</td>\n",
       "      <td>NaN</td>\n",
       "      <td>NaN</td>\n",
       "      <td>NaN</td>\n",
       "      <td>NaN</td>\n",
       "      <td>NaN</td>\n",
       "    </tr>\n",
       "    <tr>\n",
       "      <th>4</th>\n",
       "      <td>https://www.autoscout24.com//offers/audi-a1-sp...</td>\n",
       "      <td>Audi A1</td>\n",
       "      <td>Sportback 1.4 TDI S-Tronic S-Line Ext. admired...</td>\n",
       "      <td>Sedans</td>\n",
       "      <td>16790</td>\n",
       "      <td>None</td>\n",
       "      <td>16,200 km</td>\n",
       "      <td>05/2016</td>\n",
       "      <td>1 previous owner</td>\n",
       "      <td>NaN</td>\n",
       "      <td>...</td>\n",
       "      <td>[\\n, Technik &amp; Sicherheit:, Xenon plus, Klimaa...</td>\n",
       "      <td>NaN</td>\n",
       "      <td>NaN</td>\n",
       "      <td>[\\nGermany\\n]</td>\n",
       "      <td>NaN</td>\n",
       "      <td>NaN</td>\n",
       "      <td>NaN</td>\n",
       "      <td>NaN</td>\n",
       "      <td>NaN</td>\n",
       "      <td>NaN</td>\n",
       "    </tr>\n",
       "  </tbody>\n",
       "</table>\n",
       "<p>5 rows × 54 columns</p>\n",
       "</div>"
      ],
      "text/plain": [
       "                                                 url make_model  \\\n",
       "0  https://www.autoscout24.com//offers/audi-a1-sp...    Audi A1   \n",
       "1  https://www.autoscout24.com//offers/audi-a1-1-...    Audi A1   \n",
       "2  https://www.autoscout24.com//offers/audi-a1-sp...    Audi A1   \n",
       "3  https://www.autoscout24.com//offers/audi-a1-1-...    Audi A1   \n",
       "4  https://www.autoscout24.com//offers/audi-a1-sp...    Audi A1   \n",
       "\n",
       "                                   short_description body_type  price  \\\n",
       "0        Sportback 1.4 TDI S-tronic Xenon Navi Klima    Sedans  15770   \n",
       "1                                     1.8 TFSI sport    Sedans  14500   \n",
       "2  Sportback 1.6 TDI S tronic Einparkhilfe plus+m...    Sedans  14640   \n",
       "3                            1.4 TDi Design S tronic    Sedans  14500   \n",
       "4  Sportback 1.4 TDI S-Tronic S-Line Ext. admired...    Sedans  16790   \n",
       "\n",
       "                vat         km registration         prev_owner  kW  ...  \\\n",
       "0    VAT deductible  56,013 km      01/2016  2 previous owners NaN  ...   \n",
       "1  Price negotiable  80,000 km      03/2017               None NaN  ...   \n",
       "2    VAT deductible  83,450 km      02/2016   1 previous owner NaN  ...   \n",
       "3              None  73,000 km      08/2016   1 previous owner NaN  ...   \n",
       "4              None  16,200 km      05/2016   1 previous owner NaN  ...   \n",
       "\n",
       "                                         description   Emission Label  \\\n",
       "0  [\\n, Sicherheit:,  , Deaktivierung für Beifahr...              NaN   \n",
       "1  [\\nLangstreckenfahrzeug daher die hohe Kilomet...  [\\n4 (Green)\\n]   \n",
       "2  [\\n, Fahrzeug-Nummer: AM-95365,  , Ehem. UPE 2...  [\\n4 (Green)\\n]   \n",
       "3  [\\nAudi A1: , - 1e eigenaar , - Perfecte staat...              NaN   \n",
       "4  [\\n, Technik & Sicherheit:, Xenon plus, Klimaa...              NaN   \n",
       "\n",
       "     Gears Country version Electricity consumption Last Service Date  \\\n",
       "0      NaN             NaN                     NaN               NaN   \n",
       "1  [\\n7\\n]             NaN                     NaN               NaN   \n",
       "2      NaN             NaN                     NaN               NaN   \n",
       "3  [\\n6\\n]             NaN                     NaN               NaN   \n",
       "4      NaN   [\\nGermany\\n]                     NaN               NaN   \n",
       "\n",
       "  Other Fuel Types Availability Last Timing Belt Service Date Available from  \n",
       "0              NaN          NaN                           NaN            NaN  \n",
       "1              NaN          NaN                           NaN            NaN  \n",
       "2              NaN          NaN                           NaN            NaN  \n",
       "3              NaN          NaN                           NaN            NaN  \n",
       "4              NaN          NaN                           NaN            NaN  \n",
       "\n",
       "[5 rows x 54 columns]"
      ]
     },
     "execution_count": 2,
     "metadata": {},
     "output_type": "execute_result"
    }
   ],
   "source": [
    "df = pd.read_json(\"scout_car.json\" , lines = True) # lines = True parameter is essential %80 of json datasets.\n",
    "df.head()"
   ]
  },
  {
   "cell_type": "code",
   "execution_count": 3,
   "metadata": {},
   "outputs": [
    {
     "data": {
      "text/plain": [
       "(15919, 54)"
      ]
     },
     "execution_count": 3,
     "metadata": {},
     "output_type": "execute_result"
    }
   ],
   "source": [
    "df.shape # 15919 data and 54 columns."
   ]
  },
  {
   "cell_type": "code",
   "execution_count": 4,
   "metadata": {},
   "outputs": [
    {
     "data": {
      "text/plain": [
       "Index(['url', 'make_model', 'short_description', 'body_type', 'price', 'vat',\n",
       "       'km', 'registration', 'prev_owner', 'kW', 'hp', 'Type',\n",
       "       'Previous Owners', 'Next Inspection', 'Inspection new', 'Warranty',\n",
       "       'Full Service', 'Non-smoking Vehicle', 'null', 'Make', 'Model',\n",
       "       'Offer Number', 'First Registration', 'Body Color', 'Paint Type',\n",
       "       'Body Color Original', 'Upholstery', 'Body', 'Nr. of Doors',\n",
       "       'Nr. of Seats', 'Model Code', 'Gearing Type', 'Displacement',\n",
       "       'Cylinders', 'Weight', 'Drive chain', 'Fuel', 'Consumption',\n",
       "       'CO2 Emission', 'Emission Class', '\\nComfort & Convenience\\n',\n",
       "       '\\nEntertainment & Media\\n', '\\nExtras\\n', '\\nSafety & Security\\n',\n",
       "       'description', 'Emission Label', 'Gears', 'Country version',\n",
       "       'Electricity consumption', 'Last Service Date', 'Other Fuel Types',\n",
       "       'Availability', 'Last Timing Belt Service Date', 'Available from'],\n",
       "      dtype='object')"
      ]
     },
     "execution_count": 4,
     "metadata": {},
     "output_type": "execute_result"
    }
   ],
   "source": [
    "df.columns # Oh we have 54 features. Probably some of them are irrelevant and should be dropped."
   ]
  },
  {
   "cell_type": "code",
   "execution_count": 5,
   "metadata": {},
   "outputs": [
    {
     "data": {
      "text/plain": [
       "url                                  0\n",
       "make_model                           0\n",
       "short_description                   46\n",
       "body_type                           60\n",
       "price                                0\n",
       "vat                               4513\n",
       "km                                   0\n",
       "registration                         0\n",
       "prev_owner                        6828\n",
       "kW                               15919\n",
       "hp                                   0\n",
       "Type                                 2\n",
       "Previous Owners                   6640\n",
       "Next Inspection                  12384\n",
       "Inspection new                   11987\n",
       "Warranty                          5420\n",
       "Full Service                      7704\n",
       "Non-smoking Vehicle               8742\n",
       "null                                 0\n",
       "Make                                 0\n",
       "Model                                0\n",
       "Offer Number                      3175\n",
       "First Registration                1597\n",
       "Body Color                         597\n",
       "Paint Type                        5772\n",
       "Body Color Original               3759\n",
       "Upholstery                        3720\n",
       "Body                                60\n",
       "Nr. of Doors                       212\n",
       "Nr. of Seats                       977\n",
       "Model Code                       10941\n",
       "Gearing Type                         0\n",
       "Displacement                       496\n",
       "Cylinders                         5680\n",
       "Weight                            6974\n",
       "Drive chain                       6858\n",
       "Fuel                                 0\n",
       "Consumption                       1906\n",
       "CO2 Emission                      1808\n",
       "Emission Class                    3021\n",
       "\\nComfort & Convenience\\n          920\n",
       "\\nEntertainment & Media\\n         1374\n",
       "\\nExtras\\n                        2962\n",
       "\\nSafety & Security\\n              982\n",
       "description                          0\n",
       "Emission Label                   11934\n",
       "Gears                             4712\n",
       "Country version                   8333\n",
       "Electricity consumption          15782\n",
       "Last Service Date                15353\n",
       "Other Fuel Types                 15039\n",
       "Availability                     15284\n",
       "Last Timing Belt Service Date    15903\n",
       "Available from                   15647\n",
       "dtype: int64"
      ]
     },
     "execution_count": 5,
     "metadata": {},
     "output_type": "execute_result"
    }
   ],
   "source": [
    "df.isna().sum() # Some features have too many nan values."
   ]
  },
  {
   "cell_type": "code",
   "execution_count": 6,
   "metadata": {},
   "outputs": [
    {
     "name": "stdout",
     "output_type": "stream",
     "text": [
      "<class 'pandas.core.frame.DataFrame'>\n",
      "RangeIndex: 15919 entries, 0 to 15918\n",
      "Data columns (total 54 columns):\n",
      " #   Column                         Non-Null Count  Dtype  \n",
      "---  ------                         --------------  -----  \n",
      " 0   url                            15919 non-null  object \n",
      " 1   make_model                     15919 non-null  object \n",
      " 2   short_description              15873 non-null  object \n",
      " 3   body_type                      15859 non-null  object \n",
      " 4   price                          15919 non-null  int64  \n",
      " 5   vat                            11406 non-null  object \n",
      " 6   km                             15919 non-null  object \n",
      " 7   registration                   15919 non-null  object \n",
      " 8   prev_owner                     9091 non-null   object \n",
      " 9   kW                             0 non-null      float64\n",
      " 10  hp                             15919 non-null  object \n",
      " 11  Type                           15917 non-null  object \n",
      " 12  Previous Owners                9279 non-null   object \n",
      " 13  Next Inspection                3535 non-null   object \n",
      " 14  Inspection new                 3932 non-null   object \n",
      " 15  Warranty                       10499 non-null  object \n",
      " 16  Full Service                   8215 non-null   object \n",
      " 17  Non-smoking Vehicle            7177 non-null   object \n",
      " 18  null                           15919 non-null  object \n",
      " 19  Make                           15919 non-null  object \n",
      " 20  Model                          15919 non-null  object \n",
      " 21  Offer Number                   12744 non-null  object \n",
      " 22  First Registration             14322 non-null  object \n",
      " 23  Body Color                     15322 non-null  object \n",
      " 24  Paint Type                     10147 non-null  object \n",
      " 25  Body Color Original            12160 non-null  object \n",
      " 26  Upholstery                     12199 non-null  object \n",
      " 27  Body                           15859 non-null  object \n",
      " 28  Nr. of Doors                   15707 non-null  object \n",
      " 29  Nr. of Seats                   14942 non-null  object \n",
      " 30  Model Code                     4978 non-null   object \n",
      " 31  Gearing Type                   15919 non-null  object \n",
      " 32  Displacement                   15423 non-null  object \n",
      " 33  Cylinders                      10239 non-null  object \n",
      " 34  Weight                         8945 non-null   object \n",
      " 35  Drive chain                    9061 non-null   object \n",
      " 36  Fuel                           15919 non-null  object \n",
      " 37  Consumption                    14013 non-null  object \n",
      " 38  CO2 Emission                   14111 non-null  object \n",
      " 39  Emission Class                 12898 non-null  object \n",
      " 40  \n",
      "Comfort & Convenience\n",
      "        14999 non-null  object \n",
      " 41  \n",
      "Entertainment & Media\n",
      "        14545 non-null  object \n",
      " 42  \n",
      "Extras\n",
      "                       12957 non-null  object \n",
      " 43  \n",
      "Safety & Security\n",
      "            14937 non-null  object \n",
      " 44  description                    15919 non-null  object \n",
      " 45  Emission Label                 3985 non-null   object \n",
      " 46  Gears                          11207 non-null  object \n",
      " 47  Country version                7586 non-null   object \n",
      " 48  Electricity consumption        137 non-null    object \n",
      " 49  Last Service Date              566 non-null    object \n",
      " 50  Other Fuel Types               880 non-null    object \n",
      " 51  Availability                   635 non-null    object \n",
      " 52  Last Timing Belt Service Date  16 non-null     object \n",
      " 53  Available from                 272 non-null    object \n",
      "dtypes: float64(1), int64(1), object(52)\n",
      "memory usage: 6.6+ MB\n"
     ]
    }
   ],
   "source": [
    "df.info()"
   ]
  },
  {
   "cell_type": "code",
   "execution_count": 7,
   "metadata": {},
   "outputs": [],
   "source": [
    "def dropAllNan():\n",
    "    for i in df.columns:\n",
    "        if df[i].isna().all():\n",
    "            df.drop(i,axis = 1 , inplace = True)\n",
    "\n",
    "dropAllNan() # Lets start. We dropped columns who have full nan values. 2 Cols dropped."
   ]
  },
  {
   "cell_type": "code",
   "execution_count": 8,
   "metadata": {},
   "outputs": [],
   "source": [
    "def dropMostNan():\n",
    "    for i in df.columns:\n",
    "        if df[i].isna().sum() > df.shape[0] * 0.9:\n",
    "            df.drop(i,axis = 1 , inplace = True)\n",
    "dropMostNan() # We also dropped columns who have % 90 of nan values. 6 cols dropped. We can't use that columns with very little data..."
   ]
  },
  {
   "cell_type": "code",
   "execution_count": 9,
   "metadata": {},
   "outputs": [
    {
     "name": "stdout",
     "output_type": "stream",
     "text": [
      "<class 'pandas.core.frame.DataFrame'>\n",
      "RangeIndex: 15919 entries, 0 to 15918\n",
      "Data columns (total 47 columns):\n",
      " #   Column                   Non-Null Count  Dtype \n",
      "---  ------                   --------------  ----- \n",
      " 0   url                      15919 non-null  object\n",
      " 1   make_model               15919 non-null  object\n",
      " 2   short_description        15873 non-null  object\n",
      " 3   body_type                15859 non-null  object\n",
      " 4   price                    15919 non-null  int64 \n",
      " 5   vat                      11406 non-null  object\n",
      " 6   km                       15919 non-null  object\n",
      " 7   registration             15919 non-null  object\n",
      " 8   prev_owner               9091 non-null   object\n",
      " 9   hp                       15919 non-null  object\n",
      " 10  Type                     15917 non-null  object\n",
      " 11  Previous Owners          9279 non-null   object\n",
      " 12  Next Inspection          3535 non-null   object\n",
      " 13  Inspection new           3932 non-null   object\n",
      " 14  Warranty                 10499 non-null  object\n",
      " 15  Full Service             8215 non-null   object\n",
      " 16  Non-smoking Vehicle      7177 non-null   object\n",
      " 17  null                     15919 non-null  object\n",
      " 18  Make                     15919 non-null  object\n",
      " 19  Model                    15919 non-null  object\n",
      " 20  Offer Number             12744 non-null  object\n",
      " 21  First Registration       14322 non-null  object\n",
      " 22  Body Color               15322 non-null  object\n",
      " 23  Paint Type               10147 non-null  object\n",
      " 24  Body Color Original      12160 non-null  object\n",
      " 25  Upholstery               12199 non-null  object\n",
      " 26  Body                     15859 non-null  object\n",
      " 27  Nr. of Doors             15707 non-null  object\n",
      " 28  Nr. of Seats             14942 non-null  object\n",
      " 29  Model Code               4978 non-null   object\n",
      " 30  Gearing Type             15919 non-null  object\n",
      " 31  Displacement             15423 non-null  object\n",
      " 32  Cylinders                10239 non-null  object\n",
      " 33  Weight                   8945 non-null   object\n",
      " 34  Drive chain              9061 non-null   object\n",
      " 35  Fuel                     15919 non-null  object\n",
      " 36  Consumption              14013 non-null  object\n",
      " 37  CO2 Emission             14111 non-null  object\n",
      " 38  Emission Class           12898 non-null  object\n",
      " 39  \n",
      "Comfort & Convenience\n",
      "  14999 non-null  object\n",
      " 40  \n",
      "Entertainment & Media\n",
      "  14545 non-null  object\n",
      " 41  \n",
      "Extras\n",
      "                 12957 non-null  object\n",
      " 42  \n",
      "Safety & Security\n",
      "      14937 non-null  object\n",
      " 43  description              15919 non-null  object\n",
      " 44  Emission Label           3985 non-null   object\n",
      " 45  Gears                    11207 non-null  object\n",
      " 46  Country version          7586 non-null   object\n",
      "dtypes: int64(1), object(46)\n",
      "memory usage: 5.7+ MB\n"
     ]
    }
   ],
   "source": [
    "df.info()"
   ]
  },
  {
   "cell_type": "code",
   "execution_count": 10,
   "metadata": {},
   "outputs": [],
   "source": [
    "df.drop(\"make_model\", axis = 1 , inplace = True) # We have make and model columns\n",
    "df.drop(\"url\", axis = 1 , inplace = True) # We cant use this feature.\n",
    "df.drop(\"short_description\", axis = 1 , inplace = True) # This feature also unnecessary for our analysis.\n",
    "df.drop(\"Previous Owners\", axis = 1 , inplace = True) # Too many irrelevant data. And have same feature named \"prew_owner\" \n",
    "df.drop(\"null\", axis = 1 , inplace = True) # Full null values\n",
    "df.drop(\"Non-smoking Vehicle\", axis = 1 , inplace = True) # irrelevant datas"
   ]
  },
  {
   "cell_type": "code",
   "execution_count": 11,
   "metadata": {},
   "outputs": [
    {
     "data": {
      "text/plain": [
       "Index(['body_type', 'price', 'vat', 'km', 'registration', 'prev_owner', 'hp',\n",
       "       'Type', 'Next Inspection', 'Inspection new', 'Warranty', 'Full Service',\n",
       "       'Make', 'Model', 'Offer Number', 'First Registration', 'Body Color',\n",
       "       'Paint Type', 'Body Color Original', 'Upholstery', 'Body',\n",
       "       'Nr. of Doors', 'Nr. of Seats', 'Model Code', 'Gearing Type',\n",
       "       'Displacement', 'Cylinders', 'Weight', 'Drive chain', 'Fuel',\n",
       "       'Consumption', 'CO2 Emission', 'Emission Class',\n",
       "       '\\nComfort & Convenience\\n', '\\nEntertainment & Media\\n', '\\nExtras\\n',\n",
       "       '\\nSafety & Security\\n', 'description', 'Emission Label', 'Gears',\n",
       "       'Country version'],\n",
       "      dtype='object')"
      ]
     },
     "execution_count": 11,
     "metadata": {},
     "output_type": "execute_result"
    }
   ],
   "source": [
    "df.columns "
   ]
  },
  {
   "cell_type": "code",
   "execution_count": 12,
   "metadata": {},
   "outputs": [
    {
     "name": "stdout",
     "output_type": "stream",
     "text": [
      "<class 'pandas.core.frame.DataFrame'>\n",
      "RangeIndex: 15919 entries, 0 to 15918\n",
      "Data columns (total 41 columns):\n",
      " #   Column                   Non-Null Count  Dtype \n",
      "---  ------                   --------------  ----- \n",
      " 0   body_type                15859 non-null  object\n",
      " 1   price                    15919 non-null  int64 \n",
      " 2   vat                      11406 non-null  object\n",
      " 3   km                       15919 non-null  object\n",
      " 4   registration             15919 non-null  object\n",
      " 5   prev_owner               9091 non-null   object\n",
      " 6   hp                       15919 non-null  object\n",
      " 7   Type                     15917 non-null  object\n",
      " 8   Next Inspection          3535 non-null   object\n",
      " 9   Inspection new           3932 non-null   object\n",
      " 10  Warranty                 10499 non-null  object\n",
      " 11  Full Service             8215 non-null   object\n",
      " 12  Make                     15919 non-null  object\n",
      " 13  Model                    15919 non-null  object\n",
      " 14  Offer Number             12744 non-null  object\n",
      " 15  First Registration       14322 non-null  object\n",
      " 16  Body Color               15322 non-null  object\n",
      " 17  Paint Type               10147 non-null  object\n",
      " 18  Body Color Original      12160 non-null  object\n",
      " 19  Upholstery               12199 non-null  object\n",
      " 20  Body                     15859 non-null  object\n",
      " 21  Nr. of Doors             15707 non-null  object\n",
      " 22  Nr. of Seats             14942 non-null  object\n",
      " 23  Model Code               4978 non-null   object\n",
      " 24  Gearing Type             15919 non-null  object\n",
      " 25  Displacement             15423 non-null  object\n",
      " 26  Cylinders                10239 non-null  object\n",
      " 27  Weight                   8945 non-null   object\n",
      " 28  Drive chain              9061 non-null   object\n",
      " 29  Fuel                     15919 non-null  object\n",
      " 30  Consumption              14013 non-null  object\n",
      " 31  CO2 Emission             14111 non-null  object\n",
      " 32  Emission Class           12898 non-null  object\n",
      " 33  \n",
      "Comfort & Convenience\n",
      "  14999 non-null  object\n",
      " 34  \n",
      "Entertainment & Media\n",
      "  14545 non-null  object\n",
      " 35  \n",
      "Extras\n",
      "                 12957 non-null  object\n",
      " 36  \n",
      "Safety & Security\n",
      "      14937 non-null  object\n",
      " 37  description              15919 non-null  object\n",
      " 38  Emission Label           3985 non-null   object\n",
      " 39  Gears                    11207 non-null  object\n",
      " 40  Country version          7586 non-null   object\n",
      "dtypes: int64(1), object(40)\n",
      "memory usage: 5.0+ MB\n"
     ]
    }
   ],
   "source": [
    "df.info() # km is object. I'll fix it."
   ]
  },
  {
   "cell_type": "code",
   "execution_count": 13,
   "metadata": {},
   "outputs": [
    {
     "data": {
      "text/plain": [
       "0        56,013 km\n",
       "1        80,000 km\n",
       "2        83,450 km\n",
       "3        73,000 km\n",
       "4        16,200 km\n",
       "           ...    \n",
       "15914         - km\n",
       "15915     9,900 km\n",
       "15916        15 km\n",
       "15917        10 km\n",
       "15918         - km\n",
       "Name: km, Length: 15919, dtype: object"
      ]
     },
     "execution_count": 13,
     "metadata": {},
     "output_type": "execute_result"
    }
   ],
   "source": [
    "df[\"km\"] # Some values \"-\"\" and others have \",\" and \"km\""
   ]
  },
  {
   "cell_type": "code",
   "execution_count": 14,
   "metadata": {},
   "outputs": [
    {
     "data": {
      "text/plain": [
       "0        56.013\n",
       "1        80.000\n",
       "2        83.450\n",
       "3        73.000\n",
       "4        16.200\n",
       "          ...  \n",
       "15914     0.000\n",
       "15915     9.900\n",
       "15916    15.000\n",
       "15917    10.000\n",
       "15918     0.000\n",
       "Name: km, Length: 15919, dtype: float64"
      ]
     },
     "execution_count": 14,
     "metadata": {},
     "output_type": "execute_result"
    }
   ],
   "source": [
    "df[\"km\"] = df[\"km\"].apply(lambda x : x.replace(\",\" , \".\"))\n",
    "df[\"km\"] = df[\"km\"].apply(lambda x : x.replace(\"-\" , \"0\"))\n",
    "df[\"km\"] = df[\"km\"].apply(lambda x : x.replace(\"km\" , \"\"))\n",
    "df.km = df.km.astype(\"float64\")\n",
    "df.km"
   ]
  },
  {
   "cell_type": "code",
   "execution_count": 15,
   "metadata": {},
   "outputs": [
    {
     "data": {
      "text/plain": [
       "-/-        1597\n",
       "03/2018     695\n",
       "02/2019     585\n",
       "05/2018     572\n",
       "03/2019     543\n",
       "01/2019     541\n",
       "04/2018     541\n",
       "02/2018     539\n",
       "03/2016     536\n",
       "04/2016     532\n",
       "06/2018     532\n",
       "01/2018     511\n",
       "04/2019     506\n",
       "02/2016     472\n",
       "03/2017     471\n",
       "05/2016     459\n",
       "06/2016     452\n",
       "05/2019     440\n",
       "06/2017     409\n",
       "05/2017     404\n",
       "07/2018     396\n",
       "04/2017     380\n",
       "01/2016     376\n",
       "02/2017     368\n",
       "01/2017     306\n",
       "08/2018     285\n",
       "06/2019     224\n",
       "07/2017     215\n",
       "11/2017     180\n",
       "07/2016     176\n",
       "10/2016     160\n",
       "10/2017     154\n",
       "09/2017     149\n",
       "11/2016     142\n",
       "09/2018     141\n",
       "09/2016     141\n",
       "12/2016     134\n",
       "12/2017     123\n",
       "08/2017     114\n",
       "11/2018     110\n",
       "12/2018     103\n",
       "10/2018      97\n",
       "08/2016      94\n",
       "07/2019       6\n",
       "09/2019       5\n",
       "08/2019       1\n",
       "11/2019       1\n",
       "12/2019       1\n",
       "Name: registration, dtype: int64"
      ]
     },
     "execution_count": 15,
     "metadata": {},
     "output_type": "execute_result"
    }
   ],
   "source": [
    "df.registration.value_counts() # 1597 -/- values. Lets do them 01/2020 and make their type as datetime64."
   ]
  },
  {
   "cell_type": "code",
   "execution_count": 16,
   "metadata": {},
   "outputs": [
    {
     "name": "stdout",
     "output_type": "stream",
     "text": [
      "<class 'pandas.core.frame.DataFrame'>\n",
      "RangeIndex: 15919 entries, 0 to 15918\n",
      "Data columns (total 41 columns):\n",
      " #   Column                   Non-Null Count  Dtype         \n",
      "---  ------                   --------------  -----         \n",
      " 0   body_type                15859 non-null  object        \n",
      " 1   price                    15919 non-null  int64         \n",
      " 2   vat                      11406 non-null  object        \n",
      " 3   km                       15919 non-null  float64       \n",
      " 4   registration             15919 non-null  datetime64[ns]\n",
      " 5   prev_owner               9091 non-null   object        \n",
      " 6   hp                       15919 non-null  object        \n",
      " 7   Type                     15917 non-null  object        \n",
      " 8   Next Inspection          3535 non-null   object        \n",
      " 9   Inspection new           3932 non-null   object        \n",
      " 10  Warranty                 10499 non-null  object        \n",
      " 11  Full Service             8215 non-null   object        \n",
      " 12  Make                     15919 non-null  object        \n",
      " 13  Model                    15919 non-null  object        \n",
      " 14  Offer Number             12744 non-null  object        \n",
      " 15  First Registration       14322 non-null  object        \n",
      " 16  Body Color               15322 non-null  object        \n",
      " 17  Paint Type               10147 non-null  object        \n",
      " 18  Body Color Original      12160 non-null  object        \n",
      " 19  Upholstery               12199 non-null  object        \n",
      " 20  Body                     15859 non-null  object        \n",
      " 21  Nr. of Doors             15707 non-null  object        \n",
      " 22  Nr. of Seats             14942 non-null  object        \n",
      " 23  Model Code               4978 non-null   object        \n",
      " 24  Gearing Type             15919 non-null  object        \n",
      " 25  Displacement             15423 non-null  object        \n",
      " 26  Cylinders                10239 non-null  object        \n",
      " 27  Weight                   8945 non-null   object        \n",
      " 28  Drive chain              9061 non-null   object        \n",
      " 29  Fuel                     15919 non-null  object        \n",
      " 30  Consumption              14013 non-null  object        \n",
      " 31  CO2 Emission             14111 non-null  object        \n",
      " 32  Emission Class           12898 non-null  object        \n",
      " 33  \n",
      "Comfort & Convenience\n",
      "  14999 non-null  object        \n",
      " 34  \n",
      "Entertainment & Media\n",
      "  14545 non-null  object        \n",
      " 35  \n",
      "Extras\n",
      "                 12957 non-null  object        \n",
      " 36  \n",
      "Safety & Security\n",
      "      14937 non-null  object        \n",
      " 37  description              15919 non-null  object        \n",
      " 38  Emission Label           3985 non-null   object        \n",
      " 39  Gears                    11207 non-null  object        \n",
      " 40  Country version          7586 non-null   object        \n",
      "dtypes: datetime64[ns](1), float64(1), int64(1), object(38)\n",
      "memory usage: 5.0+ MB\n"
     ]
    }
   ],
   "source": [
    "df[\"registration\"] = df[\"registration\"].apply(lambda x : x.replace(\"-/-\",\"01/2020\"))\n",
    "df[\"registration\"] = df[\"registration\"].astype(\"datetime64\")\n",
    "df.info()"
   ]
  },
  {
   "cell_type": "code",
   "execution_count": 17,
   "metadata": {},
   "outputs": [
    {
     "data": {
      "text/plain": [
       "1 previous owner     8294\n",
       "2 previous owners     778\n",
       "3 previous owners      17\n",
       "4 previous owners       2\n",
       "Name: prev_owner, dtype: int64"
      ]
     },
     "execution_count": 17,
     "metadata": {},
     "output_type": "execute_result"
    }
   ],
   "source": [
    "df[\"prev_owner\"].value_counts() # Looks good but have a little NaN values. And lets do others to number."
   ]
  },
  {
   "cell_type": "code",
   "execution_count": 18,
   "metadata": {},
   "outputs": [
    {
     "data": {
      "text/plain": [
       "0        2.0\n",
       "1        NaN\n",
       "2        1.0\n",
       "3        1.0\n",
       "4        1.0\n",
       "        ... \n",
       "15914    NaN\n",
       "15915    1.0\n",
       "15916    1.0\n",
       "15917    NaN\n",
       "15918    1.0\n",
       "Name: prev_owner, Length: 15919, dtype: float64"
      ]
     },
     "execution_count": 18,
     "metadata": {},
     "output_type": "execute_result"
    }
   ],
   "source": [
    "df[\"prev_owner\"] = df[\"prev_owner\"].dropna().apply(lambda x : x.replace(\" previous owners\" , \"\"))\n",
    "df[\"prev_owner\"] = df[\"prev_owner\"].dropna().apply(lambda x : x.replace(\" previous owner\" , \"\"))\n",
    "df[\"prev_owner\"] = df[\"prev_owner\"].astype(\"float64\")\n",
    "df[\"prev_owner\"]"
   ]
  },
  {
   "cell_type": "code",
   "execution_count": 19,
   "metadata": {},
   "outputs": [
    {
     "data": {
      "text/plain": [
       "85 kW     2542\n",
       "66 kW     2122\n",
       "81 kW     1402\n",
       "100 kW    1308\n",
       "110 kW    1112\n",
       "          ... \n",
       "84 kW        1\n",
       "195 kW       1\n",
       "44 kW        1\n",
       "239 kW       1\n",
       "9 kW         1\n",
       "Name: hp, Length: 81, dtype: int64"
      ]
     },
     "execution_count": 19,
     "metadata": {},
     "output_type": "execute_result"
    }
   ],
   "source": [
    "df[\"hp\"].value_counts() # Lets do it int column too."
   ]
  },
  {
   "cell_type": "code",
   "execution_count": 20,
   "metadata": {},
   "outputs": [
    {
     "data": {
      "text/plain": [
       "0         66\n",
       "1        141\n",
       "2         85\n",
       "3         66\n",
       "4         66\n",
       "        ... \n",
       "15914    147\n",
       "15915    165\n",
       "15916    146\n",
       "15917    147\n",
       "15918    165\n",
       "Name: hp(kW), Length: 15919, dtype: int64"
      ]
     },
     "execution_count": 20,
     "metadata": {},
     "output_type": "execute_result"
    }
   ],
   "source": [
    "df[\"hp\"] = df[\"hp\"].apply(lambda x : x.replace(\" kW\" , \"\"))\n",
    "df[\"hp\"] = df[\"hp\"].apply(lambda x : x.replace(\"-\" , \"0\"))\n",
    "df.rename(columns = {\"hp\" : \"hp(kW)\"} , inplace= True)\n",
    "df[\"hp(kW)\"] = df[\"hp(kW)\"].astype(\"int64\")\n",
    "df[\"hp(kW)\"]\n"
   ]
  },
  {
   "cell_type": "code",
   "execution_count": 21,
   "metadata": {},
   "outputs": [
    {
     "data": {
      "text/html": [
       "<div>\n",
       "<style scoped>\n",
       "    .dataframe tbody tr th:only-of-type {\n",
       "        vertical-align: middle;\n",
       "    }\n",
       "\n",
       "    .dataframe tbody tr th {\n",
       "        vertical-align: top;\n",
       "    }\n",
       "\n",
       "    .dataframe thead th {\n",
       "        text-align: right;\n",
       "    }\n",
       "</style>\n",
       "<table border=\"1\" class=\"dataframe\">\n",
       "  <thead>\n",
       "    <tr style=\"text-align: right;\">\n",
       "      <th></th>\n",
       "      <th>body_type</th>\n",
       "      <th>price</th>\n",
       "      <th>vat</th>\n",
       "      <th>km</th>\n",
       "      <th>registration</th>\n",
       "      <th>prev_owner</th>\n",
       "      <th>hp(kW)</th>\n",
       "      <th>Type</th>\n",
       "      <th>Next Inspection</th>\n",
       "      <th>Inspection new</th>\n",
       "      <th>...</th>\n",
       "      <th>CO2 Emission</th>\n",
       "      <th>Emission Class</th>\n",
       "      <th>\\nComfort &amp; Convenience\\n</th>\n",
       "      <th>\\nEntertainment &amp; Media\\n</th>\n",
       "      <th>\\nExtras\\n</th>\n",
       "      <th>\\nSafety &amp; Security\\n</th>\n",
       "      <th>description</th>\n",
       "      <th>Emission Label</th>\n",
       "      <th>Gears</th>\n",
       "      <th>Country version</th>\n",
       "    </tr>\n",
       "  </thead>\n",
       "  <tbody>\n",
       "    <tr>\n",
       "      <th>0</th>\n",
       "      <td>Sedans</td>\n",
       "      <td>15770</td>\n",
       "      <td>VAT deductible</td>\n",
       "      <td>56.013</td>\n",
       "      <td>2016-01-01</td>\n",
       "      <td>2.0</td>\n",
       "      <td>66</td>\n",
       "      <td>[, Used, , Diesel (Particulate Filter)]</td>\n",
       "      <td>[\\n06/2021\\n, \\n99 g CO2/km (comb)\\n]</td>\n",
       "      <td>[\\nYes\\n, \\nEuro 6\\n]</td>\n",
       "      <td>...</td>\n",
       "      <td>[\\n99 g CO2/km (comb)\\n]</td>\n",
       "      <td>[\\nEuro 6\\n]</td>\n",
       "      <td>[Air conditioning, Armrest, Automatic climate ...</td>\n",
       "      <td>[Bluetooth, Hands-free equipment, On-board com...</td>\n",
       "      <td>[Alloy wheels, Catalytic Converter, Voice Cont...</td>\n",
       "      <td>[ABS, Central door lock, Daytime running light...</td>\n",
       "      <td>[\\n, Sicherheit:,  , Deaktivierung für Beifahr...</td>\n",
       "      <td>NaN</td>\n",
       "      <td>NaN</td>\n",
       "      <td>NaN</td>\n",
       "    </tr>\n",
       "    <tr>\n",
       "      <th>1</th>\n",
       "      <td>Sedans</td>\n",
       "      <td>14500</td>\n",
       "      <td>Price negotiable</td>\n",
       "      <td>80.000</td>\n",
       "      <td>2017-03-01</td>\n",
       "      <td>NaN</td>\n",
       "      <td>141</td>\n",
       "      <td>[, Used, , Gasoline]</td>\n",
       "      <td>NaN</td>\n",
       "      <td>NaN</td>\n",
       "      <td>...</td>\n",
       "      <td>[\\n129 g CO2/km (comb)\\n]</td>\n",
       "      <td>[\\nEuro 6\\n]</td>\n",
       "      <td>[Air conditioning, Automatic climate control, ...</td>\n",
       "      <td>[Bluetooth, Hands-free equipment, On-board com...</td>\n",
       "      <td>[Alloy wheels, Sport seats, Sport suspension, ...</td>\n",
       "      <td>[ABS, Central door lock, Central door lock wit...</td>\n",
       "      <td>[\\nLangstreckenfahrzeug daher die hohe Kilomet...</td>\n",
       "      <td>[\\n4 (Green)\\n]</td>\n",
       "      <td>[\\n7\\n]</td>\n",
       "      <td>NaN</td>\n",
       "    </tr>\n",
       "    <tr>\n",
       "      <th>2</th>\n",
       "      <td>Sedans</td>\n",
       "      <td>14640</td>\n",
       "      <td>VAT deductible</td>\n",
       "      <td>83.450</td>\n",
       "      <td>2016-02-01</td>\n",
       "      <td>1.0</td>\n",
       "      <td>85</td>\n",
       "      <td>[, Used, , Diesel (Particulate Filter)]</td>\n",
       "      <td>NaN</td>\n",
       "      <td>NaN</td>\n",
       "      <td>...</td>\n",
       "      <td>[\\n99 g CO2/km (comb)\\n]</td>\n",
       "      <td>[\\nEuro 6\\n]</td>\n",
       "      <td>[Air conditioning, Cruise control, Electrical ...</td>\n",
       "      <td>[MP3, On-board computer]</td>\n",
       "      <td>[Alloy wheels, Voice Control]</td>\n",
       "      <td>[ABS, Central door lock, Daytime running light...</td>\n",
       "      <td>[\\n, Fahrzeug-Nummer: AM-95365,  , Ehem. UPE 2...</td>\n",
       "      <td>[\\n4 (Green)\\n]</td>\n",
       "      <td>NaN</td>\n",
       "      <td>NaN</td>\n",
       "    </tr>\n",
       "    <tr>\n",
       "      <th>3</th>\n",
       "      <td>Sedans</td>\n",
       "      <td>14500</td>\n",
       "      <td>None</td>\n",
       "      <td>73.000</td>\n",
       "      <td>2016-08-01</td>\n",
       "      <td>1.0</td>\n",
       "      <td>66</td>\n",
       "      <td>[, Used, , Diesel (Particulate Filter)]</td>\n",
       "      <td>NaN</td>\n",
       "      <td>NaN</td>\n",
       "      <td>...</td>\n",
       "      <td>[\\n99 g CO2/km (comb)\\n]</td>\n",
       "      <td>[\\nEuro 6\\n]</td>\n",
       "      <td>[Air suspension, Armrest, Auxiliary heating, E...</td>\n",
       "      <td>[Bluetooth, CD player, Hands-free equipment, M...</td>\n",
       "      <td>[Alloy wheels, Sport seats, Voice Control]</td>\n",
       "      <td>[ABS, Alarm system, Central door lock with rem...</td>\n",
       "      <td>[\\nAudi A1: , - 1e eigenaar , - Perfecte staat...</td>\n",
       "      <td>NaN</td>\n",
       "      <td>[\\n6\\n]</td>\n",
       "      <td>NaN</td>\n",
       "    </tr>\n",
       "    <tr>\n",
       "      <th>4</th>\n",
       "      <td>Sedans</td>\n",
       "      <td>16790</td>\n",
       "      <td>None</td>\n",
       "      <td>16.200</td>\n",
       "      <td>2016-05-01</td>\n",
       "      <td>1.0</td>\n",
       "      <td>66</td>\n",
       "      <td>[, Used, , Diesel (Particulate Filter)]</td>\n",
       "      <td>NaN</td>\n",
       "      <td>[\\nYes\\n, \\n109 g CO2/km (comb)\\n]</td>\n",
       "      <td>...</td>\n",
       "      <td>[\\n109 g CO2/km (comb)\\n]</td>\n",
       "      <td>[\\nEuro 6\\n]</td>\n",
       "      <td>[Air conditioning, Armrest, Automatic climate ...</td>\n",
       "      <td>[Bluetooth, CD player, Hands-free equipment, M...</td>\n",
       "      <td>[Alloy wheels, Sport package, Sport suspension...</td>\n",
       "      <td>[ABS, Central door lock, Driver-side airbag, E...</td>\n",
       "      <td>[\\n, Technik &amp; Sicherheit:, Xenon plus, Klimaa...</td>\n",
       "      <td>NaN</td>\n",
       "      <td>NaN</td>\n",
       "      <td>[\\nGermany\\n]</td>\n",
       "    </tr>\n",
       "  </tbody>\n",
       "</table>\n",
       "<p>5 rows × 41 columns</p>\n",
       "</div>"
      ],
      "text/plain": [
       "  body_type  price               vat      km registration  prev_owner  hp(kW)  \\\n",
       "0    Sedans  15770    VAT deductible  56.013   2016-01-01         2.0      66   \n",
       "1    Sedans  14500  Price negotiable  80.000   2017-03-01         NaN     141   \n",
       "2    Sedans  14640    VAT deductible  83.450   2016-02-01         1.0      85   \n",
       "3    Sedans  14500              None  73.000   2016-08-01         1.0      66   \n",
       "4    Sedans  16790              None  16.200   2016-05-01         1.0      66   \n",
       "\n",
       "                                      Type  \\\n",
       "0  [, Used, , Diesel (Particulate Filter)]   \n",
       "1                     [, Used, , Gasoline]   \n",
       "2  [, Used, , Diesel (Particulate Filter)]   \n",
       "3  [, Used, , Diesel (Particulate Filter)]   \n",
       "4  [, Used, , Diesel (Particulate Filter)]   \n",
       "\n",
       "                         Next Inspection                      Inspection new  \\\n",
       "0  [\\n06/2021\\n, \\n99 g CO2/km (comb)\\n]               [\\nYes\\n, \\nEuro 6\\n]   \n",
       "1                                    NaN                                 NaN   \n",
       "2                                    NaN                                 NaN   \n",
       "3                                    NaN                                 NaN   \n",
       "4                                    NaN  [\\nYes\\n, \\n109 g CO2/km (comb)\\n]   \n",
       "\n",
       "   ...               CO2 Emission Emission Class  \\\n",
       "0  ...   [\\n99 g CO2/km (comb)\\n]   [\\nEuro 6\\n]   \n",
       "1  ...  [\\n129 g CO2/km (comb)\\n]   [\\nEuro 6\\n]   \n",
       "2  ...   [\\n99 g CO2/km (comb)\\n]   [\\nEuro 6\\n]   \n",
       "3  ...   [\\n99 g CO2/km (comb)\\n]   [\\nEuro 6\\n]   \n",
       "4  ...  [\\n109 g CO2/km (comb)\\n]   [\\nEuro 6\\n]   \n",
       "\n",
       "                           \\nComfort & Convenience\\n  \\\n",
       "0  [Air conditioning, Armrest, Automatic climate ...   \n",
       "1  [Air conditioning, Automatic climate control, ...   \n",
       "2  [Air conditioning, Cruise control, Electrical ...   \n",
       "3  [Air suspension, Armrest, Auxiliary heating, E...   \n",
       "4  [Air conditioning, Armrest, Automatic climate ...   \n",
       "\n",
       "                           \\nEntertainment & Media\\n  \\\n",
       "0  [Bluetooth, Hands-free equipment, On-board com...   \n",
       "1  [Bluetooth, Hands-free equipment, On-board com...   \n",
       "2                           [MP3, On-board computer]   \n",
       "3  [Bluetooth, CD player, Hands-free equipment, M...   \n",
       "4  [Bluetooth, CD player, Hands-free equipment, M...   \n",
       "\n",
       "                                          \\nExtras\\n  \\\n",
       "0  [Alloy wheels, Catalytic Converter, Voice Cont...   \n",
       "1  [Alloy wheels, Sport seats, Sport suspension, ...   \n",
       "2                      [Alloy wheels, Voice Control]   \n",
       "3         [Alloy wheels, Sport seats, Voice Control]   \n",
       "4  [Alloy wheels, Sport package, Sport suspension...   \n",
       "\n",
       "                               \\nSafety & Security\\n  \\\n",
       "0  [ABS, Central door lock, Daytime running light...   \n",
       "1  [ABS, Central door lock, Central door lock wit...   \n",
       "2  [ABS, Central door lock, Daytime running light...   \n",
       "3  [ABS, Alarm system, Central door lock with rem...   \n",
       "4  [ABS, Central door lock, Driver-side airbag, E...   \n",
       "\n",
       "                                         description   Emission Label  \\\n",
       "0  [\\n, Sicherheit:,  , Deaktivierung für Beifahr...              NaN   \n",
       "1  [\\nLangstreckenfahrzeug daher die hohe Kilomet...  [\\n4 (Green)\\n]   \n",
       "2  [\\n, Fahrzeug-Nummer: AM-95365,  , Ehem. UPE 2...  [\\n4 (Green)\\n]   \n",
       "3  [\\nAudi A1: , - 1e eigenaar , - Perfecte staat...              NaN   \n",
       "4  [\\n, Technik & Sicherheit:, Xenon plus, Klimaa...              NaN   \n",
       "\n",
       "     Gears Country version  \n",
       "0      NaN             NaN  \n",
       "1  [\\n7\\n]             NaN  \n",
       "2      NaN             NaN  \n",
       "3  [\\n6\\n]             NaN  \n",
       "4      NaN   [\\nGermany\\n]  \n",
       "\n",
       "[5 rows x 41 columns]"
      ]
     },
     "execution_count": 21,
     "metadata": {},
     "output_type": "execute_result"
    }
   ],
   "source": [
    "df.head()"
   ]
  },
  {
   "cell_type": "code",
   "execution_count": 22,
   "metadata": {},
   "outputs": [
    {
     "data": {
      "text/plain": [
       "Index(['body_type', 'price', 'vat', 'km', 'registration', 'prev_owner',\n",
       "       'hp(kW)', 'Type', 'Next Inspection', 'Inspection new', 'Warranty',\n",
       "       'Full Service', 'Make', 'Model', 'Offer Number', 'First Registration',\n",
       "       'Body Color', 'Paint Type', 'Body Color Original', 'Upholstery', 'Body',\n",
       "       'Nr. of Doors', 'Nr. of Seats', 'Model Code', 'Gearing Type',\n",
       "       'Displacement', 'Cylinders', 'Weight', 'Drive chain', 'Fuel',\n",
       "       'Consumption', 'CO2 Emission', 'Emission Class',\n",
       "       '\\nComfort & Convenience\\n', '\\nEntertainment & Media\\n', '\\nExtras\\n',\n",
       "       '\\nSafety & Security\\n', 'description', 'Emission Label', 'Gears',\n",
       "       'Country version'],\n",
       "      dtype='object')"
      ]
     },
     "execution_count": 22,
     "metadata": {},
     "output_type": "execute_result"
    }
   ],
   "source": [
    "df.columns"
   ]
  },
  {
   "cell_type": "code",
   "execution_count": 23,
   "metadata": {},
   "outputs": [
    {
     "data": {
      "text/plain": [
       "0                  [, Used, , Diesel (Particulate Filter)]\n",
       "1                                     [, Used, , Gasoline]\n",
       "2                  [, Used, , Diesel (Particulate Filter)]\n",
       "3                  [, Used, , Diesel (Particulate Filter)]\n",
       "4                  [, Used, , Diesel (Particulate Filter)]\n",
       "                               ...                        \n",
       "15914               [, New, , Diesel (Particulate Filter)]\n",
       "15915    [, Used, , Super 95 / Super Plus 98 (Particula...\n",
       "15916                         [, Pre-registered, , Diesel]\n",
       "15917                         [, Pre-registered, , Diesel]\n",
       "15918                        [, Demonstration, , Super 95]\n",
       "Name: Type, Length: 15919, dtype: object"
      ]
     },
     "execution_count": 23,
     "metadata": {},
     "output_type": "execute_result"
    }
   ],
   "source": [
    "df[\"Type\"] # Too dirty data. But we can get clear it."
   ]
  },
  {
   "cell_type": "code",
   "execution_count": 24,
   "metadata": {},
   "outputs": [
    {
     "name": "stdout",
     "output_type": "stream",
     "text": [
      "['', 'Used', '', 'Diesel (Particulate Filter)']\n",
      "Used\n",
      "Diesel (Particulate Filter)\n",
      "<class 'list'>\n"
     ]
    }
   ],
   "source": [
    "print(df[\"Type\"][0])\n",
    "print(df[\"Type\"][0][1])\n",
    "print(df[\"Type\"][0][-1])\n",
    "print(type(df[\"Type\"][0])) # list type. But only 0.index."
   ]
  },
  {
   "cell_type": "code",
   "execution_count": 25,
   "metadata": {},
   "outputs": [
    {
     "data": {
      "text/plain": [
       "0                       Used - Diesel (Particulate Filter)\n",
       "1                                          Used - Gasoline\n",
       "2                       Used - Diesel (Particulate Filter)\n",
       "3                       Used - Diesel (Particulate Filter)\n",
       "4                       Used - Diesel (Particulate Filter)\n",
       "                               ...                        \n",
       "15914                    New - Diesel (Particulate Filter)\n",
       "15915    Used - Super 95 / Super Plus 98 (Particulate F...\n",
       "15916                              Pre-registered - Diesel\n",
       "15917                              Pre-registered - Diesel\n",
       "15918                             Demonstration - Super 95\n",
       "Name: Type, Length: 15919, dtype: object"
      ]
     },
     "execution_count": 25,
     "metadata": {},
     "output_type": "execute_result"
    }
   ],
   "source": [
    "df[\"Type\"] = df[\"Type\"].dropna().apply(lambda x : x[1] + \" - \" + x[-1]) # Done. Looks perfect.\n",
    "df.Type"
   ]
  },
  {
   "cell_type": "code",
   "execution_count": 26,
   "metadata": {},
   "outputs": [
    {
     "name": "stdout",
     "output_type": "stream",
     "text": [
      "0         [\\n06/2021\\n, \\n99 g CO2/km (comb)\\n]\n",
      "1                                           NaN\n",
      "2                                           NaN\n",
      "3                                           NaN\n",
      "4                                           NaN\n",
      "                          ...                  \n",
      "15914                                       NaN\n",
      "15915    [\\n01/2022\\n, \\n168 g CO2/km (comb)\\n]\n",
      "15916                                       NaN\n",
      "15917                                       NaN\n",
      "15918                                       NaN\n",
      "Name: Next Inspection, Length: 15919, dtype: object\n",
      "12384\n",
      "['\\n06/2021\\n', '\\n99 g CO2/km (comb)\\n']\n",
      "<class 'pandas.core.series.Series'>\n"
     ]
    }
   ],
   "source": [
    "print(df[\"Next Inspection\"])\n",
    "print(df[\"Next Inspection\"].isna().sum())\n",
    "print(df[\"Next Inspection\"][0])\n",
    "print(type(df[\"Next Inspection\"])) # 12384 nan value. Only around 3800 non-null values. And dirty a bit. I think we can drop it.\n",
    "df.drop(\"Next Inspection\" , axis =1 , inplace = True)"
   ]
  },
  {
   "cell_type": "code",
   "execution_count": 27,
   "metadata": {},
   "outputs": [
    {
     "name": "stdout",
     "output_type": "stream",
     "text": [
      "0                     [\\nYes\\n, \\nEuro 6\\n]\n",
      "1                                       NaN\n",
      "2                                       NaN\n",
      "3                                       NaN\n",
      "4        [\\nYes\\n, \\n109 g CO2/km (comb)\\n]\n",
      "                        ...                \n",
      "15914                                   NaN\n",
      "15915                                   NaN\n",
      "15916           [\\nYes\\n, \\nEuro 6d-TEMP\\n]\n",
      "15917                                   NaN\n",
      "15918    [\\nYes\\n, \\n153 g CO2/km (comb)\\n]\n",
      "Name: Inspection new, Length: 15919, dtype: object\n",
      "11987\n"
     ]
    }
   ],
   "source": [
    "print(df[\"Inspection new\"])\n",
    "print(df[\"Inspection new\"].isna().sum()) # Same. 12000 nan values. Only around 4000 non-null values. And not critical feature. Let's drop\n",
    "df.drop(\"Inspection new\" , axis = 1 , inplace= True)"
   ]
  },
  {
   "cell_type": "code",
   "execution_count": 28,
   "metadata": {},
   "outputs": [
    {
     "name": "stdout",
     "output_type": "stream",
     "text": [
      "0                 [\\n, \\n, \\n4 (Green)\\n]\n",
      "1                                     NaN\n",
      "2        [\\n, \\n, \\n99 g CO2/km (comb)\\n]\n",
      "3                                     NaN\n",
      "4                    [\\n, \\n, \\nEuro 6\\n]\n",
      "                       ...               \n",
      "15914                       \\n24 months\\n\n",
      "15915                [\\n, \\n, \\nEuro 6\\n]\n",
      "15916             [\\n, \\n, \\n4 (Green)\\n]\n",
      "15917                                  \\n\n",
      "15918                                 NaN\n",
      "Name: Warranty, Length: 15919, dtype: object\n",
      "5420\n",
      "[\\n, \\n, \\nEuro 6\\n]                                                                               1868\n",
      "\\n12 months\\n                                                                                      1177\n",
      "\\n                                                                                                  979\n",
      "\\n24 months\\n                                                                                       566\n",
      "[\\n, \\n, \\n4 (Green)\\n]                                                                             517\n",
      "                                                                                                   ... \n",
      "[\\n72 months\\n, \\n125 g CO2/km (comb)\\n]                                                              1\n",
      "[\\n60 months\\n, \\n14 g CO2/km (comb)\\n]                                                               1\n",
      "[\\n24 months\\n, \\n121 g CO2/km (comb)\\n]                                                              1\n",
      "[\\n12 months\\n, \\nEuro 6d\\n]                                                                          1\n",
      "[\\n36 months\\n, \\n, 7.4 l/100 km (comb), \\n, 9.6 l/100 km (city), \\n, 6 l/100 km (country), \\n]       1\n",
      "Name: Warranty, Length: 515, dtype: int64\n"
     ]
    }
   ],
   "source": [
    "print(df[\"Warranty\"])\n",
    "print(df[\"Warranty\"].isna().sum())\n",
    "print(df[\"Warranty\"].value_counts())\n",
    "df.drop(\"Warranty\" , axis = 1 , inplace= True) # Too many irrelevant data. Lets drop this column."
   ]
  },
  {
   "cell_type": "code",
   "execution_count": 29,
   "metadata": {},
   "outputs": [
    {
     "name": "stdout",
     "output_type": "stream",
     "text": [
      "0                                [\\n, \\n]\n",
      "1                                     NaN\n",
      "2                                     NaN\n",
      "3        [\\n, \\n, \\n99 g CO2/km (comb)\\n]\n",
      "4                 [\\n, \\n, \\n4 (Green)\\n]\n",
      "                       ...               \n",
      "15914                                 NaN\n",
      "15915                                 NaN\n",
      "15916                            [\\n, \\n]\n",
      "15917                                 NaN\n",
      "15918                                 NaN\n",
      "Name: Full Service, Length: 15919, dtype: object\n",
      "7704\n",
      "[\\n, \\n, \\n4 (Green)\\n]                                                                       2235\n",
      "[\\n, \\n, \\nEuro 6\\n]                                                                          2097\n",
      "[\\n, \\n]                                                                                      1702\n",
      "[\\n, \\n, \\nEuro 6d-TEMP\\n]                                                                     399\n",
      "\\n                                                                                             283\n",
      "                                                                                              ... \n",
      "[\\n, \\n, \\n, 6 l/100 km (comb), \\n, 8 l/100 km (city), \\n, 4.9 l/100 km (country), \\n]           1\n",
      "[\\n, \\n, \\n84 g CO2/km (comb)\\n]                                                                 1\n",
      "[\\n, \\n, \\n87 g CO2/km (comb)\\n]                                                                 1\n",
      "[\\n, \\n, \\n, 5.7 l/100 km (comb), \\n, 7.3 l/100 km (city), \\n, 4.9 l/100 km (country), \\n]       1\n",
      "[\\n, \\n, \\nEuro 4\\n]                                                                             1\n",
      "Name: Full Service, Length: 122, dtype: int64\n"
     ]
    }
   ],
   "source": [
    "print(df[\"Full Service\"])\n",
    "print(df[\"Full Service\"].isna().sum())\n",
    "print(df[\"Full Service\"].value_counts())\n",
    "df.drop(\"Full Service\" , axis = 1 , inplace= True) # Totally irrelevant datas."
   ]
  },
  {
   "cell_type": "code",
   "execution_count": 30,
   "metadata": {},
   "outputs": [
    {
     "name": "stdout",
     "output_type": "stream",
     "text": [
      "0           \\nAudi\\n\n",
      "1           \\nAudi\\n\n",
      "2           \\nAudi\\n\n",
      "3           \\nAudi\\n\n",
      "4           \\nAudi\\n\n",
      "            ...     \n",
      "15914    \\nRenault\\n\n",
      "15915    \\nRenault\\n\n",
      "15916    \\nRenault\\n\n",
      "15917    \\nRenault\\n\n",
      "15918    \\nRenault\\n\n",
      "Name: Make, Length: 15919, dtype: object\n",
      "\n",
      "Audi\n",
      "\n",
      "<class 'str'>\n",
      "\\nOpel\\n       7343\n",
      "\\nAudi\\n       5712\n",
      "\\nRenault\\n    2864\n",
      "Name: Make, dtype: int64\n"
     ]
    }
   ],
   "source": [
    "print(df[\"Make\"]) \n",
    "print(df[\"Make\"][0])\n",
    "print(type(df[\"Make\"][0]))\n",
    "print(df[\"Make\"].value_counts())"
   ]
  },
  {
   "cell_type": "code",
   "execution_count": 31,
   "metadata": {},
   "outputs": [
    {
     "data": {
      "text/plain": [
       "Opel       7343\n",
       "Audi       5712\n",
       "Renault    2864\n",
       "Name: Make, dtype: int64"
      ]
     },
     "execution_count": 31,
     "metadata": {},
     "output_type": "execute_result"
    }
   ],
   "source": [
    "df[\"Make\"] = df[\"Make\"].dropna().apply(lambda x: x.replace(\"\\n\" , \"\"))\n",
    "df[\"Make\"].value_counts() # Looks good."
   ]
  },
  {
   "cell_type": "code",
   "execution_count": 32,
   "metadata": {},
   "outputs": [
    {
     "name": "stdout",
     "output_type": "stream",
     "text": [
      "0            [\\n, A1, \\n]\n",
      "1            [\\n, A1, \\n]\n",
      "2            [\\n, A1, \\n]\n",
      "3            [\\n, A1, \\n]\n",
      "4            [\\n, A1, \\n]\n",
      "               ...       \n",
      "15914    [\\n, Espace, \\n]\n",
      "15915    [\\n, Espace, \\n]\n",
      "15916    [\\n, Espace, \\n]\n",
      "15917    [\\n, Espace, \\n]\n",
      "15918    [\\n, Espace, \\n]\n",
      "Name: Model, Length: 15919, dtype: object\n",
      "['\\n', 'A1', '\\n']\n",
      "<class 'list'>\n",
      "[\\n, A3, \\n]          3097\n",
      "[\\n, A1, \\n]          2614\n",
      "[\\n, Insignia, \\n]    2598\n",
      "[\\n, Astra, \\n]       2526\n",
      "[\\n, Corsa, \\n]       2219\n",
      "[\\n, Clio, \\n]        1839\n",
      "[\\n, Espace, \\n]       991\n",
      "[\\n, Duster, \\n]        34\n",
      "[\\n, A2, \\n]             1\n",
      "Name: Model, dtype: int64\n"
     ]
    }
   ],
   "source": [
    "print(df[\"Model\"]) # Good.\n",
    "print(df[\"Model\"][0])\n",
    "print(type(df[\"Model\"][0]))\n",
    "print(df[\"Model\"].value_counts())"
   ]
  },
  {
   "cell_type": "code",
   "execution_count": 33,
   "metadata": {},
   "outputs": [
    {
     "name": "stdout",
     "output_type": "stream",
     "text": [
      "0            A1\n",
      "1            A1\n",
      "2            A1\n",
      "3            A1\n",
      "4            A1\n",
      "          ...  \n",
      "15914    Espace\n",
      "15915    Espace\n",
      "15916    Espace\n",
      "15917    Espace\n",
      "15918    Espace\n",
      "Name: Model, Length: 15919, dtype: object\n",
      "A3          3097\n",
      "A1          2614\n",
      "Insignia    2598\n",
      "Astra       2526\n",
      "Corsa       2219\n",
      "Clio        1839\n",
      "Espace       991\n",
      "Duster        34\n",
      "A2             1\n",
      "Name: Model, dtype: int64\n"
     ]
    }
   ],
   "source": [
    "df[\"Model\"] = df[\"Model\"].apply( lambda x: x[1])\n",
    "print(df.Model)\n",
    "print(df.Model.value_counts()) # Now looks good."
   ]
  },
  {
   "cell_type": "code",
   "execution_count": 34,
   "metadata": {},
   "outputs": [],
   "source": [
    "df[\"Offer Number\"] # Unneccessary colomn for our analysis.\n",
    "df.drop(\"Offer Number\" , axis = 1 , inplace=True)"
   ]
  },
  {
   "cell_type": "code",
   "execution_count": 35,
   "metadata": {},
   "outputs": [
    {
     "name": "stdout",
     "output_type": "stream",
     "text": [
      "0        [\\n, 2016, \\n]\n",
      "1        [\\n, 2017, \\n]\n",
      "2        [\\n, 2016, \\n]\n",
      "3        [\\n, 2016, \\n]\n",
      "4        [\\n, 2016, \\n]\n",
      "              ...      \n",
      "15914               NaN\n",
      "15915    [\\n, 2019, \\n]\n",
      "15916    [\\n, 2019, \\n]\n",
      "15917    [\\n, 2019, \\n]\n",
      "15918    [\\n, 2019, \\n]\n",
      "Name: First Registration, Length: 15919, dtype: object\n",
      "[\\n, 2018, \\n]    4522\n",
      "[\\n, 2016, \\n]    3674\n",
      "[\\n, 2017, \\n]    3273\n",
      "[\\n, 2019, \\n]    2853\n",
      "Name: First Registration, dtype: int64\n",
      "1597\n",
      "['\\n', '2016', '\\n']\n",
      "<class 'list'>\n"
     ]
    }
   ],
   "source": [
    "print(df[\"First Registration\"])\n",
    "print(df[\"First Registration\"].value_counts())\n",
    "print(df[\"First Registration\"].isna().sum())\n",
    "print(df[\"First Registration\"][0])\n",
    "print(type(df[\"First Registration\"][0])) # Important feature. Only 1597 nan value."
   ]
  },
  {
   "cell_type": "code",
   "execution_count": 36,
   "metadata": {},
   "outputs": [
    {
     "name": "stdout",
     "output_type": "stream",
     "text": [
      "0        2016\n",
      "1        2017\n",
      "2        2016\n",
      "3        2016\n",
      "4        2016\n",
      "         ... \n",
      "15914     NaN\n",
      "15915    2019\n",
      "15916    2019\n",
      "15917    2019\n",
      "15918    2019\n",
      "Name: First Registration, Length: 15919, dtype: object\n"
     ]
    }
   ],
   "source": [
    "df[\"First Registration\"] = df[\"First Registration\"].dropna().apply(lambda x : x[1])\n",
    "print(df[\"First Registration\"]) # Looks good."
   ]
  },
  {
   "cell_type": "code",
   "execution_count": 37,
   "metadata": {},
   "outputs": [
    {
     "name": "stdout",
     "output_type": "stream",
     "text": [
      "0        [\\n, Black, \\n]\n",
      "1          [\\n, Red, \\n]\n",
      "2        [\\n, Black, \\n]\n",
      "3        [\\n, Brown, \\n]\n",
      "4        [\\n, Black, \\n]\n",
      "              ...       \n",
      "15914     [\\n, Grey, \\n]\n",
      "15915     [\\n, Grey, \\n]\n",
      "15916    [\\n, White, \\n]\n",
      "15917     [\\n, Grey, \\n]\n",
      "15918     [\\n, Grey, \\n]\n",
      "Name: Body Color, Length: 15919, dtype: object\n",
      "597\n",
      "[\\n, Black, \\n]     3745\n",
      "[\\n, Grey, \\n]      3505\n",
      "[\\n, White, \\n]     3406\n",
      "[\\n, Silver, \\n]    1647\n",
      "[\\n, Blue, \\n]      1431\n",
      "[\\n, Red, \\n]        957\n",
      "[\\n, Brown, \\n]      289\n",
      "[\\n, Green, \\n]      154\n",
      "[\\n, Beige, \\n]      108\n",
      "[\\n, Yellow, \\n]      51\n",
      "[\\n, Violet, \\n]      18\n",
      "[\\n, Bronze, \\n]       6\n",
      "[\\n, Orange, \\n]       3\n",
      "[\\n, Gold, \\n]         2\n",
      "Name: Body Color, dtype: int64\n",
      "['\\n', 'Black', '\\n']\n",
      "<class 'list'>\n"
     ]
    }
   ],
   "source": [
    "print(df[\"Body Color\"])\n",
    "print(df[\"Body Color\"].isna().sum())\n",
    "print(df[\"Body Color\"].value_counts()) \n",
    "print(df[\"Body Color\"][0])\n",
    "print(type(df[\"Body Color\"][0])) # Important feature. Only 597 nan value. Lets clear it."
   ]
  },
  {
   "cell_type": "code",
   "execution_count": 38,
   "metadata": {},
   "outputs": [
    {
     "name": "stdout",
     "output_type": "stream",
     "text": [
      "0        Black\n",
      "1          Red\n",
      "2        Black\n",
      "3        Brown\n",
      "4        Black\n",
      "         ...  \n",
      "15914     Grey\n",
      "15915     Grey\n",
      "15916    White\n",
      "15917     Grey\n",
      "15918     Grey\n",
      "Name: Body Color, Length: 15919, dtype: object\n",
      "Black     3745\n",
      "Grey      3505\n",
      "White     3406\n",
      "Silver    1647\n",
      "Blue      1431\n",
      "Red        957\n",
      "Brown      289\n",
      "Green      154\n",
      "Beige      108\n",
      "Yellow      51\n",
      "Violet      18\n",
      "Bronze       6\n",
      "Orange       3\n",
      "Gold         2\n",
      "Name: Body Color, dtype: int64\n"
     ]
    }
   ],
   "source": [
    "df[\"Body Color\"] = df[\"Body Color\"].dropna().apply(lambda x: x[1])\n",
    "print(df[\"Body Color\"])\n",
    "print(df[\"Body Color\"].value_counts()) # Looks clear."
   ]
  },
  {
   "cell_type": "code",
   "execution_count": 39,
   "metadata": {},
   "outputs": [
    {
     "name": "stdout",
     "output_type": "stream",
     "text": [
      "0        [\\nMetallic\\n]\n",
      "1                   NaN\n",
      "2        [\\nMetallic\\n]\n",
      "3        [\\nMetallic\\n]\n",
      "4        [\\nMetallic\\n]\n",
      "              ...      \n",
      "15914    [\\nMetallic\\n]\n",
      "15915    [\\nMetallic\\n]\n",
      "15916               NaN\n",
      "15917               NaN\n",
      "15918    [\\nMetallic\\n]\n",
      "Name: Paint Type, Length: 15919, dtype: object\n",
      "5772\n",
      "[\\nMetallic\\n]       9794\n",
      "[\\nUni/basic\\n]       347\n",
      "[\\nPerl effect\\n]       6\n",
      "Name: Paint Type, dtype: int64\n",
      "['\\nMetallic\\n']\n",
      "<class 'list'>\n",
      "<class 'pandas.core.series.Series'>\n"
     ]
    }
   ],
   "source": [
    "print((df[\"Paint Type\"]))\n",
    "print((df[\"Paint Type\"].isna().sum()))\n",
    "print((df[\"Paint Type\"].value_counts()))\n",
    "print((df[\"Paint Type\"][0]))\n",
    "print((type(df[\"Paint Type\"][0])))\n",
    "print((type(df[\"Paint Type\"]))) # 5772 nan value. But 10000 non-null value. And important feature. So I'll clear it."
   ]
  },
  {
   "cell_type": "code",
   "execution_count": 40,
   "metadata": {},
   "outputs": [
    {
     "name": "stdout",
     "output_type": "stream",
     "text": [
      "0        Metallic\n",
      "1             NaN\n",
      "2        Metallic\n",
      "3        Metallic\n",
      "4        Metallic\n",
      "           ...   \n",
      "15914    Metallic\n",
      "15915    Metallic\n",
      "15916         NaN\n",
      "15917         NaN\n",
      "15918    Metallic\n",
      "Name: Paint Type, Length: 15919, dtype: object\n",
      "Metallic       9794\n",
      "Uni/basic       347\n",
      "Perl effect       6\n",
      "Name: Paint Type, dtype: int64\n"
     ]
    }
   ],
   "source": [
    "df[\"Paint Type\"] = df[\"Paint Type\"].dropna().apply(lambda x : x[0].replace(\"\\n\",\"\"))\n",
    "print(df[\"Paint Type\"])\n",
    "print(df[\"Paint Type\"].value_counts()) # Looks clear."
   ]
  },
  {
   "cell_type": "code",
   "execution_count": 41,
   "metadata": {},
   "outputs": [
    {
     "data": {
      "text/plain": [
       "Index(['body_type', 'price', 'vat', 'km', 'registration', 'prev_owner',\n",
       "       'hp(kW)', 'Type', 'Make', 'Model', 'First Registration', 'Body Color',\n",
       "       'Paint Type', 'Body Color Original', 'Upholstery', 'Body',\n",
       "       'Nr. of Doors', 'Nr. of Seats', 'Model Code', 'Gearing Type',\n",
       "       'Displacement', 'Cylinders', 'Weight', 'Drive chain', 'Fuel',\n",
       "       'Consumption', 'CO2 Emission', 'Emission Class',\n",
       "       '\\nComfort & Convenience\\n', '\\nEntertainment & Media\\n', '\\nExtras\\n',\n",
       "       '\\nSafety & Security\\n', 'description', 'Emission Label', 'Gears',\n",
       "       'Country version'],\n",
       "      dtype='object')"
      ]
     },
     "execution_count": 41,
     "metadata": {},
     "output_type": "execute_result"
    }
   ],
   "source": [
    "df.columns"
   ]
  },
  {
   "cell_type": "code",
   "execution_count": 42,
   "metadata": {},
   "outputs": [
    {
     "name": "stdout",
     "output_type": "stream",
     "text": [
      "0                 [\\nMythosschwarz\\n]\n",
      "1                                 NaN\n",
      "2        [\\nmythosschwarz metallic\\n]\n",
      "3                                 NaN\n",
      "4        [\\nMythosschwarz Metallic\\n]\n",
      "                     ...             \n",
      "15914              [\\nGrigio scuro\\n]\n",
      "15915       [\\nStahl-Grau Metallic\\n]\n",
      "15916               [\\narktis-weiß\\n]\n",
      "15917                    [\\nGrigio\\n]\n",
      "15918    [\\nTitanium-Grau Metallic\\n]\n",
      "Name: Body Color Original, Length: 15919, dtype: object\n",
      "3759\n",
      "[\\nOnyx Schwarz\\n]                     338\n",
      "[\\nBianco\\n]                           282\n",
      "[\\nMythosschwarz Metallic\\n]           238\n",
      "[\\nBrillantschwarz\\n]                  216\n",
      "[\\nGris\\n]                             204\n",
      "                                      ... \n",
      "[\\nRouge-Braun (G0Y)\\n]                  1\n",
      "[\\nVARI COLRI DISPONIBILI\\n]             1\n",
      "[\\nKokosnussbraun Metallic\\n]            1\n",
      "[\\nFarbe frei wählbar\\n]                 1\n",
      "[\\nPerlmutt-Weiß Metallic (Weiß)\\n]      1\n",
      "Name: Body Color Original, Length: 1927, dtype: int64\n",
      "['\\nMythosschwarz\\n']\n",
      "<class 'list'>\n"
     ]
    }
   ],
   "source": [
    "print(df[\"Body Color Original\"])\n",
    "print(df[\"Body Color Original\"].isna().sum())\n",
    "print(df[\"Body Color Original\"].value_counts())\n",
    "print(df[\"Body Color Original\"][0])\n",
    "print(type(df[\"Body Color Original\"][0])) # Important feature. 3759 nan values. I'll clear others."
   ]
  },
  {
   "cell_type": "code",
   "execution_count": 43,
   "metadata": {},
   "outputs": [
    {
     "name": "stdout",
     "output_type": "stream",
     "text": [
      "0                 [\\nMythosschwarz\\n]\n",
      "1                                 NaN\n",
      "2        [\\nmythosschwarz metallic\\n]\n",
      "3                                 NaN\n",
      "4        [\\nMythosschwarz Metallic\\n]\n",
      "                     ...             \n",
      "15914              [\\nGrigio scuro\\n]\n",
      "15915       [\\nStahl-Grau Metallic\\n]\n",
      "15916               [\\narktis-weiß\\n]\n",
      "15917                    [\\nGrigio\\n]\n",
      "15918    [\\nTitanium-Grau Metallic\\n]\n",
      "Name: Body Color Original, Length: 15919, dtype: object\n",
      "[\\nOnyx Schwarz\\n]                     338\n",
      "[\\nBianco\\n]                           282\n",
      "[\\nMythosschwarz Metallic\\n]           238\n",
      "[\\nBrillantschwarz\\n]                  216\n",
      "[\\nGris\\n]                             204\n",
      "                                      ... \n",
      "[\\nRouge-Braun (G0Y)\\n]                  1\n",
      "[\\nVARI COLRI DISPONIBILI\\n]             1\n",
      "[\\nKokosnussbraun Metallic\\n]            1\n",
      "[\\nFarbe frei wählbar\\n]                 1\n",
      "[\\nPerlmutt-Weiß Metallic (Weiß)\\n]      1\n",
      "Name: Body Color Original, Length: 1927, dtype: int64\n"
     ]
    }
   ],
   "source": [
    "#df[\"Body Color Original\"] = df[\"Body Color Original\"].dropna().apply(lambda x: x[0].replace(\"\\n\" , \"\"))\n",
    "print(df[\"Body Color Original\"])\n",
    "print(df[\"Body Color Original\"].value_counts()) # Looks clear."
   ]
  },
  {
   "cell_type": "code",
   "execution_count": 44,
   "metadata": {},
   "outputs": [
    {
     "name": "stdout",
     "output_type": "stream",
     "text": [
      "0               [\\nCloth, Black\\n]\n",
      "1                [\\nCloth, Grey\\n]\n",
      "2               [\\nCloth, Black\\n]\n",
      "3                              NaN\n",
      "4               [\\nCloth, Black\\n]\n",
      "                   ...            \n",
      "15914                          NaN\n",
      "15915                  [\\nCloth\\n]\n",
      "15916    [\\nFull leather, Black\\n]\n",
      "15917           [\\nPart leather\\n]\n",
      "15918    [\\nFull leather, Brown\\n]\n",
      "Name: Upholstery, Length: 15919, dtype: object\n",
      "3720\n",
      "[\\nCloth, Black\\n]           5821\n",
      "[\\nPart leather, Black\\n]    1121\n",
      "[\\nCloth\\n]                  1005\n",
      "[\\nCloth, Grey\\n]             891\n",
      "[\\nCloth, Other\\n]            639\n",
      "[\\nFull leather, Black\\n]     575\n",
      "[\\nBlack\\n]                   491\n",
      "[\\nGrey\\n]                    273\n",
      "[\\nOther, Other\\n]            182\n",
      "[\\nPart leather\\n]            140\n",
      "[\\nFull leather\\n]            139\n",
      "[\\nPart leather, Grey\\n]      116\n",
      "[\\nFull leather, Brown\\n]     116\n",
      "[\\nOther, Black\\n]            110\n",
      "[\\nFull leather, Other\\n]      72\n",
      "[\\nFull leather, Grey\\n]       67\n",
      "[\\nPart leather, Other\\n]      65\n",
      "[\\nOther\\n]                    56\n",
      "[\\nPart leather, Brown\\n]      50\n",
      "[\\nalcantara, Black\\n]         47\n",
      "[\\nFull leather, Beige\\n]      36\n",
      "[\\nVelour, Black\\n]            36\n",
      "[\\nCloth, Brown\\n]             28\n",
      "[\\nVelour\\n]                   16\n",
      "[\\nOther, Grey\\n]              15\n",
      "[\\nCloth, Beige\\n]             13\n",
      "[\\nBrown\\n]                    12\n",
      "[\\nCloth, Blue\\n]              12\n",
      "[\\nCloth, White\\n]              8\n",
      "[\\nVelour, Grey\\n]              8\n",
      "[\\nalcantara, Grey\\n]           6\n",
      "[\\nCloth, Red\\n]                5\n",
      "[\\nOther, Yellow\\n]             4\n",
      "[\\nBeige\\n]                     3\n",
      "[\\nPart leather, Red\\n]         3\n",
      "[\\nalcantara\\n]                 2\n",
      "[\\nPart leather, White\\n]       2\n",
      "[\\nBlue\\n]                      2\n",
      "[\\nWhite\\n]                     2\n",
      "[\\nPart leather, Beige\\n]       2\n",
      "[\\nalcantara, Other\\n]          2\n",
      "[\\nFull leather, Blue\\n]        2\n",
      "[\\nOther, Brown\\n]              1\n",
      "[\\nCloth, Orange\\n]             1\n",
      "[\\nFull leather, Red\\n]         1\n",
      "[\\nFull leather, White\\n]       1\n",
      "Name: Upholstery, dtype: int64\n",
      "['\\nCloth, Black\\n']\n",
      "<class 'list'>\n",
      "['\\nCloth, Black\\n']\n"
     ]
    }
   ],
   "source": [
    "print(df[\"Upholstery\"])\n",
    "print(df[\"Upholstery\"].isna().sum())\n",
    "print(df[\"Upholstery\"].value_counts())\n",
    "print(df[\"Upholstery\"][0])\n",
    "print(type(df[\"Upholstery\"][0]))\n",
    "print((df[\"Upholstery\"][0])) # Important feature. 3720 nan values. I'll clear that column."
   ]
  },
  {
   "cell_type": "code",
   "execution_count": 45,
   "metadata": {},
   "outputs": [
    {
     "name": "stdout",
     "output_type": "stream",
     "text": [
      "0               Cloth, Black\n",
      "1                Cloth, Grey\n",
      "2               Cloth, Black\n",
      "3                        NaN\n",
      "4               Cloth, Black\n",
      "                ...         \n",
      "15914                    NaN\n",
      "15915                  Cloth\n",
      "15916    Full leather, Black\n",
      "15917           Part leather\n",
      "15918    Full leather, Brown\n",
      "Name: Upholstery, Length: 15919, dtype: object\n",
      "Cloth, Black           5821\n",
      "Part leather, Black    1121\n",
      "Cloth                  1005\n",
      "Cloth, Grey             891\n",
      "Cloth, Other            639\n",
      "Full leather, Black     575\n",
      "Black                   491\n",
      "Grey                    273\n",
      "Other, Other            182\n",
      "Part leather            140\n",
      "Full leather            139\n",
      "Part leather, Grey      116\n",
      "Full leather, Brown     116\n",
      "Other, Black            110\n",
      "Full leather, Other      72\n",
      "Full leather, Grey       67\n",
      "Part leather, Other      65\n",
      "Other                    56\n",
      "Part leather, Brown      50\n",
      "alcantara, Black         47\n",
      "Full leather, Beige      36\n",
      "Velour, Black            36\n",
      "Cloth, Brown             28\n",
      "Velour                   16\n",
      "Other, Grey              15\n",
      "Cloth, Beige             13\n",
      "Brown                    12\n",
      "Cloth, Blue              12\n",
      "Cloth, White              8\n",
      "Velour, Grey              8\n",
      "alcantara, Grey           6\n",
      "Cloth, Red                5\n",
      "Other, Yellow             4\n",
      "Beige                     3\n",
      "Part leather, Red         3\n",
      "alcantara                 2\n",
      "Part leather, White       2\n",
      "Blue                      2\n",
      "White                     2\n",
      "Part leather, Beige       2\n",
      "alcantara, Other          2\n",
      "Full leather, Blue        2\n",
      "Other, Brown              1\n",
      "Cloth, Orange             1\n",
      "Full leather, Red         1\n",
      "Full leather, White       1\n",
      "Name: Upholstery, dtype: int64\n"
     ]
    }
   ],
   "source": [
    "df[\"Upholstery\"] = df[\"Upholstery\"].dropna().apply(lambda x: x[0].replace(\"\\n\" , \"\"))\n",
    "df[\"Upholstery\"] = df[\"Upholstery\"].dropna().apply(lambda x: x.replace(\"\\n\" , \"\"))\n",
    "print(df[\"Upholstery\"])\n",
    "print(df[\"Upholstery\"].value_counts()) # Looks clear now."
   ]
  },
  {
   "cell_type": "code",
   "execution_count": 46,
   "metadata": {},
   "outputs": [
    {
     "name": "stdout",
     "output_type": "stream",
     "text": [
      "0        [\\n, Sedans, \\n]\n",
      "1        [\\n, Sedans, \\n]\n",
      "2        [\\n, Sedans, \\n]\n",
      "3        [\\n, Sedans, \\n]\n",
      "4        [\\n, Sedans, \\n]\n",
      "               ...       \n",
      "15914       [\\n, Van, \\n]\n",
      "15915       [\\n, Van, \\n]\n",
      "15916       [\\n, Van, \\n]\n",
      "15917       [\\n, Van, \\n]\n",
      "15918       [\\n, Van, \\n]\n",
      "Name: Body, Length: 15919, dtype: object\n",
      "60\n",
      "[\\n, Sedans, \\n]           7903\n",
      "[\\n, Station wagon, \\n]    3553\n",
      "[\\n, Compact, \\n]          3153\n",
      "[\\n, Van, \\n]               783\n",
      "[\\n, Other, \\n]             290\n",
      "[\\n, Transporter, \\n]        88\n",
      "[\\n, Off-Road, \\n]           56\n",
      "[\\n, Coupe, \\n]              25\n",
      "[\\n, Convertible, \\n]         8\n",
      "Name: Body, dtype: int64\n",
      "['\\n', 'Sedans', '\\n']\n",
      "<class 'list'>\n"
     ]
    }
   ],
   "source": [
    "print(df[\"Body\"])\n",
    "print(df[\"Body\"].isna().sum())\n",
    "print(df[\"Body\"].value_counts())\n",
    "print(df[\"Body\"][0])\n",
    "print(type(df[\"Body\"][0])) # Important feature. Only 60 nan value. I'll clear others."
   ]
  },
  {
   "cell_type": "code",
   "execution_count": 47,
   "metadata": {},
   "outputs": [
    {
     "name": "stdout",
     "output_type": "stream",
     "text": [
      "0        Sedans\n",
      "1        Sedans\n",
      "2        Sedans\n",
      "3        Sedans\n",
      "4        Sedans\n",
      "          ...  \n",
      "15914       Van\n",
      "15915       Van\n",
      "15916       Van\n",
      "15917       Van\n",
      "15918       Van\n",
      "Name: Body, Length: 15919, dtype: object\n",
      "Sedans           7903\n",
      "Station wagon    3553\n",
      "Compact          3153\n",
      "Van               783\n",
      "Other             290\n",
      "Transporter        88\n",
      "Off-Road           56\n",
      "Coupe              25\n",
      "Convertible         8\n",
      "Name: Body, dtype: int64\n"
     ]
    }
   ],
   "source": [
    "df[\"Body\"] = df[\"Body\"].dropna().apply(lambda x : x[1])\n",
    "print(df[\"Body\"])\n",
    "print(df[\"Body\"].value_counts()) # Looks clear."
   ]
  },
  {
   "cell_type": "code",
   "execution_count": 48,
   "metadata": {},
   "outputs": [
    {
     "name": "stdout",
     "output_type": "stream",
     "text": [
      "0        [\\n5\\n]\n",
      "1        [\\n3\\n]\n",
      "2        [\\n4\\n]\n",
      "3        [\\n3\\n]\n",
      "4        [\\n5\\n]\n",
      "          ...   \n",
      "15914    [\\n5\\n]\n",
      "15915    [\\n5\\n]\n",
      "15916    [\\n5\\n]\n",
      "15917    [\\n5\\n]\n",
      "15918    [\\n5\\n]\n",
      "Name: Nr. of Doors, Length: 15919, dtype: object\n",
      "212\n",
      "[\\n5\\n]    11575\n",
      "[\\n4\\n]     3079\n",
      "[\\n3\\n]      832\n",
      "[\\n2\\n]      219\n",
      "[\\n1\\n]        1\n",
      "[\\n7\\n]        1\n",
      "Name: Nr. of Doors, dtype: int64\n",
      "['\\n5\\n']\n",
      "<class 'list'>\n"
     ]
    }
   ],
   "source": [
    "print(df[\"Nr. of Doors\"])\n",
    "print(df[\"Nr. of Doors\"].isna().sum())\n",
    "print(df[\"Nr. of Doors\"].value_counts())\n",
    "print(df[\"Nr. of Doors\"][0])\n",
    "print(type(df[\"Nr. of Doors\"][0])) # Only 212 nan value and important feature. I'll clear it."
   ]
  },
  {
   "cell_type": "code",
   "execution_count": 49,
   "metadata": {},
   "outputs": [
    {
     "name": "stdout",
     "output_type": "stream",
     "text": [
      "0        5\n",
      "1        3\n",
      "2        4\n",
      "3        3\n",
      "4        5\n",
      "        ..\n",
      "15914    5\n",
      "15915    5\n",
      "15916    5\n",
      "15917    5\n",
      "15918    5\n",
      "Name: Nr. of Doors, Length: 15919, dtype: object\n",
      "5    11575\n",
      "4     3079\n",
      "3      832\n",
      "2      219\n",
      "1        1\n",
      "7        1\n",
      "Name: Nr. of Doors, dtype: int64\n"
     ]
    }
   ],
   "source": [
    "df[\"Nr. of Doors\"] = df[\"Nr. of Doors\"].dropna().apply(lambda x : x[0].replace(\"\\n\" , \"\"))\n",
    "print(df[\"Nr. of Doors\"])\n",
    "print(df[\"Nr. of Doors\"].value_counts()) # Looks good."
   ]
  },
  {
   "cell_type": "code",
   "execution_count": 50,
   "metadata": {},
   "outputs": [
    {
     "name": "stdout",
     "output_type": "stream",
     "text": [
      "0        [\\n5\\n]\n",
      "1        [\\n4\\n]\n",
      "2        [\\n4\\n]\n",
      "3        [\\n4\\n]\n",
      "4        [\\n5\\n]\n",
      "          ...   \n",
      "15914    [\\n5\\n]\n",
      "15915    [\\n5\\n]\n",
      "15916    [\\n7\\n]\n",
      "15917    [\\n7\\n]\n",
      "15918    [\\n5\\n]\n",
      "Name: Nr. of Seats, Length: 15919, dtype: object\n",
      "977\n",
      "[\\n5\\n]    13336\n",
      "[\\n4\\n]     1125\n",
      "[\\n7\\n]      362\n",
      "[\\n2\\n]      116\n",
      "[\\n6\\n]        2\n",
      "[\\n3\\n]        1\n",
      "Name: Nr. of Seats, dtype: int64\n",
      "['\\n5\\n']\n",
      "<class 'list'>\n"
     ]
    }
   ],
   "source": [
    "print(df[\"Nr. of Seats\"])\n",
    "print(df[\"Nr. of Seats\"].isna().sum())\n",
    "print(df[\"Nr. of Seats\"].value_counts())\n",
    "print(df[\"Nr. of Seats\"][0])\n",
    "print(type(df[\"Nr. of Seats\"][0])) # Only 977 nan values. Important feature."
   ]
  },
  {
   "cell_type": "code",
   "execution_count": 51,
   "metadata": {},
   "outputs": [
    {
     "name": "stdout",
     "output_type": "stream",
     "text": [
      "0        5.0\n",
      "1        4.0\n",
      "2        4.0\n",
      "3        4.0\n",
      "4        5.0\n",
      "        ... \n",
      "15914    5.0\n",
      "15915    5.0\n",
      "15916    7.0\n",
      "15917    7.0\n",
      "15918    5.0\n",
      "Name: Nr. of Seats, Length: 15919, dtype: float64\n",
      "5.0    13336\n",
      "4.0     1125\n",
      "7.0      362\n",
      "2.0      116\n",
      "6.0        2\n",
      "3.0        1\n",
      "Name: Nr. of Seats, dtype: int64\n"
     ]
    }
   ],
   "source": [
    "df[\"Nr. of Seats\"] = df[\"Nr. of Seats\"].dropna().apply(lambda x : x[0].replace(\"\\n\" , \"\"))\n",
    "df[\"Nr. of Seats\"] = df[\"Nr. of Seats\"].astype(\"float64\")\n",
    "print(df[\"Nr. of Seats\"])\n",
    "print(df[\"Nr. of Seats\"].value_counts()) # Looks good."
   ]
  },
  {
   "cell_type": "code",
   "execution_count": 52,
   "metadata": {},
   "outputs": [],
   "source": [
    "df.drop(\"Model Code\", axis = 1 , inplace = True) # Unnecessary feature."
   ]
  },
  {
   "cell_type": "code",
   "execution_count": 53,
   "metadata": {},
   "outputs": [
    {
     "name": "stdout",
     "output_type": "stream",
     "text": [
      "0        [\\n, Automatic, \\n]\n",
      "1        [\\n, Automatic, \\n]\n",
      "2        [\\n, Automatic, \\n]\n",
      "3        [\\n, Automatic, \\n]\n",
      "4        [\\n, Automatic, \\n]\n",
      "                ...         \n",
      "15914    [\\n, Automatic, \\n]\n",
      "15915    [\\n, Automatic, \\n]\n",
      "15916    [\\n, Automatic, \\n]\n",
      "15917    [\\n, Automatic, \\n]\n",
      "15918    [\\n, Automatic, \\n]\n",
      "Name: Gearing Type, Length: 15919, dtype: object\n",
      "0\n",
      "[\\n, Manual, \\n]            8153\n",
      "[\\n, Automatic, \\n]         7297\n",
      "[\\n, Semi-automatic, \\n]     469\n",
      "Name: Gearing Type, dtype: int64\n",
      "['\\n', 'Automatic', '\\n']\n",
      "<class 'list'>\n"
     ]
    }
   ],
   "source": [
    "print(df[\"Gearing Type\"])\n",
    "print(df[\"Gearing Type\"].isna().sum())\n",
    "print(df[\"Gearing Type\"].value_counts())\n",
    "print(df[\"Gearing Type\"][0])\n",
    "print(type(df[\"Gearing Type\"][0])) # 0 nan value."
   ]
  },
  {
   "cell_type": "code",
   "execution_count": 54,
   "metadata": {},
   "outputs": [
    {
     "name": "stdout",
     "output_type": "stream",
     "text": [
      "0        Automatic\n",
      "1        Automatic\n",
      "2        Automatic\n",
      "3        Automatic\n",
      "4        Automatic\n",
      "           ...    \n",
      "15914    Automatic\n",
      "15915    Automatic\n",
      "15916    Automatic\n",
      "15917    Automatic\n",
      "15918    Automatic\n",
      "Name: Gearing Type, Length: 15919, dtype: object\n",
      "Manual            8153\n",
      "Automatic         7297\n",
      "Semi-automatic     469\n",
      "Name: Gearing Type, dtype: int64\n"
     ]
    }
   ],
   "source": [
    "df[\"Gearing Type\"] = df[\"Gearing Type\"].apply(lambda x: x[1])\n",
    "print(df[\"Gearing Type\"])\n",
    "print(df[\"Gearing Type\"].value_counts()) # Looks well."
   ]
  },
  {
   "cell_type": "code",
   "execution_count": 55,
   "metadata": {},
   "outputs": [
    {
     "name": "stdout",
     "output_type": "stream",
     "text": [
      "0        [\\n1,422 cc\\n]\n",
      "1        [\\n1,798 cc\\n]\n",
      "2        [\\n1,598 cc\\n]\n",
      "3        [\\n1,422 cc\\n]\n",
      "4        [\\n1,422 cc\\n]\n",
      "              ...      \n",
      "15914    [\\n1,997 cc\\n]\n",
      "15915    [\\n1,798 cc\\n]\n",
      "15916    [\\n1,997 cc\\n]\n",
      "15917    [\\n1,997 cc\\n]\n",
      "15918    [\\n1,798 cc\\n]\n",
      "Name: Displacement, Length: 15919, dtype: object\n",
      "496\n",
      "[\\n1,598 cc\\n]    4761\n",
      "[\\n999 cc\\n]      2438\n",
      "[\\n1,398 cc\\n]    1314\n",
      "[\\n1,399 cc\\n]     749\n",
      "[\\n1,229 cc\\n]     677\n",
      "                  ... \n",
      "[\\n122 cc\\n]         1\n",
      "[\\n1,198 cc\\n]       1\n",
      "[\\n1,195 cc\\n]       1\n",
      "[\\n2,967 cc\\n]       1\n",
      "[\\n1,800 cc\\n]       1\n",
      "Name: Displacement, Length: 77, dtype: int64\n",
      "['\\n1,422 cc\\n']\n",
      "<class 'list'>\n"
     ]
    }
   ],
   "source": [
    "print(df[\"Displacement\"])\n",
    "print(df[\"Displacement\"].isna().sum())\n",
    "print(df[\"Displacement\"].value_counts())\n",
    "print(df[\"Displacement\"][0])\n",
    "print(type(df[\"Displacement\"][0])) # 496 nan value."
   ]
  },
  {
   "cell_type": "code",
   "execution_count": 56,
   "metadata": {},
   "outputs": [
    {
     "name": "stdout",
     "output_type": "stream",
     "text": [
      "0        422\n",
      "1        798\n",
      "2        598\n",
      "3        422\n",
      "4        422\n",
      "        ... \n",
      "15914    997\n",
      "15915    798\n",
      "15916    997\n",
      "15917    997\n",
      "15918    798\n",
      "Name: Displacement, Length: 15919, dtype: object\n",
      "598     4761\n",
      "999     2438\n",
      "398     1314\n",
      "399      749\n",
      "229      677\n",
      "        ... \n",
      "390        1\n",
      "198        1\n",
      "195        1\n",
      "2967       1\n",
      "800        1\n",
      "Name: Displacement, Length: 74, dtype: int64\n",
      "['422' '798' '598' '999' '395' '929' nan '596' '600' '000' '984' '498'\n",
      " '197' '995' '998' '968' '400' '2000' '568' '896' '2480' '499' '495' '398'\n",
      " '584' '997' '399' '364' '490' '996' '696' '686' '396' '15898' '139' '368'\n",
      " '140' '397' '248' '229' '300' '200' '973' '239' '350' '369' '390' '122'\n",
      " '198' '195' '956' '2' '2967' '856' '16000' '500' '496' '533' '1' '599'\n",
      " '461' '618' '149' '199' '898' '890' '900' '54' '100' '333' '899' '589'\n",
      " '580' '160' '800']\n"
     ]
    }
   ],
   "source": [
    "df[\"Displacement\"] = df[\"Displacement\"].dropna().apply(lambda x : x[0].replace(\"\\n1,\" , \"\"))\n",
    "df[\"Displacement\"] = df[\"Displacement\"].dropna().apply(lambda x : x.replace(\" cc\\n\" , \"\"))\n",
    "df[\"Displacement\"] = df[\"Displacement\"].dropna().apply(lambda x : x.replace(\"\\n\" , \"\"))\n",
    "df[\"Displacement\"] = df[\"Displacement\"].dropna().apply(lambda x : x.replace(\"\\n1\" , \"\"))\n",
    "df[\"Displacement\"] = df[\"Displacement\"].dropna().apply(lambda x : x.replace(\"\\n2\" , \"\"))\n",
    "df[\"Displacement\"] = df[\"Displacement\"].dropna().apply(lambda x : x.replace(\",\" , \"\"))\n",
    "print(df[\"Displacement\"])\n",
    "print(df[\"Displacement\"].value_counts())\n",
    "print(df[\"Displacement\"].unique()) # Looks perfect !"
   ]
  },
  {
   "cell_type": "code",
   "execution_count": 57,
   "metadata": {},
   "outputs": [],
   "source": [
    "def statusColList(col):\n",
    "    print(df[col])\n",
    "    print(df[col].isna().sum())\n",
    "    print(df[col].value_counts())\n",
    "    print(df[col][0])\n",
    "    print(type(df[col][0]))"
   ]
  },
  {
   "cell_type": "code",
   "execution_count": 58,
   "metadata": {},
   "outputs": [],
   "source": [
    "def afterEdit(col):\n",
    "    print(df[col])\n",
    "    print(df[col].unique())\n",
    "    print(df[col].value_counts())\n",
    "    print(df[col].isna().sum())\n",
    "    "
   ]
  },
  {
   "cell_type": "code",
   "execution_count": 59,
   "metadata": {},
   "outputs": [
    {
     "name": "stdout",
     "output_type": "stream",
     "text": [
      "0        [\\n3\\n]\n",
      "1        [\\n4\\n]\n",
      "2            NaN\n",
      "3        [\\n3\\n]\n",
      "4        [\\n3\\n]\n",
      "          ...   \n",
      "15914    [\\n4\\n]\n",
      "15915    [\\n4\\n]\n",
      "15916    [\\n4\\n]\n",
      "15917    [\\n4\\n]\n",
      "15918    [\\n4\\n]\n",
      "Name: Cylinders, Length: 15919, dtype: object\n",
      "5680\n",
      "[\\n4\\n]    8105\n",
      "[\\n3\\n]    2104\n",
      "[\\n5\\n]      22\n",
      "[\\n6\\n]       3\n",
      "[\\n8\\n]       2\n",
      "[\\n2\\n]       2\n",
      "[\\n1\\n]       1\n",
      "Name: Cylinders, dtype: int64\n",
      "['\\n3\\n']\n",
      "<class 'list'>\n"
     ]
    }
   ],
   "source": [
    "statusColList(\"Cylinders\") # 5680 nan values. But important feature."
   ]
  },
  {
   "cell_type": "code",
   "execution_count": 60,
   "metadata": {},
   "outputs": [
    {
     "name": "stdout",
     "output_type": "stream",
     "text": [
      "0          3\n",
      "1          4\n",
      "2        NaN\n",
      "3          3\n",
      "4          3\n",
      "        ... \n",
      "15914      4\n",
      "15915      4\n",
      "15916      4\n",
      "15917      4\n",
      "15918      4\n",
      "Name: Cylinders, Length: 15919, dtype: object\n",
      "['3' '4' nan '8' '5' '1' '6' '2']\n",
      "4    8105\n",
      "3    2104\n",
      "5      22\n",
      "6       3\n",
      "8       2\n",
      "2       2\n",
      "1       1\n",
      "Name: Cylinders, dtype: int64\n",
      "5680\n"
     ]
    }
   ],
   "source": [
    "df[\"Cylinders\"] = df[\"Cylinders\"].dropna().apply(lambda x : x[0].replace(\"\\n\" , \"\"))\n",
    "afterEdit(\"Cylinders\") # Look good."
   ]
  },
  {
   "cell_type": "code",
   "execution_count": 61,
   "metadata": {},
   "outputs": [
    {
     "name": "stdout",
     "output_type": "stream",
     "text": [
      "0        [\\n1,220 kg\\n]\n",
      "1        [\\n1,255 kg\\n]\n",
      "2                   NaN\n",
      "3        [\\n1,195 kg\\n]\n",
      "4                   NaN\n",
      "              ...      \n",
      "15914    [\\n1,758 kg\\n]\n",
      "15915    [\\n1,708 kg\\n]\n",
      "15916               NaN\n",
      "15917    [\\n1,758 kg\\n]\n",
      "15918    [\\n1,685 kg\\n]\n",
      "Name: Weight, Length: 15919, dtype: object\n",
      "6974\n",
      "[\\n1,163 kg\\n]    574\n",
      "[\\n1,360 kg\\n]    356\n",
      "[\\n1,165 kg\\n]    301\n",
      "[\\n1,335 kg\\n]    242\n",
      "[\\n1,135 kg\\n]    213\n",
      "                 ... \n",
      "[\\n1,331 kg\\n]      1\n",
      "[\\n1,132 kg\\n]      1\n",
      "[\\n1,252 kg\\n]      1\n",
      "[\\n1,792 kg\\n]      1\n",
      "[\\n2,037 kg\\n]      1\n",
      "Name: Weight, Length: 434, dtype: int64\n",
      "['\\n1,220 kg\\n']\n",
      "<class 'list'>\n"
     ]
    }
   ],
   "source": [
    "statusColList(\"Weight\")"
   ]
  },
  {
   "cell_type": "code",
   "execution_count": 62,
   "metadata": {},
   "outputs": [
    {
     "name": "stdout",
     "output_type": "stream",
     "text": [
      "0        220\n",
      "1        255\n",
      "2        NaN\n",
      "3        195\n",
      "4        NaN\n",
      "        ... \n",
      "15914    758\n",
      "15915    708\n",
      "15916    NaN\n",
      "15917    758\n",
      "15918    685\n",
      "Name: Weight, Length: 15919, dtype: object\n",
      "['220' '255' nan '195' '275' '250' '135' '175' '065' '180' '190' '630'\n",
      " '165' '205' '110' '675' '720' '625' '215' '200' '115' '665' '040' '660'\n",
      " '225' '090' '217' '610' '580' '155' '140' '230' '157' '120' '792' '635'\n",
      " '210' '640' '060' '105' '285' '500' '235' '088' '097' '125' '240' '695'\n",
      " '280' '035' '010' '223' '530' '540' '134' '600' '705' '650' '565' '145'\n",
      " '265' '\\n102' '263' '485' '094' '345' '130' '680' '166' '114' '260' '173'\n",
      " '100' '550' '335' '207' '179' '176' '169' '182' '178' '171' '144' '655'\n",
      " '136' '138' '133' '645' '181' '185' '206' '350' '150' '147' '146' '141'\n",
      " '156' '142' '118' '470' '355' '360' '305' '525' '395' '400' '880' '330'\n",
      " '365' '041' '420' '320' '905' '300' '840' '845' '850' '890' '340' '415'\n",
      " '270' '385' '390' '310' '325' '322' '465' '765' '315' '410' '800' '380'\n",
      " '865' '870' '374' '790' '455' '555' '370' '820' '585' '590' '595' '615'\n",
      " '575' '490' '685' '290' '245' '288' '885' '341' '505' '760' '815' '332'\n",
      " '795' '875' '735' '356' '237' '295' '425' '239' '236' '281' '785' '379'\n",
      " '319' '256' '495' '375' '730' '440' '430' '272' '750' '257' '740' '333'\n",
      " '985' '278' '975' '364' '397' '163' '273' '413' '308' '472' '549' '363'\n",
      " '471' '403' '244' '354' '291' '456' '437' '900' '254' '441' '216' '405'\n",
      " '388' '503' '518' '328' '289' '393' '613' '408' '618' '940' '571' '233'\n",
      " '476' '523' '209' '366' '435' '293' '318' '449' '198' '284' '950' '459'\n",
      " '378' '475' '188' '778' '298' '452' '234' '268' '396' '536' '312' '208'\n",
      " '444' '394' '382' '352' '383' '247' '326' '343' '294' '302' '372' '283'\n",
      " '199' '063' '248' '203' '\\n1' '099' '160' '162' '159' '066' '124' '259'\n",
      " '\\n840' '238' '137' '214' '184' '213' '960' '258' '167' '331' '211' '132'\n",
      " '170' '252' '119' '086' '513' '743' '741' '623' '701' '596' '664' '538'\n",
      " '733' '901' '674' '658' '601' '786' '843' '666' '929' '838' '522' '974'\n",
      " '450' '000' '548' '668' '543' '428' '626' '564' '788' '713' '589' '462'\n",
      " '633' '487' '716' '673' '510' '447' '560' '537' '582' '584' '958' '534'\n",
      " '492' '598' '567' '080' '422' '649' '807' '552' '772' '764' '507' '483'\n",
      " '591' '387' '683' '276' '153' '154' '079' '651' '228' '277' '717' '139'\n",
      " '054' '152' '279' '128' '164' '071' '686' '563' '121' '087' '092' '059'\n",
      " '052' '194' '058' '055' '\\n977' '084' '196' '009' '\\n980' '227' '224'\n",
      " '057' '030' '711' '082' '204' '201' '143' '123' '017' '670' '126' '\\n900'\n",
      " '267' '189' '566' '091' '127' '161' '659' '353' '734' '791' '684' '648'\n",
      " '634' '609' '819' '736' '621' '697' '622' '044' '804' '515' '761' '779'\n",
      " '708' '758' '724' '833' '891' '702' '809' '624' '780' '797' '647' '939'\n",
      " '608' '847' '037']\n",
      "163    574\n",
      "360    356\n",
      "165    301\n",
      "335    242\n",
      "135    213\n",
      "      ... \n",
      "950      1\n",
      "507      1\n",
      "764      1\n",
      "188      1\n",
      "037      1\n",
      "Name: Weight, Length: 421, dtype: int64\n",
      "6974\n"
     ]
    }
   ],
   "source": [
    "df[\"Weight\"] = df[\"Weight\"].dropna().apply(lambda x : x[0].replace(\"\\n1,\" , \"\"))\n",
    "df[\"Weight\"] = df[\"Weight\"].dropna().apply(lambda x : x.replace(\"\\n2,\" , \"\"))\n",
    "df[\"Weight\"] = df[\"Weight\"].dropna().apply(lambda x : x.replace(\" kg\\n\" , \"\"))\n",
    "afterEdit(\"Weight\") # Looking good."
   ]
  },
  {
   "cell_type": "code",
   "execution_count": 63,
   "metadata": {},
   "outputs": [
    {
     "name": "stdout",
     "output_type": "stream",
     "text": [
      "0        [\\nfront\\n]\n",
      "1        [\\nfront\\n]\n",
      "2        [\\nfront\\n]\n",
      "3                NaN\n",
      "4        [\\nfront\\n]\n",
      "            ...     \n",
      "15914    [\\nfront\\n]\n",
      "15915    [\\nfront\\n]\n",
      "15916    [\\nfront\\n]\n",
      "15917    [\\nfront\\n]\n",
      "15918      [\\n4WD\\n]\n",
      "Name: Drive chain, Length: 15919, dtype: object\n",
      "6858\n",
      "[\\nfront\\n]    8886\n",
      "[\\n4WD\\n]       171\n",
      "[\\nrear\\n]        4\n",
      "Name: Drive chain, dtype: int64\n",
      "['\\nfront\\n']\n",
      "<class 'list'>\n"
     ]
    }
   ],
   "source": [
    "statusColList(\"Drive chain\")"
   ]
  },
  {
   "cell_type": "code",
   "execution_count": 64,
   "metadata": {},
   "outputs": [
    {
     "name": "stdout",
     "output_type": "stream",
     "text": [
      "0        front\n",
      "1        front\n",
      "2        front\n",
      "3          NaN\n",
      "4        front\n",
      "         ...  \n",
      "15914    front\n",
      "15915    front\n",
      "15916    front\n",
      "15917    front\n",
      "15918      4WD\n",
      "Name: Drive chain, Length: 15919, dtype: object\n",
      "['front' nan '4WD' 'rear']\n",
      "front    8886\n",
      "4WD       171\n",
      "rear        4\n",
      "Name: Drive chain, dtype: int64\n",
      "6858\n"
     ]
    }
   ],
   "source": [
    "df[\"Drive chain\"] = df[\"Drive chain\"].dropna().apply(lambda x : x[0].replace(\"\\n\" , \"\"))\n",
    "afterEdit(\"Drive chain\") # Looks okay."
   ]
  },
  {
   "cell_type": "code",
   "execution_count": 65,
   "metadata": {},
   "outputs": [
    {
     "data": {
      "text/plain": [
       "Index(['body_type', 'price', 'vat', 'km', 'registration', 'prev_owner',\n",
       "       'hp(kW)', 'Type', 'Make', 'Model', 'First Registration', 'Body Color',\n",
       "       'Paint Type', 'Body Color Original', 'Upholstery', 'Body',\n",
       "       'Nr. of Doors', 'Nr. of Seats', 'Gearing Type', 'Displacement',\n",
       "       'Cylinders', 'Weight', 'Drive chain', 'Fuel', 'Consumption',\n",
       "       'CO2 Emission', 'Emission Class', '\\nComfort & Convenience\\n',\n",
       "       '\\nEntertainment & Media\\n', '\\nExtras\\n', '\\nSafety & Security\\n',\n",
       "       'description', 'Emission Label', 'Gears', 'Country version'],\n",
       "      dtype='object')"
      ]
     },
     "execution_count": 65,
     "metadata": {},
     "output_type": "execute_result"
    }
   ],
   "source": [
    "df.columns"
   ]
  },
  {
   "cell_type": "code",
   "execution_count": 66,
   "metadata": {},
   "outputs": [
    {
     "name": "stdout",
     "output_type": "stream",
     "text": [
      "0                    [\\n, Diesel (Particulate Filter), \\n]\n",
      "1                                       [\\n, Gasoline, \\n]\n",
      "2                    [\\n, Diesel (Particulate Filter), \\n]\n",
      "3                    [\\n, Diesel (Particulate Filter), \\n]\n",
      "4                    [\\n, Diesel (Particulate Filter), \\n]\n",
      "                               ...                        \n",
      "15914                [\\n, Diesel (Particulate Filter), \\n]\n",
      "15915    [\\n, Super 95 / Super Plus 98 (Particulate Fil...\n",
      "15916                                     [\\n, Diesel, \\n]\n",
      "15917                                     [\\n, Diesel, \\n]\n",
      "15918                                   [\\n, Super 95, \\n]\n",
      "Name: Fuel, Length: 15919, dtype: object\n",
      "0\n",
      "[\\n, Diesel (Particulate Filter), \\n]                                                                                  4315\n",
      "[\\n, Super 95, \\n]                                                                                                     3338\n",
      "[\\n, Gasoline, \\n]                                                                                                     3175\n",
      "[\\n, Diesel, \\n]                                                                                                       2984\n",
      "[\\n, Super 95 / Regular/Benzine 91, \\n]                                                                                 424\n",
      "                                                                                                                       ... \n",
      "[\\n, Regular/Benzine 91 / Super 95 / Regular/Benzine E10 91, \\n]                                                          1\n",
      "[\\n, Super Plus 98 / Super E10 95, \\n]                                                                                    1\n",
      "[\\n, Regular/Benzine 91 / Super 95 / Regular/Benzine E10 91 / Super E10 95 / Super Plus 98 / Super Plus E10 98, \\n]       1\n",
      "[\\n, Regular/Benzine 91 / Super Plus 98 / Regular/Benzine E10 91 / Super 95 / Super E10 95 / Super Plus E10 98, \\n]       1\n",
      "[\\n, Super Plus 98 / Super 95 / Super Plus E10 98, \\n]                                                                    1\n",
      "Name: Fuel, Length: 77, dtype: int64\n",
      "['\\n', 'Diesel (Particulate Filter)', '\\n']\n",
      "<class 'list'>\n"
     ]
    }
   ],
   "source": [
    "statusColList(\"Fuel\")"
   ]
  },
  {
   "cell_type": "code",
   "execution_count": 67,
   "metadata": {},
   "outputs": [
    {
     "name": "stdout",
     "output_type": "stream",
     "text": [
      "0                          Diesel (Particulate Filter)\n",
      "1                                             Gasoline\n",
      "2                          Diesel (Particulate Filter)\n",
      "3                          Diesel (Particulate Filter)\n",
      "4                          Diesel (Particulate Filter)\n",
      "                             ...                      \n",
      "15914                      Diesel (Particulate Filter)\n",
      "15915    Super 95 / Super Plus 98 (Particulate Filter)\n",
      "15916                                           Diesel\n",
      "15917                                           Diesel\n",
      "15918                                         Super 95\n",
      "Name: Fuel, Length: 15919, dtype: object\n",
      "['Diesel (Particulate Filter)' 'Gasoline' 'Super 95' 'Regular/Benzine 91'\n",
      " 'Diesel'\n",
      " 'Regular/Benzine 91 / Super Plus 98 / Regular/Benzine E10 91 / Super 95 / Super E10 95 / Super Plus E10 98'\n",
      " 'Super E10 95' 'Super 95 (Particulate Filter)'\n",
      " 'Super 95 / Regular/Benzine 91'\n",
      " 'Super 95 / Super Plus 98 / Super E10 95 / Super Plus E10 98'\n",
      " 'Super E10 95 / Super 95' 'Super 95 / Regular/Benzine 91 / Super Plus 98'\n",
      " 'Super 95 / Super Plus 98 / Super E10 95' 'Super 95 / Super Plus 98'\n",
      " 'Super 95 / Regular/Benzine 91 / Super E10 95 / Super Plus E10 98 / Super Plus 98 / Regular/Benzine E10 91'\n",
      " 'Others' 'Super 95 / Super E10 95' 'Gasoline (Particulate Filter)'\n",
      " 'Regular/Benzine E10 91 / Regular/Benzine 91 / Super 95 / Super Plus 98 / Super E10 95 / Super Plus E10 98'\n",
      " 'Super E10 95 / Super 95 / Super Plus 98 / Super Plus E10 98 (Particulate Filter)'\n",
      " 'Regular/Benzine E10 91'\n",
      " 'Super 95 / Super Plus 98 / Super Plus E10 98 / Super E10 95'\n",
      " 'Regular/Benzine 91 (Particulate Filter)'\n",
      " 'Super E10 95 (Particulate Filter)' 'Super Plus 98' 'CNG'\n",
      " 'Electric/Gasoline' 'CNG (Particulate Filter)'\n",
      " 'Others (Particulate Filter)'\n",
      " 'Super 95 / Super E10 95 (Particulate Filter)' 'Biogas'\n",
      " 'Super 95 / Biodiesel'\n",
      " 'Regular/Benzine 91 / Super 95 / Super Plus 98 / Regular/Benzine E10 91 / Super Plus E10 98 / Super E10 95'\n",
      " 'Super E10 95 / Super 95 / Super Plus 98 / Super Plus E10 98'\n",
      " 'Regular/Benzine 91 / Super 95 / Super Plus 98 / Super Plus E10 98 / Super E10 95 / Regular/Benzine E10 91 (Particulate Filter)'\n",
      " 'Regular/Benzine 91 / Super 95 / Super Plus 98'\n",
      " 'Regular/Benzine 91 / Super 95'\n",
      " 'Regular/Benzine 91 / Super 95 / Super Plus 98 / Regular/Benzine E10 91 / Super E10 95 / Super Plus E10 98'\n",
      " 'Super 95 / Regular/Benzine 91 / Super Plus 98 / Regular/Benzine E10 91 / Super E10 95 / Super Plus E10 98'\n",
      " 'Domestic gas H'\n",
      " 'Super 95 / Super E10 95 / Super Plus E10 98 / Super Plus 98'\n",
      " 'Regular/Benzine 91 / Regular/Benzine E10 91'\n",
      " 'Super E10 95 / Regular/Benzine 91 / Super 95 / Super Plus 98 / Regular/Benzine E10 91 / Super Plus E10 98'\n",
      " 'Super Plus E10 98 / Super 95 / Super Plus 98 / Super E10 95'\n",
      " 'Super 95 / Super Plus 98 (Particulate Filter)'\n",
      " 'Super Plus 98 / Super 95 / Super E10 95'\n",
      " 'Super 95 / Super Plus 98 / Super E10 95 / Super Plus E10 98 (Particulate Filter)'\n",
      " 'Super Plus E10 98'\n",
      " 'Regular/Benzine 91 / Super 95 / Regular/Benzine E10 91'\n",
      " 'Super Plus 98 / Super E10 95'\n",
      " 'Regular/Benzine 91 / Super 95 / Regular/Benzine E10 91 / Super E10 95 / Super Plus 98 / Super Plus E10 98'\n",
      " 'Super 95 / Regular/Benzine 91 / Super Plus 98 / Regular/Benzine E10 91 / Super Plus E10 98 / Super E10 95'\n",
      " 'LPG' 'Liquid petroleum gas (LPG)'\n",
      " 'Super 95 / Regular/Benzine 91 / Super E10 95 / Super Plus E10 98 / Super Plus 98'\n",
      " 'Regular/Benzine E10 91 / Super E10 95 / Super Plus E10 98 / Super Plus 98 / Super 95 / Regular/Benzine 91'\n",
      " 'Regular/Benzine 91 / Super 95 / Super E10 95'\n",
      " 'Super 95 / Regular/Benzine E10 91 / Super E10 95'\n",
      " 'Regular/Benzine 91 / Super 95 / Super E10 95 / Regular/Benzine E10 91'\n",
      " 'Super E10 95 / Super Plus E10 98'\n",
      " 'Super 95 / Regular/Benzine 91 / Super E10 95 / Super Plus 98 / Super Plus E10 98 / Regular/Benzine E10 91'\n",
      " 'Super E10 95 / Super 95 / Super Plus 98'\n",
      " 'Super E10 95 / Regular/Benzine 91 / Regular/Benzine E10 91 / Super 95'\n",
      " 'Super 95 / Regular/Benzine E10 91'\n",
      " 'Regular/Benzine 91 / Super 95 / Super Plus E10 98 / Super E10 95 / Regular/Benzine E10 91 / Super Plus 98'\n",
      " 'Regular/Benzine 91 / Super 95 / Super Plus 98 / Super Plus E10 98 / Super E10 95 / Regular/Benzine E10 91'\n",
      " 'Super 95 / Super E10 95 / Super Plus E10 98'\n",
      " 'Regular/Benzine 91 / Super 95 / Super E10 95 / Super Plus E10 98 / Super Plus 98 / Regular/Benzine E10 91'\n",
      " 'Super 95 / Super Plus 98 / Regular/Benzine E10 91 / Super Plus E10 98 / Super E10 95 / Regular/Benzine 91'\n",
      " 'Super Plus 98 / Regular/Benzine 91'\n",
      " 'Super 95 / Regular/Benzine 91 (Particulate Filter)'\n",
      " 'Super 95 / Super E10 95 / Regular/Benzine 91'\n",
      " 'Super 95 / Super E10 95 / Super Plus 98' 'Electric'\n",
      " 'Super E10 95 / Regular/Benzine 91'\n",
      " 'Super 95 / Super Plus 98 / Super Plus E10 98'\n",
      " 'Super Plus 98 / Super 95 / Super Plus E10 98']\n",
      "Diesel (Particulate Filter)                                                                                  4315\n",
      "Super 95                                                                                                     3338\n",
      "Gasoline                                                                                                     3175\n",
      "Diesel                                                                                                       2984\n",
      "Super 95 / Regular/Benzine 91                                                                                 424\n",
      "                                                                                                             ... \n",
      "Regular/Benzine 91 / Super 95 / Regular/Benzine E10 91                                                          1\n",
      "Super Plus 98 / Super E10 95                                                                                    1\n",
      "Regular/Benzine 91 / Super 95 / Regular/Benzine E10 91 / Super E10 95 / Super Plus 98 / Super Plus E10 98       1\n",
      "Regular/Benzine 91 / Super Plus 98 / Regular/Benzine E10 91 / Super 95 / Super E10 95 / Super Plus E10 98       1\n",
      "Super Plus 98 / Super 95 / Super Plus E10 98                                                                    1\n",
      "Name: Fuel, Length: 77, dtype: int64\n",
      "0\n"
     ]
    }
   ],
   "source": [
    "df[\"Fuel\"] = df[\"Fuel\"].apply(lambda x : x[1])\n",
    "afterEdit(\"Fuel\")"
   ]
  },
  {
   "cell_type": "code",
   "execution_count": 68,
   "metadata": {},
   "outputs": [],
   "source": [
    "#statusColList(\"Consumption\") # Buna dönücem sonra."
   ]
  },
  {
   "cell_type": "code",
   "execution_count": 69,
   "metadata": {},
   "outputs": [],
   "source": [
    "#print(df[\"Consumption\"][0][0][0].replace(\" l/100 km (comb)\" , \"\"))\n",
    "#print(df[\"Consumption\"][0][1][0].replace(\" l/100 km (city)\" , \"\"))\n",
    "#print(df[\"Consumption\"][0][2][0].replace(\" l/100 km (country)\" , \"\"))"
   ]
  },
  {
   "cell_type": "code",
   "execution_count": 70,
   "metadata": {},
   "outputs": [],
   "source": [
    "#float(df[\"Consumption\"][0][0][0].replace(\" l/100 km (comb)\" , \"\"))"
   ]
  },
  {
   "cell_type": "code",
   "execution_count": 71,
   "metadata": {},
   "outputs": [],
   "source": [
    "#df[\"Consumption(comb)\"] = df[\"Consumption\"].dropna().apply(lambda x : x[0][0].replace(\" l/100 km (comb)\", \"\") if (type(x[0][0]) == str) else x) # Not working yet. I'll fix it later.\n",
    "#df[\"Consumption(comb)\"]"
   ]
  },
  {
   "cell_type": "code",
   "execution_count": 72,
   "metadata": {},
   "outputs": [],
   "source": [
    "#df[\"Consumption\"] = df[\"Consumption\"].dropna().apply(lambda x: x[:][0] + x[:][1] + x[:][2])\n",
    "#df[\"Consumption\"] # Not good enough."
   ]
  },
  {
   "cell_type": "code",
   "execution_count": 73,
   "metadata": {},
   "outputs": [
    {
     "data": {
      "text/plain": [
       "Index(['body_type', 'price', 'vat', 'km', 'registration', 'prev_owner',\n",
       "       'hp(kW)', 'Type', 'Make', 'Model', 'First Registration', 'Body Color',\n",
       "       'Paint Type', 'Body Color Original', 'Upholstery', 'Body',\n",
       "       'Nr. of Doors', 'Nr. of Seats', 'Gearing Type', 'Displacement',\n",
       "       'Cylinders', 'Weight', 'Drive chain', 'Fuel', 'Consumption',\n",
       "       'CO2 Emission', 'Emission Class', '\\nComfort & Convenience\\n',\n",
       "       '\\nEntertainment & Media\\n', '\\nExtras\\n', '\\nSafety & Security\\n',\n",
       "       'description', 'Emission Label', 'Gears', 'Country version'],\n",
       "      dtype='object')"
      ]
     },
     "execution_count": 73,
     "metadata": {},
     "output_type": "execute_result"
    }
   ],
   "source": [
    "df.columns"
   ]
  },
  {
   "cell_type": "code",
   "execution_count": 74,
   "metadata": {},
   "outputs": [
    {
     "name": "stdout",
     "output_type": "stream",
     "text": [
      "0         [\\n99 g CO2/km (comb)\\n]\n",
      "1        [\\n129 g CO2/km (comb)\\n]\n",
      "2         [\\n99 g CO2/km (comb)\\n]\n",
      "3         [\\n99 g CO2/km (comb)\\n]\n",
      "4        [\\n109 g CO2/km (comb)\\n]\n",
      "                   ...            \n",
      "15914    [\\n139 g CO2/km (comb)\\n]\n",
      "15915    [\\n168 g CO2/km (comb)\\n]\n",
      "15916    [\\n139 g CO2/km (comb)\\n]\n",
      "15917    [\\n139 g CO2/km (comb)\\n]\n",
      "15918    [\\n153 g CO2/km (comb)\\n]\n",
      "Name: CO2 Emission, Length: 15919, dtype: object\n",
      "1808\n",
      "[\\n120 g CO2/km (comb)\\n]      740\n",
      "[[], [], []]                   628\n",
      "[\\n99 g CO2/km (comb)\\n]       545\n",
      "[\\n97 g CO2/km (comb)\\n]       537\n",
      "[\\n104 g CO2/km (comb)\\n]      501\n",
      "                              ... \n",
      "[\\n14 g CO2/km (comb)\\n]         1\n",
      "[\\n1,060 g CO2/km (comb)\\n]      1\n",
      "[\\n51 g CO2/km (comb)\\n]         1\n",
      "[\\n165 g CO2/km (comb)\\n]        1\n",
      "[\\n193 g CO2/km (comb)\\n]        1\n",
      "Name: CO2 Emission, Length: 123, dtype: int64\n",
      "['\\n99 g CO2/km (comb)\\n']\n",
      "<class 'list'>\n"
     ]
    }
   ],
   "source": [
    "statusColList(\"CO2 Emission\")"
   ]
  },
  {
   "cell_type": "code",
   "execution_count": 75,
   "metadata": {},
   "outputs": [
    {
     "data": {
      "text/plain": [
       "'\\n99 g CO2/km (comb)\\n'"
      ]
     },
     "execution_count": 75,
     "metadata": {},
     "output_type": "execute_result"
    }
   ],
   "source": [
    "df[\"CO2 Emission\"][0][0]"
   ]
  },
  {
   "cell_type": "code",
   "execution_count": 76,
   "metadata": {},
   "outputs": [
    {
     "name": "stdout",
     "output_type": "stream",
     "text": [
      "0         99\n",
      "1        129\n",
      "2         99\n",
      "3         99\n",
      "4        109\n",
      "        ... \n",
      "15914    139\n",
      "15915    168\n",
      "15916    139\n",
      "15917    139\n",
      "15918    153\n",
      "Name: CO2 Emission, Length: 15919, dtype: object\n",
      "['99' '129' '109' '92' '98' '97' nan '105' '112' '103' '102' '95' '104'\n",
      " '91' '94' '117' '123' '106' '108' '121' '107' '101' '113' '137' '100'\n",
      " '116' '114' '118' '331' '115' '119' '90' '136' '134' '110' '111' '120'\n",
      " '89' '142' '126' '122' '128' '127' '138' '130' '125' '85' '124' '152'\n",
      " '88' '189' '194' '149' '153' '188' '36' '96' '990' '146' '135' '158'\n",
      " '141' '172' '154' '150' '167' '174' '93' '133' '131' '145' '147' '156'\n",
      " '87' '148' '139' '151' '144' '168' '160' '170' '80' '132' '155' '14'\n",
      " '159' '143' '140' '82' '84' '165' '51' '157' '169' '166' '253' '164'\n",
      " '175' '190' '161' '239' '197' '184' '199' '187' '181' '186' '177' '180'\n",
      " '162' '45' '171' '183' '191' '193']\n",
      "120    740\n",
      "99     545\n",
      "97     537\n",
      "104    501\n",
      "102    477\n",
      "      ... \n",
      "331      1\n",
      "14       1\n",
      "51       1\n",
      "165      1\n",
      "193      1\n",
      "Name: CO2 Emission, Length: 114, dtype: int64\n",
      "2449\n"
     ]
    }
   ],
   "source": [
    "df[\"CO2 Emission\"] = df[\"CO2 Emission\"].dropna().apply(lambda x : x[0].replace(\"\\n\" , \"\") if (type(x[0]) == str) else np.NaN)\n",
    "df[\"CO2 Emission\"] = df[\"CO2 Emission\"].dropna().apply(lambda x : x.replace(\" g CO2/km (comb)\" , \"\"))\n",
    "df[\"CO2 Emission\"] = df[\"CO2 Emission\"].dropna().apply(lambda x : np.NaN if len(x) > 3 else x) \n",
    "df[\"CO2 Emission\"] = df[\"CO2 Emission\"].dropna().apply(lambda x : np.NaN if len(str(x)) == 1 else x) \n",
    "df[\"CO2 Emission\"].rename({\"CO2 Emission\" : \"CO2 Emission (g/km)\"})\n",
    "afterEdit(\"CO2 Emission\") # Not the best. I'll check it later again."
   ]
  },
  {
   "cell_type": "code",
   "execution_count": 77,
   "metadata": {},
   "outputs": [
    {
     "name": "stdout",
     "output_type": "stream",
     "text": [
      "0              [\\nEuro 6\\n]\n",
      "1              [\\nEuro 6\\n]\n",
      "2              [\\nEuro 6\\n]\n",
      "3              [\\nEuro 6\\n]\n",
      "4              [\\nEuro 6\\n]\n",
      "                ...        \n",
      "15914                   NaN\n",
      "15915                   NaN\n",
      "15916    [\\nEuro 6d-TEMP\\n]\n",
      "15917          [\\nEuro 6\\n]\n",
      "15918          [\\nEuro 6\\n]\n",
      "Name: Emission Class, Length: 15919, dtype: object\n",
      "3021\n",
      "[\\nEuro 6\\n]          10139\n",
      "[\\nEuro 6d-TEMP\\n]     1845\n",
      "[[], [], []]            607\n",
      "[\\nEuro 6c\\n]           127\n",
      "[\\nEuro 5\\n]             78\n",
      "[\\nEuro 6d\\n]            62\n",
      "[\\nEuro 4\\n]             40\n",
      "Name: Emission Class, dtype: int64\n",
      "['\\nEuro 6\\n']\n",
      "<class 'list'>\n"
     ]
    }
   ],
   "source": [
    "statusColList(\"Emission Class\")"
   ]
  },
  {
   "cell_type": "code",
   "execution_count": 78,
   "metadata": {},
   "outputs": [
    {
     "name": "stdout",
     "output_type": "stream",
     "text": [
      "0              Euro 6\n",
      "1              Euro 6\n",
      "2              Euro 6\n",
      "3              Euro 6\n",
      "4              Euro 6\n",
      "             ...     \n",
      "15914             NaN\n",
      "15915             NaN\n",
      "15916    Euro 6d-TEMP\n",
      "15917          Euro 6\n",
      "15918          Euro 6\n",
      "Name: Emission Class, Length: 15919, dtype: object\n",
      "['Euro 6' nan 'Euro 5' 'Euro 6d-TEMP' 'Euro 6c' 'Euro 4' 'Euro 6d']\n",
      "Euro 6          10139\n",
      "Euro 6d-TEMP     1845\n",
      "Euro 6c           127\n",
      "Euro 5             78\n",
      "Euro 6d            62\n",
      "Euro 4             40\n",
      "Name: Emission Class, dtype: int64\n",
      "3628\n"
     ]
    }
   ],
   "source": [
    "df[\"Emission Class\"] = df[\"Emission Class\"].dropna().apply(lambda x : x[0].replace(\"\\n\" , \"\") if type(x[0]) == str else np.NaN)\n",
    "afterEdit(\"Emission Class\") # Looks good.\n"
   ]
  },
  {
   "cell_type": "code",
   "execution_count": 79,
   "metadata": {},
   "outputs": [
    {
     "name": "stdout",
     "output_type": "stream",
     "text": [
      "0        [Air conditioning, Armrest, Automatic climate ...\n",
      "1        [Air conditioning, Automatic climate control, ...\n",
      "2        [Air conditioning, Cruise control, Electrical ...\n",
      "3        [Air suspension, Armrest, Auxiliary heating, E...\n",
      "4        [Air conditioning, Armrest, Automatic climate ...\n",
      "                               ...                        \n",
      "15914    [Air conditioning, Automatic climate control, ...\n",
      "15915    [Air conditioning, Automatic climate control, ...\n",
      "15916    [Air conditioning, Armrest, Automatic climate ...\n",
      "15917    [Air conditioning, Automatic climate control, ...\n",
      "15918    [Air conditioning, Automatic climate control, ...\n",
      "Name: \\nComfort & Convenience\\n, Length: 15919, dtype: object\n",
      "920\n",
      "[Air conditioning, Electrical side mirrors, Hill Holder, Power windows]                                                                                                                                                                                                                                                                                                                                                                                                                                                      216\n",
      "[Air conditioning, Electrical side mirrors, Power windows]                                                                                                                                                                                                                                                                                                                                                                                                                                                                   134\n",
      "[Air conditioning, Power windows]                                                                                                                                                                                                                                                                                                                                                                                                                                                                                            130\n",
      "[Air conditioning, Armrest, Automatic climate control, Cruise control, Electrical side mirrors, Leather steering wheel, Light sensor, Lumbar support, Multi-function steering wheel, Navigation system, Park Distance Control, Parking assist system sensors front, Parking assist system sensors rear, Power windows, Rain sensor, Seat heating, Start-stop system]                                                                                                                                                         105\n",
      "[Air conditioning, Armrest, Automatic climate control, Cruise control, Electrical side mirrors, Hill Holder, Leather steering wheel, Light sensor, Multi-function steering wheel, Navigation system, Park Distance Control, Parking assist system sensors rear, Power windows, Rain sensor, Seat heating, Start-stop system]                                                                                                                                                                                                  92\n",
      "                                                                                                                                                                                                                                                                                                                                                                                                                                                                                                                            ... \n",
      "[Air conditioning, Cruise control, Electrical side mirrors, Multi-function steering wheel, Park Distance Control, Parking assist system sensors front, Parking assist system sensors rear, Power windows, Start-stop system]                                                                                                                                                                                                                                                                                                   1\n",
      "[Air conditioning, Armrest, Cruise control, Electrical side mirrors, Heated steering wheel, Hill Holder, Leather steering wheel, Light sensor, Multi-function steering wheel, Park Distance Control, Parking assist system camera, Parking assist system sensors rear, Power windows, Rain sensor, Seat heating, Split rear seats, Start-stop system, Sunroof, Tinted windows]                                                                                                                                                 1\n",
      "[Air conditioning, Armrest, Cruise control, Hill Holder, Leather steering wheel, Multi-function steering wheel, Park Distance Control, Parking assist system sensors front, Parking assist system sensors rear, Power windows]                                                                                                                                                                                                                                                                                                 1\n",
      "[Air conditioning, Armrest, Automatic climate control, Cruise control, Electrical side mirrors, Leather steering wheel, Multi-function steering wheel, Power windows, Rain sensor, Start-stop system, Tinted windows]                                                                                                                                                                                                                                                                                                          1\n",
      "[Air conditioning, Automatic climate control, Cruise control, Electrically heated windshield, Electrical side mirrors, Electric tailgate, Heads-up display, Heated steering wheel, Hill Holder, Keyless central door lock, Leather steering wheel, Light sensor, Lumbar support, Navigation system, Park Distance Control, Parking assist system camera, Parking assist system self-steering, Parking assist system sensors front, Parking assist system sensors rear, Power windows, Rain sensor, Seat heating, Sunroof]      1\n",
      "Name: \\nComfort & Convenience\\n, Length: 6198, dtype: int64\n",
      "['Air conditioning', 'Armrest', 'Automatic climate control', 'Cruise control', 'Electrical side mirrors', 'Hill Holder', 'Leather steering wheel', 'Light sensor', 'Multi-function steering wheel', 'Navigation system', 'Park Distance Control', 'Parking assist system sensors rear', 'Power windows', 'Rain sensor', 'Seat heating', 'Start-stop system']\n",
      "<class 'list'>\n"
     ]
    },
    {
     "data": {
      "text/plain": [
       "Index(['body_type', 'price', 'vat', 'km', 'registration', 'prev_owner',\n",
       "       'hp(kW)', 'Type', 'Make', 'Model', 'First Registration', 'Body Color',\n",
       "       'Paint Type', 'Body Color Original', 'Upholstery', 'Body',\n",
       "       'Nr. of Doors', 'Nr. of Seats', 'Gearing Type', 'Displacement',\n",
       "       'Cylinders', 'Weight', 'Drive chain', 'Fuel', 'Consumption',\n",
       "       'CO2 Emission', 'Emission Class', '\\nEntertainment & Media\\n',\n",
       "       '\\nExtras\\n', '\\nSafety & Security\\n', 'description', 'Emission Label',\n",
       "       'Gears', 'Country version'],\n",
       "      dtype='object')"
      ]
     },
     "execution_count": 79,
     "metadata": {},
     "output_type": "execute_result"
    }
   ],
   "source": [
    "statusColList(\"\\nComfort & Convenience\\n\") # We cant analyse something with this feature.Drop !\n",
    "df.drop(\"\\nComfort & Convenience\\n\", axis = 1 , inplace = True)\n",
    "df.columns"
   ]
  },
  {
   "cell_type": "code",
   "execution_count": 80,
   "metadata": {},
   "outputs": [
    {
     "name": "stdout",
     "output_type": "stream",
     "text": [
      "0        [Bluetooth, Hands-free equipment, On-board com...\n",
      "1        [Bluetooth, Hands-free equipment, On-board com...\n",
      "2                                 [MP3, On-board computer]\n",
      "3        [Bluetooth, CD player, Hands-free equipment, M...\n",
      "4        [Bluetooth, CD player, Hands-free equipment, M...\n",
      "                               ...                        \n",
      "15914    [Bluetooth, Digital radio, Hands-free equipmen...\n",
      "15915    [Bluetooth, Digital radio, Hands-free equipmen...\n",
      "15916    [Bluetooth, Hands-free equipment, On-board com...\n",
      "15917               [Bluetooth, Digital radio, Radio, USB]\n",
      "15918                                                [USB]\n",
      "Name: \\nEntertainment & Media\\n, Length: 15919, dtype: object\n",
      "1374\n",
      "[Bluetooth, Hands-free equipment, On-board computer, Radio, USB]                         1282\n",
      "[Bluetooth, Hands-free equipment, MP3, On-board computer, Radio, USB]                     982\n",
      "[Bluetooth, CD player, Hands-free equipment, MP3, On-board computer, Radio, USB]          783\n",
      "[On-board computer, Radio]                                                                487\n",
      "[Radio]                                                                                   477\n",
      "                                                                                         ... \n",
      "[Bluetooth, CD player, MP3]                                                                 1\n",
      "[CD player, USB]                                                                            1\n",
      "[Bluetooth, CD player, Digital radio, Radio, USB]                                           1\n",
      "[Bluetooth, CD player, Digital radio, MP3, On-board computer, Radio, Television, USB]       1\n",
      "[Hands-free equipment, On-board computer, Radio, Sound system]                              1\n",
      "Name: \\nEntertainment & Media\\n, Length: 346, dtype: int64\n",
      "['Bluetooth', 'Hands-free equipment', 'On-board computer', 'Radio']\n",
      "<class 'list'>\n"
     ]
    }
   ],
   "source": [
    "statusColList(\"\\nEntertainment & Media\\n\") # Same. Drop.\n",
    "df.drop(\"\\nEntertainment & Media\\n\", axis = 1 , inplace = True)\n",
    "df.drop(\"\\nExtras\\n\", axis = 1 , inplace = True)\n",
    "df.drop(\"\\nSafety & Security\\n\", axis = 1 , inplace = True)\n",
    "df.drop(\"description\", axis = 1 , inplace = True)"
   ]
  },
  {
   "cell_type": "code",
   "execution_count": 81,
   "metadata": {},
   "outputs": [
    {
     "name": "stdout",
     "output_type": "stream",
     "text": [
      "0                    NaN\n",
      "1        [\\n4 (Green)\\n]\n",
      "2        [\\n4 (Green)\\n]\n",
      "3                    NaN\n",
      "4                    NaN\n",
      "              ...       \n",
      "15914                NaN\n",
      "15915                NaN\n",
      "15916                NaN\n",
      "15917                NaN\n",
      "15918    [\\n4 (Green)\\n]\n",
      "Name: Emission Label, Length: 15919, dtype: object\n",
      "11934\n",
      "[\\n4 (Green)\\n]         3553\n",
      "[\\n1 (No sticker)\\n]     381\n",
      "[[], [], []]              40\n",
      "[\\n5 (Blue)\\n]             8\n",
      "[\\n3 (Yellow)\\n]           2\n",
      "[\\n2 (Red)\\n]              1\n",
      "Name: Emission Label, dtype: int64\n",
      "nan\n",
      "<class 'float'>\n"
     ]
    }
   ],
   "source": [
    "statusColList(\"Emission Label\") # Too much nan. And not too important. Drop\n",
    "df.drop(\"Emission Label\", axis = 1 , inplace = True)"
   ]
  },
  {
   "cell_type": "code",
   "execution_count": 82,
   "metadata": {},
   "outputs": [
    {
     "name": "stdout",
     "output_type": "stream",
     "text": [
      "0            NaN\n",
      "1        [\\n7\\n]\n",
      "2            NaN\n",
      "3        [\\n6\\n]\n",
      "4            NaN\n",
      "          ...   \n",
      "15914    [\\n6\\n]\n",
      "15915    [\\n7\\n]\n",
      "15916    [\\n6\\n]\n",
      "15917    [\\n6\\n]\n",
      "15918        NaN\n",
      "Name: Gears, Length: 15919, dtype: object\n",
      "4712\n",
      "[\\n6\\n]     5822\n",
      "[\\n5\\n]     3239\n",
      "[\\n7\\n]     1908\n",
      "[\\n8\\n]      224\n",
      "[\\n9\\n]        6\n",
      "[\\n1\\n]        2\n",
      "[\\n3\\n]        2\n",
      "[\\n4\\n]        2\n",
      "[\\n2\\n]        1\n",
      "[\\n50\\n]       1\n",
      "Name: Gears, dtype: int64\n",
      "nan\n",
      "<class 'float'>\n"
     ]
    }
   ],
   "source": [
    "statusColList(\"Gears\")"
   ]
  },
  {
   "cell_type": "code",
   "execution_count": 83,
   "metadata": {},
   "outputs": [
    {
     "name": "stdout",
     "output_type": "stream",
     "text": [
      "0        NaN\n",
      "1          7\n",
      "2        NaN\n",
      "3          6\n",
      "4        NaN\n",
      "        ... \n",
      "15914      6\n",
      "15915      7\n",
      "15916      6\n",
      "15917      6\n",
      "15918    NaN\n",
      "Name: Gears, Length: 15919, dtype: object\n",
      "[nan '7' '6' '5' '8' '1' '2' '9' '3' '4']\n",
      "6    5822\n",
      "5    3240\n",
      "7    1908\n",
      "8     224\n",
      "9       6\n",
      "1       2\n",
      "3       2\n",
      "4       2\n",
      "2       1\n",
      "Name: Gears, dtype: int64\n",
      "4712\n"
     ]
    }
   ],
   "source": [
    "df[\"Gears\"] = df[\"Gears\"].dropna().apply(lambda x : x[0].replace(\"\\n\" , \"\"))\n",
    "df[\"Gears\"] = df[\"Gears\"].dropna().apply(lambda x : x[0] if len(x) == 2 else x)\n",
    "afterEdit(\"Gears\") # That's it. Nice !"
   ]
  },
  {
   "cell_type": "code",
   "execution_count": 84,
   "metadata": {},
   "outputs": [
    {
     "name": "stdout",
     "output_type": "stream",
     "text": [
      "0                  NaN\n",
      "1                  NaN\n",
      "2                  NaN\n",
      "3                  NaN\n",
      "4        [\\nGermany\\n]\n",
      "             ...      \n",
      "15914              NaN\n",
      "15915    [\\nGermany\\n]\n",
      "15916    [\\nAustria\\n]\n",
      "15917              NaN\n",
      "15918    [\\nGermany\\n]\n",
      "Name: Country version, Length: 15919, dtype: object\n",
      "8333\n",
      "[\\nGermany\\n]           4502\n",
      "[\\nItaly\\n]             1038\n",
      "[\\nEuropean Union\\n]     507\n",
      "[\\nNetherlands\\n]        464\n",
      "[\\nSpain\\n]              325\n",
      "[\\nBelgium\\n]            314\n",
      "[\\nAustria\\n]            208\n",
      "[\\nCzech Republic\\n]      52\n",
      "[\\nPoland\\n]              49\n",
      "[\\nFrance\\n]              38\n",
      "[\\nDenmark\\n]             33\n",
      "[\\nHungary\\n]             28\n",
      "[\\nJapan\\n]                8\n",
      "[\\nSlovakia\\n]             4\n",
      "[\\nCroatia\\n]              4\n",
      "[\\nSweden\\n]               3\n",
      "[\\nRomania\\n]              2\n",
      "[\\nBulgaria\\n]             2\n",
      "[\\nLuxembourg\\n]           1\n",
      "[\\nSwitzerland\\n]          1\n",
      "[\\nSlovenia\\n]             1\n",
      "[\\nEgypt\\n]                1\n",
      "[\\nSerbia\\n]               1\n",
      "Name: Country version, dtype: int64\n",
      "nan\n",
      "<class 'float'>\n"
     ]
    }
   ],
   "source": [
    "statusColList(\"Country version\")"
   ]
  },
  {
   "cell_type": "code",
   "execution_count": 85,
   "metadata": {},
   "outputs": [
    {
     "name": "stdout",
     "output_type": "stream",
     "text": [
      "0            NaN\n",
      "1            NaN\n",
      "2            NaN\n",
      "3            NaN\n",
      "4        Germany\n",
      "          ...   \n",
      "15914        NaN\n",
      "15915    Germany\n",
      "15916    Austria\n",
      "15917        NaN\n",
      "15918    Germany\n",
      "Name: Country version, Length: 15919, dtype: object\n",
      "[nan 'Germany' 'Italy' 'Belgium' 'Netherlands' 'Spain' 'European Union'\n",
      " 'Switzerland' 'Austria' 'Luxembourg' 'France' 'Denmark' 'Poland'\n",
      " 'Romania' 'Slovakia' 'Sweden' 'Czech Republic' 'Hungary' 'Slovenia'\n",
      " 'Croatia' 'Egypt' 'Serbia' 'Bulgaria' 'Japan']\n",
      "Germany           4502\n",
      "Italy             1038\n",
      "European Union     507\n",
      "Netherlands        464\n",
      "Spain              325\n",
      "Belgium            314\n",
      "Austria            208\n",
      "Czech Republic      52\n",
      "Poland              49\n",
      "France              38\n",
      "Denmark             33\n",
      "Hungary             28\n",
      "Japan                8\n",
      "Slovakia             4\n",
      "Croatia              4\n",
      "Sweden               3\n",
      "Romania              2\n",
      "Bulgaria             2\n",
      "Luxembourg           1\n",
      "Switzerland          1\n",
      "Slovenia             1\n",
      "Egypt                1\n",
      "Serbia               1\n",
      "Name: Country version, dtype: int64\n",
      "8333\n"
     ]
    }
   ],
   "source": [
    "df[\"Country version\"] = df[\"Country version\"].dropna().apply(lambda x: x[0].replace(\"\\n\" , \"\"))\n",
    "afterEdit(\"Country version\") # Looking good."
   ]
  },
  {
   "cell_type": "code",
   "execution_count": 86,
   "metadata": {},
   "outputs": [
    {
     "data": {
      "text/html": [
       "<div>\n",
       "<style scoped>\n",
       "    .dataframe tbody tr th:only-of-type {\n",
       "        vertical-align: middle;\n",
       "    }\n",
       "\n",
       "    .dataframe tbody tr th {\n",
       "        vertical-align: top;\n",
       "    }\n",
       "\n",
       "    .dataframe thead th {\n",
       "        text-align: right;\n",
       "    }\n",
       "</style>\n",
       "<table border=\"1\" class=\"dataframe\">\n",
       "  <thead>\n",
       "    <tr style=\"text-align: right;\">\n",
       "      <th></th>\n",
       "      <th>body_type</th>\n",
       "      <th>price</th>\n",
       "      <th>vat</th>\n",
       "      <th>km</th>\n",
       "      <th>registration</th>\n",
       "      <th>prev_owner</th>\n",
       "      <th>hp(kW)</th>\n",
       "      <th>Type</th>\n",
       "      <th>Make</th>\n",
       "      <th>Model</th>\n",
       "      <th>...</th>\n",
       "      <th>Displacement</th>\n",
       "      <th>Cylinders</th>\n",
       "      <th>Weight</th>\n",
       "      <th>Drive chain</th>\n",
       "      <th>Fuel</th>\n",
       "      <th>Consumption</th>\n",
       "      <th>CO2 Emission</th>\n",
       "      <th>Emission Class</th>\n",
       "      <th>Gears</th>\n",
       "      <th>Country version</th>\n",
       "    </tr>\n",
       "  </thead>\n",
       "  <tbody>\n",
       "    <tr>\n",
       "      <th>0</th>\n",
       "      <td>Sedans</td>\n",
       "      <td>15770</td>\n",
       "      <td>VAT deductible</td>\n",
       "      <td>56.013</td>\n",
       "      <td>2016-01-01</td>\n",
       "      <td>2.0</td>\n",
       "      <td>66</td>\n",
       "      <td>Used - Diesel (Particulate Filter)</td>\n",
       "      <td>Audi</td>\n",
       "      <td>A1</td>\n",
       "      <td>...</td>\n",
       "      <td>422</td>\n",
       "      <td>3</td>\n",
       "      <td>220</td>\n",
       "      <td>front</td>\n",
       "      <td>Diesel (Particulate Filter)</td>\n",
       "      <td>[[3.8 l/100 km (comb)], [4.3 l/100 km (city)],...</td>\n",
       "      <td>99</td>\n",
       "      <td>Euro 6</td>\n",
       "      <td>NaN</td>\n",
       "      <td>NaN</td>\n",
       "    </tr>\n",
       "    <tr>\n",
       "      <th>1</th>\n",
       "      <td>Sedans</td>\n",
       "      <td>14500</td>\n",
       "      <td>Price negotiable</td>\n",
       "      <td>80.000</td>\n",
       "      <td>2017-03-01</td>\n",
       "      <td>NaN</td>\n",
       "      <td>141</td>\n",
       "      <td>Used - Gasoline</td>\n",
       "      <td>Audi</td>\n",
       "      <td>A1</td>\n",
       "      <td>...</td>\n",
       "      <td>798</td>\n",
       "      <td>4</td>\n",
       "      <td>255</td>\n",
       "      <td>front</td>\n",
       "      <td>Gasoline</td>\n",
       "      <td>[[5.6 l/100 km (comb)], [7.1 l/100 km (city)],...</td>\n",
       "      <td>129</td>\n",
       "      <td>Euro 6</td>\n",
       "      <td>7</td>\n",
       "      <td>NaN</td>\n",
       "    </tr>\n",
       "    <tr>\n",
       "      <th>2</th>\n",
       "      <td>Sedans</td>\n",
       "      <td>14640</td>\n",
       "      <td>VAT deductible</td>\n",
       "      <td>83.450</td>\n",
       "      <td>2016-02-01</td>\n",
       "      <td>1.0</td>\n",
       "      <td>85</td>\n",
       "      <td>Used - Diesel (Particulate Filter)</td>\n",
       "      <td>Audi</td>\n",
       "      <td>A1</td>\n",
       "      <td>...</td>\n",
       "      <td>598</td>\n",
       "      <td>NaN</td>\n",
       "      <td>NaN</td>\n",
       "      <td>front</td>\n",
       "      <td>Diesel (Particulate Filter)</td>\n",
       "      <td>[[3.8 l/100 km (comb)], [4.4 l/100 km (city)],...</td>\n",
       "      <td>99</td>\n",
       "      <td>Euro 6</td>\n",
       "      <td>NaN</td>\n",
       "      <td>NaN</td>\n",
       "    </tr>\n",
       "    <tr>\n",
       "      <th>3</th>\n",
       "      <td>Sedans</td>\n",
       "      <td>14500</td>\n",
       "      <td>None</td>\n",
       "      <td>73.000</td>\n",
       "      <td>2016-08-01</td>\n",
       "      <td>1.0</td>\n",
       "      <td>66</td>\n",
       "      <td>Used - Diesel (Particulate Filter)</td>\n",
       "      <td>Audi</td>\n",
       "      <td>A1</td>\n",
       "      <td>...</td>\n",
       "      <td>422</td>\n",
       "      <td>3</td>\n",
       "      <td>195</td>\n",
       "      <td>NaN</td>\n",
       "      <td>Diesel (Particulate Filter)</td>\n",
       "      <td>[[3.8 l/100 km (comb)], [4.3 l/100 km (city)],...</td>\n",
       "      <td>99</td>\n",
       "      <td>Euro 6</td>\n",
       "      <td>6</td>\n",
       "      <td>NaN</td>\n",
       "    </tr>\n",
       "    <tr>\n",
       "      <th>4</th>\n",
       "      <td>Sedans</td>\n",
       "      <td>16790</td>\n",
       "      <td>None</td>\n",
       "      <td>16.200</td>\n",
       "      <td>2016-05-01</td>\n",
       "      <td>1.0</td>\n",
       "      <td>66</td>\n",
       "      <td>Used - Diesel (Particulate Filter)</td>\n",
       "      <td>Audi</td>\n",
       "      <td>A1</td>\n",
       "      <td>...</td>\n",
       "      <td>422</td>\n",
       "      <td>3</td>\n",
       "      <td>NaN</td>\n",
       "      <td>front</td>\n",
       "      <td>Diesel (Particulate Filter)</td>\n",
       "      <td>[[4.1 l/100 km (comb)], [4.6 l/100 km (city)],...</td>\n",
       "      <td>109</td>\n",
       "      <td>Euro 6</td>\n",
       "      <td>NaN</td>\n",
       "      <td>Germany</td>\n",
       "    </tr>\n",
       "  </tbody>\n",
       "</table>\n",
       "<p>5 rows × 29 columns</p>\n",
       "</div>"
      ],
      "text/plain": [
       "  body_type  price               vat      km registration  prev_owner  hp(kW)  \\\n",
       "0    Sedans  15770    VAT deductible  56.013   2016-01-01         2.0      66   \n",
       "1    Sedans  14500  Price negotiable  80.000   2017-03-01         NaN     141   \n",
       "2    Sedans  14640    VAT deductible  83.450   2016-02-01         1.0      85   \n",
       "3    Sedans  14500              None  73.000   2016-08-01         1.0      66   \n",
       "4    Sedans  16790              None  16.200   2016-05-01         1.0      66   \n",
       "\n",
       "                                 Type  Make Model  ... Displacement Cylinders  \\\n",
       "0  Used - Diesel (Particulate Filter)  Audi    A1  ...          422         3   \n",
       "1                     Used - Gasoline  Audi    A1  ...          798         4   \n",
       "2  Used - Diesel (Particulate Filter)  Audi    A1  ...          598       NaN   \n",
       "3  Used - Diesel (Particulate Filter)  Audi    A1  ...          422         3   \n",
       "4  Used - Diesel (Particulate Filter)  Audi    A1  ...          422         3   \n",
       "\n",
       "  Weight Drive chain                         Fuel  \\\n",
       "0    220       front  Diesel (Particulate Filter)   \n",
       "1    255       front                     Gasoline   \n",
       "2    NaN       front  Diesel (Particulate Filter)   \n",
       "3    195         NaN  Diesel (Particulate Filter)   \n",
       "4    NaN       front  Diesel (Particulate Filter)   \n",
       "\n",
       "                                         Consumption CO2 Emission  \\\n",
       "0  [[3.8 l/100 km (comb)], [4.3 l/100 km (city)],...           99   \n",
       "1  [[5.6 l/100 km (comb)], [7.1 l/100 km (city)],...          129   \n",
       "2  [[3.8 l/100 km (comb)], [4.4 l/100 km (city)],...           99   \n",
       "3  [[3.8 l/100 km (comb)], [4.3 l/100 km (city)],...           99   \n",
       "4  [[4.1 l/100 km (comb)], [4.6 l/100 km (city)],...          109   \n",
       "\n",
       "   Emission Class Gears Country version  \n",
       "0          Euro 6   NaN             NaN  \n",
       "1          Euro 6     7             NaN  \n",
       "2          Euro 6   NaN             NaN  \n",
       "3          Euro 6     6             NaN  \n",
       "4          Euro 6   NaN         Germany  \n",
       "\n",
       "[5 rows x 29 columns]"
      ]
     },
     "execution_count": 86,
     "metadata": {},
     "output_type": "execute_result"
    }
   ],
   "source": [
    "df.head()"
   ]
  },
  {
   "cell_type": "code",
   "execution_count": 87,
   "metadata": {},
   "outputs": [
    {
     "data": {
      "text/plain": [
       "(15919, 29)"
      ]
     },
     "execution_count": 87,
     "metadata": {},
     "output_type": "execute_result"
    }
   ],
   "source": [
    "df.shape"
   ]
  },
  {
   "cell_type": "code",
   "execution_count": 88,
   "metadata": {},
   "outputs": [
    {
     "data": {
      "text/plain": [
       "Index(['body_type', 'price', 'vat', 'km', 'registration', 'prev_owner',\n",
       "       'hp(kW)', 'Type', 'Make', 'Model', 'First Registration', 'Body Color',\n",
       "       'Paint Type', 'Body Color Original', 'Upholstery', 'Body',\n",
       "       'Nr. of Doors', 'Nr. of Seats', 'Gearing Type', 'Displacement',\n",
       "       'Cylinders', 'Weight', 'Drive chain', 'Fuel', 'Consumption',\n",
       "       'CO2 Emission', 'Emission Class', 'Gears', 'Country version'],\n",
       "      dtype='object')"
      ]
     },
     "execution_count": 88,
     "metadata": {},
     "output_type": "execute_result"
    }
   ],
   "source": [
    "df.columns"
   ]
  },
  {
   "cell_type": "code",
   "execution_count": 89,
   "metadata": {},
   "outputs": [
    {
     "data": {
      "text/plain": [
       "body_type                60\n",
       "price                     0\n",
       "vat                    4513\n",
       "km                        0\n",
       "registration              0\n",
       "prev_owner             6828\n",
       "hp(kW)                    0\n",
       "Type                      2\n",
       "Make                      0\n",
       "Model                     0\n",
       "First Registration     1597\n",
       "Body Color              597\n",
       "Paint Type             5772\n",
       "Body Color Original    3759\n",
       "Upholstery             3720\n",
       "Body                     60\n",
       "Nr. of Doors            212\n",
       "Nr. of Seats            977\n",
       "Gearing Type              0\n",
       "Displacement            496\n",
       "Cylinders              5680\n",
       "Weight                 6974\n",
       "Drive chain            6858\n",
       "Fuel                      0\n",
       "Consumption            1906\n",
       "CO2 Emission           2449\n",
       "Emission Class         3628\n",
       "Gears                  4712\n",
       "Country version        8333\n",
       "dtype: int64"
      ]
     },
     "execution_count": 89,
     "metadata": {},
     "output_type": "execute_result"
    }
   ],
   "source": [
    "df.isna().sum()"
   ]
  },
  {
   "cell_type": "markdown",
   "metadata": {},
   "source": [
    "# Cleaning Done.(Only Consumption feature !) Now look for dtypes."
   ]
  },
  {
   "cell_type": "code",
   "execution_count": 90,
   "metadata": {},
   "outputs": [
    {
     "data": {
      "text/plain": [
       "body_type                      object\n",
       "price                           int64\n",
       "vat                            object\n",
       "km                            float64\n",
       "registration           datetime64[ns]\n",
       "prev_owner                    float64\n",
       "hp(kW)                          int64\n",
       "Type                           object\n",
       "Make                           object\n",
       "Model                          object\n",
       "First Registration             object\n",
       "Body Color                     object\n",
       "Paint Type                     object\n",
       "Body Color Original            object\n",
       "Upholstery                     object\n",
       "Body                           object\n",
       "Nr. of Doors                   object\n",
       "Nr. of Seats                  float64\n",
       "Gearing Type                   object\n",
       "Displacement                   object\n",
       "Cylinders                      object\n",
       "Weight                         object\n",
       "Drive chain                    object\n",
       "Fuel                           object\n",
       "Consumption                    object\n",
       "CO2 Emission                   object\n",
       "Emission Class                 object\n",
       "Gears                          object\n",
       "Country version                object\n",
       "dtype: object"
      ]
     },
     "execution_count": 90,
     "metadata": {},
     "output_type": "execute_result"
    }
   ],
   "source": [
    "df.dtypes"
   ]
  },
  {
   "cell_type": "code",
   "execution_count": 91,
   "metadata": {},
   "outputs": [],
   "source": [
    "df[\"Nr. of Doors\"] = df[\"Nr. of Doors\"].astype(\"float64\")\n",
    "df.Displacement = df.Displacement.astype(\"float64\")\n",
    "df.Cylinders = df.Cylinders.astype(\"float64\")\n",
    "df.Weight = df.Weight.astype(\"float64\")\n",
    "df[\"CO2 Emission\"] = df[\"CO2 Emission\"].astype(\"float64\")\n",
    "df[\"Gears\"] = df[\"Gears\"].astype(\"float64\")"
   ]
  },
  {
   "cell_type": "code",
   "execution_count": 100,
   "metadata": {},
   "outputs": [
    {
     "data": {
      "text/plain": [
       "(15919, 29)"
      ]
     },
     "execution_count": 100,
     "metadata": {},
     "output_type": "execute_result"
    }
   ],
   "source": [
    "df.shape"
   ]
  },
  {
   "cell_type": "code",
   "execution_count": 92,
   "metadata": {},
   "outputs": [
    {
     "name": "stdout",
     "output_type": "stream",
     "text": [
      "<class 'pandas.core.frame.DataFrame'>\n",
      "RangeIndex: 15919 entries, 0 to 15918\n",
      "Data columns (total 29 columns):\n",
      " #   Column               Non-Null Count  Dtype         \n",
      "---  ------               --------------  -----         \n",
      " 0   body_type            15859 non-null  object        \n",
      " 1   price                15919 non-null  int64         \n",
      " 2   vat                  11406 non-null  object        \n",
      " 3   km                   15919 non-null  float64       \n",
      " 4   registration         15919 non-null  datetime64[ns]\n",
      " 5   prev_owner           9091 non-null   float64       \n",
      " 6   hp(kW)               15919 non-null  int64         \n",
      " 7   Type                 15917 non-null  object        \n",
      " 8   Make                 15919 non-null  object        \n",
      " 9   Model                15919 non-null  object        \n",
      " 10  First Registration   14322 non-null  object        \n",
      " 11  Body Color           15322 non-null  object        \n",
      " 12  Paint Type           10147 non-null  object        \n",
      " 13  Body Color Original  12160 non-null  object        \n",
      " 14  Upholstery           12199 non-null  object        \n",
      " 15  Body                 15859 non-null  object        \n",
      " 16  Nr. of Doors         15707 non-null  float64       \n",
      " 17  Nr. of Seats         14942 non-null  float64       \n",
      " 18  Gearing Type         15919 non-null  object        \n",
      " 19  Displacement         15423 non-null  float64       \n",
      " 20  Cylinders            10239 non-null  float64       \n",
      " 21  Weight               8945 non-null   float64       \n",
      " 22  Drive chain          9061 non-null   object        \n",
      " 23  Fuel                 15919 non-null  object        \n",
      " 24  Consumption          14013 non-null  object        \n",
      " 25  CO2 Emission         13470 non-null  float64       \n",
      " 26  Emission Class       12291 non-null  object        \n",
      " 27  Gears                11207 non-null  float64       \n",
      " 28  Country version      7586 non-null   object        \n",
      "dtypes: datetime64[ns](1), float64(9), int64(2), object(17)\n",
      "memory usage: 3.5+ MB\n"
     ]
    }
   ],
   "source": [
    "df.info()"
   ]
  },
  {
   "cell_type": "code",
   "execution_count": 93,
   "metadata": {},
   "outputs": [
    {
     "data": {
      "text/html": [
       "<div>\n",
       "<style scoped>\n",
       "    .dataframe tbody tr th:only-of-type {\n",
       "        vertical-align: middle;\n",
       "    }\n",
       "\n",
       "    .dataframe tbody tr th {\n",
       "        vertical-align: top;\n",
       "    }\n",
       "\n",
       "    .dataframe thead th {\n",
       "        text-align: right;\n",
       "    }\n",
       "</style>\n",
       "<table border=\"1\" class=\"dataframe\">\n",
       "  <thead>\n",
       "    <tr style=\"text-align: right;\">\n",
       "      <th></th>\n",
       "      <th>body_type</th>\n",
       "      <th>price</th>\n",
       "      <th>vat</th>\n",
       "      <th>km</th>\n",
       "      <th>registration</th>\n",
       "      <th>prev_owner</th>\n",
       "      <th>hp(kW)</th>\n",
       "      <th>Type</th>\n",
       "      <th>Make</th>\n",
       "      <th>Model</th>\n",
       "      <th>...</th>\n",
       "      <th>Displacement</th>\n",
       "      <th>Cylinders</th>\n",
       "      <th>Weight</th>\n",
       "      <th>Drive chain</th>\n",
       "      <th>Fuel</th>\n",
       "      <th>Consumption</th>\n",
       "      <th>CO2 Emission</th>\n",
       "      <th>Emission Class</th>\n",
       "      <th>Gears</th>\n",
       "      <th>Country version</th>\n",
       "    </tr>\n",
       "  </thead>\n",
       "  <tbody>\n",
       "    <tr>\n",
       "      <th>0</th>\n",
       "      <td>Sedans</td>\n",
       "      <td>15770</td>\n",
       "      <td>VAT deductible</td>\n",
       "      <td>56.013</td>\n",
       "      <td>2016-01-01</td>\n",
       "      <td>2.0</td>\n",
       "      <td>66</td>\n",
       "      <td>Used - Diesel (Particulate Filter)</td>\n",
       "      <td>Audi</td>\n",
       "      <td>A1</td>\n",
       "      <td>...</td>\n",
       "      <td>422.0</td>\n",
       "      <td>3.0</td>\n",
       "      <td>220.0</td>\n",
       "      <td>front</td>\n",
       "      <td>Diesel (Particulate Filter)</td>\n",
       "      <td>[[3.8 l/100 km (comb)], [4.3 l/100 km (city)],...</td>\n",
       "      <td>99.0</td>\n",
       "      <td>Euro 6</td>\n",
       "      <td>NaN</td>\n",
       "      <td>NaN</td>\n",
       "    </tr>\n",
       "    <tr>\n",
       "      <th>1</th>\n",
       "      <td>Sedans</td>\n",
       "      <td>14500</td>\n",
       "      <td>Price negotiable</td>\n",
       "      <td>80.000</td>\n",
       "      <td>2017-03-01</td>\n",
       "      <td>NaN</td>\n",
       "      <td>141</td>\n",
       "      <td>Used - Gasoline</td>\n",
       "      <td>Audi</td>\n",
       "      <td>A1</td>\n",
       "      <td>...</td>\n",
       "      <td>798.0</td>\n",
       "      <td>4.0</td>\n",
       "      <td>255.0</td>\n",
       "      <td>front</td>\n",
       "      <td>Gasoline</td>\n",
       "      <td>[[5.6 l/100 km (comb)], [7.1 l/100 km (city)],...</td>\n",
       "      <td>129.0</td>\n",
       "      <td>Euro 6</td>\n",
       "      <td>7.0</td>\n",
       "      <td>NaN</td>\n",
       "    </tr>\n",
       "    <tr>\n",
       "      <th>2</th>\n",
       "      <td>Sedans</td>\n",
       "      <td>14640</td>\n",
       "      <td>VAT deductible</td>\n",
       "      <td>83.450</td>\n",
       "      <td>2016-02-01</td>\n",
       "      <td>1.0</td>\n",
       "      <td>85</td>\n",
       "      <td>Used - Diesel (Particulate Filter)</td>\n",
       "      <td>Audi</td>\n",
       "      <td>A1</td>\n",
       "      <td>...</td>\n",
       "      <td>598.0</td>\n",
       "      <td>NaN</td>\n",
       "      <td>NaN</td>\n",
       "      <td>front</td>\n",
       "      <td>Diesel (Particulate Filter)</td>\n",
       "      <td>[[3.8 l/100 km (comb)], [4.4 l/100 km (city)],...</td>\n",
       "      <td>99.0</td>\n",
       "      <td>Euro 6</td>\n",
       "      <td>NaN</td>\n",
       "      <td>NaN</td>\n",
       "    </tr>\n",
       "    <tr>\n",
       "      <th>3</th>\n",
       "      <td>Sedans</td>\n",
       "      <td>14500</td>\n",
       "      <td>None</td>\n",
       "      <td>73.000</td>\n",
       "      <td>2016-08-01</td>\n",
       "      <td>1.0</td>\n",
       "      <td>66</td>\n",
       "      <td>Used - Diesel (Particulate Filter)</td>\n",
       "      <td>Audi</td>\n",
       "      <td>A1</td>\n",
       "      <td>...</td>\n",
       "      <td>422.0</td>\n",
       "      <td>3.0</td>\n",
       "      <td>195.0</td>\n",
       "      <td>NaN</td>\n",
       "      <td>Diesel (Particulate Filter)</td>\n",
       "      <td>[[3.8 l/100 km (comb)], [4.3 l/100 km (city)],...</td>\n",
       "      <td>99.0</td>\n",
       "      <td>Euro 6</td>\n",
       "      <td>6.0</td>\n",
       "      <td>NaN</td>\n",
       "    </tr>\n",
       "    <tr>\n",
       "      <th>4</th>\n",
       "      <td>Sedans</td>\n",
       "      <td>16790</td>\n",
       "      <td>None</td>\n",
       "      <td>16.200</td>\n",
       "      <td>2016-05-01</td>\n",
       "      <td>1.0</td>\n",
       "      <td>66</td>\n",
       "      <td>Used - Diesel (Particulate Filter)</td>\n",
       "      <td>Audi</td>\n",
       "      <td>A1</td>\n",
       "      <td>...</td>\n",
       "      <td>422.0</td>\n",
       "      <td>3.0</td>\n",
       "      <td>NaN</td>\n",
       "      <td>front</td>\n",
       "      <td>Diesel (Particulate Filter)</td>\n",
       "      <td>[[4.1 l/100 km (comb)], [4.6 l/100 km (city)],...</td>\n",
       "      <td>109.0</td>\n",
       "      <td>Euro 6</td>\n",
       "      <td>NaN</td>\n",
       "      <td>Germany</td>\n",
       "    </tr>\n",
       "  </tbody>\n",
       "</table>\n",
       "<p>5 rows × 29 columns</p>\n",
       "</div>"
      ],
      "text/plain": [
       "  body_type  price               vat      km registration  prev_owner  hp(kW)  \\\n",
       "0    Sedans  15770    VAT deductible  56.013   2016-01-01         2.0      66   \n",
       "1    Sedans  14500  Price negotiable  80.000   2017-03-01         NaN     141   \n",
       "2    Sedans  14640    VAT deductible  83.450   2016-02-01         1.0      85   \n",
       "3    Sedans  14500              None  73.000   2016-08-01         1.0      66   \n",
       "4    Sedans  16790              None  16.200   2016-05-01         1.0      66   \n",
       "\n",
       "                                 Type  Make Model  ... Displacement Cylinders  \\\n",
       "0  Used - Diesel (Particulate Filter)  Audi    A1  ...        422.0       3.0   \n",
       "1                     Used - Gasoline  Audi    A1  ...        798.0       4.0   \n",
       "2  Used - Diesel (Particulate Filter)  Audi    A1  ...        598.0       NaN   \n",
       "3  Used - Diesel (Particulate Filter)  Audi    A1  ...        422.0       3.0   \n",
       "4  Used - Diesel (Particulate Filter)  Audi    A1  ...        422.0       3.0   \n",
       "\n",
       "  Weight Drive chain                         Fuel  \\\n",
       "0  220.0       front  Diesel (Particulate Filter)   \n",
       "1  255.0       front                     Gasoline   \n",
       "2    NaN       front  Diesel (Particulate Filter)   \n",
       "3  195.0         NaN  Diesel (Particulate Filter)   \n",
       "4    NaN       front  Diesel (Particulate Filter)   \n",
       "\n",
       "                                         Consumption  CO2 Emission  \\\n",
       "0  [[3.8 l/100 km (comb)], [4.3 l/100 km (city)],...          99.0   \n",
       "1  [[5.6 l/100 km (comb)], [7.1 l/100 km (city)],...         129.0   \n",
       "2  [[3.8 l/100 km (comb)], [4.4 l/100 km (city)],...          99.0   \n",
       "3  [[3.8 l/100 km (comb)], [4.3 l/100 km (city)],...          99.0   \n",
       "4  [[4.1 l/100 km (comb)], [4.6 l/100 km (city)],...         109.0   \n",
       "\n",
       "   Emission Class Gears  Country version  \n",
       "0          Euro 6   NaN              NaN  \n",
       "1          Euro 6   7.0              NaN  \n",
       "2          Euro 6   NaN              NaN  \n",
       "3          Euro 6   6.0              NaN  \n",
       "4          Euro 6   NaN          Germany  \n",
       "\n",
       "[5 rows x 29 columns]"
      ]
     },
     "execution_count": 93,
     "metadata": {},
     "output_type": "execute_result"
    }
   ],
   "source": [
    "df.head()"
   ]
  },
  {
   "cell_type": "code",
   "execution_count": 94,
   "metadata": {},
   "outputs": [
    {
     "data": {
      "text/html": [
       "<div>\n",
       "<style scoped>\n",
       "    .dataframe tbody tr th:only-of-type {\n",
       "        vertical-align: middle;\n",
       "    }\n",
       "\n",
       "    .dataframe tbody tr th {\n",
       "        vertical-align: top;\n",
       "    }\n",
       "\n",
       "    .dataframe thead th {\n",
       "        text-align: right;\n",
       "    }\n",
       "</style>\n",
       "<table border=\"1\" class=\"dataframe\">\n",
       "  <thead>\n",
       "    <tr style=\"text-align: right;\">\n",
       "      <th></th>\n",
       "      <th>price</th>\n",
       "      <th>km</th>\n",
       "      <th>prev_owner</th>\n",
       "      <th>hp(kW)</th>\n",
       "      <th>Nr. of Doors</th>\n",
       "      <th>Nr. of Seats</th>\n",
       "      <th>Displacement</th>\n",
       "      <th>Cylinders</th>\n",
       "      <th>Weight</th>\n",
       "      <th>CO2 Emission</th>\n",
       "      <th>Gears</th>\n",
       "    </tr>\n",
       "    <tr>\n",
       "      <th>Make</th>\n",
       "      <th></th>\n",
       "      <th></th>\n",
       "      <th></th>\n",
       "      <th></th>\n",
       "      <th></th>\n",
       "      <th></th>\n",
       "      <th></th>\n",
       "      <th></th>\n",
       "      <th></th>\n",
       "      <th></th>\n",
       "      <th></th>\n",
       "    </tr>\n",
       "  </thead>\n",
       "  <tbody>\n",
       "    <tr>\n",
       "      <th>Audi</th>\n",
       "      <td>20022.278711</td>\n",
       "      <td>38.486046</td>\n",
       "      <td>1.095595</td>\n",
       "      <td>83.959909</td>\n",
       "      <td>4.611946</td>\n",
       "      <td>4.797101</td>\n",
       "      <td>742.166341</td>\n",
       "      <td>3.578661</td>\n",
       "      <td>317.552718</td>\n",
       "      <td>106.976638</td>\n",
       "      <td>6.235805</td>\n",
       "    </tr>\n",
       "    <tr>\n",
       "      <th>Opel</th>\n",
       "      <td>16379.397249</td>\n",
       "      <td>43.099864</td>\n",
       "      <td>1.081559</td>\n",
       "      <td>90.346725</td>\n",
       "      <td>4.609530</td>\n",
       "      <td>4.995396</td>\n",
       "      <td>550.607460</td>\n",
       "      <td>3.958689</td>\n",
       "      <td>371.840083</td>\n",
       "      <td>126.422694</td>\n",
       "      <td>5.790848</td>\n",
       "    </tr>\n",
       "    <tr>\n",
       "      <th>Renault</th>\n",
       "      <td>18232.390363</td>\n",
       "      <td>41.798482</td>\n",
       "      <td>1.106767</td>\n",
       "      <td>89.369413</td>\n",
       "      <td>4.865028</td>\n",
       "      <td>5.153150</td>\n",
       "      <td>539.881564</td>\n",
       "      <td>3.893433</td>\n",
       "      <td>345.955968</td>\n",
       "      <td>120.140802</td>\n",
       "      <td>5.614308</td>\n",
       "    </tr>\n",
       "  </tbody>\n",
       "</table>\n",
       "</div>"
      ],
      "text/plain": [
       "                price         km  prev_owner     hp(kW)  Nr. of Doors  \\\n",
       "Make                                                                    \n",
       "Audi     20022.278711  38.486046    1.095595  83.959909      4.611946   \n",
       "Opel     16379.397249  43.099864    1.081559  90.346725      4.609530   \n",
       "Renault  18232.390363  41.798482    1.106767  89.369413      4.865028   \n",
       "\n",
       "         Nr. of Seats  Displacement  Cylinders      Weight  CO2 Emission  \\\n",
       "Make                                                                       \n",
       "Audi         4.797101    742.166341   3.578661  317.552718    106.976638   \n",
       "Opel         4.995396    550.607460   3.958689  371.840083    126.422694   \n",
       "Renault      5.153150    539.881564   3.893433  345.955968    120.140802   \n",
       "\n",
       "            Gears  \n",
       "Make               \n",
       "Audi     6.235805  \n",
       "Opel     5.790848  \n",
       "Renault  5.614308  "
      ]
     },
     "execution_count": 94,
     "metadata": {},
     "output_type": "execute_result"
    }
   ],
   "source": [
    "df.groupby(\"Make\").mean()"
   ]
  },
  {
   "cell_type": "code",
   "execution_count": 96,
   "metadata": {},
   "outputs": [
    {
     "data": {
      "text/html": [
       "<div>\n",
       "<style scoped>\n",
       "    .dataframe tbody tr th:only-of-type {\n",
       "        vertical-align: middle;\n",
       "    }\n",
       "\n",
       "    .dataframe tbody tr th {\n",
       "        vertical-align: top;\n",
       "    }\n",
       "\n",
       "    .dataframe thead th {\n",
       "        text-align: right;\n",
       "    }\n",
       "</style>\n",
       "<table border=\"1\" class=\"dataframe\">\n",
       "  <thead>\n",
       "    <tr style=\"text-align: right;\">\n",
       "      <th></th>\n",
       "      <th></th>\n",
       "      <th>price</th>\n",
       "      <th>km</th>\n",
       "      <th>prev_owner</th>\n",
       "      <th>hp(kW)</th>\n",
       "      <th>Nr. of Doors</th>\n",
       "      <th>Nr. of Seats</th>\n",
       "      <th>Displacement</th>\n",
       "      <th>Cylinders</th>\n",
       "      <th>Weight</th>\n",
       "      <th>CO2 Emission</th>\n",
       "      <th>Gears</th>\n",
       "    </tr>\n",
       "    <tr>\n",
       "      <th>Make</th>\n",
       "      <th>Model</th>\n",
       "      <th></th>\n",
       "      <th></th>\n",
       "      <th></th>\n",
       "      <th></th>\n",
       "      <th></th>\n",
       "      <th></th>\n",
       "      <th></th>\n",
       "      <th></th>\n",
       "      <th></th>\n",
       "      <th></th>\n",
       "      <th></th>\n",
       "    </tr>\n",
       "  </thead>\n",
       "  <tbody>\n",
       "    <tr>\n",
       "      <th rowspan=\"3\" valign=\"top\">Audi</th>\n",
       "      <th>A1</th>\n",
       "      <td>18864.688982</td>\n",
       "      <td>30.585865</td>\n",
       "      <td>1.118272</td>\n",
       "      <td>76.607881</td>\n",
       "      <td>4.514882</td>\n",
       "      <td>4.563056</td>\n",
       "      <td>793.001934</td>\n",
       "      <td>3.228490</td>\n",
       "      <td>229.776253</td>\n",
       "      <td>104.404514</td>\n",
       "      <td>5.904934</td>\n",
       "    </tr>\n",
       "    <tr>\n",
       "      <th>A2</th>\n",
       "      <td>28200.000000</td>\n",
       "      <td>26.166000</td>\n",
       "      <td>1.000000</td>\n",
       "      <td>85.000000</td>\n",
       "      <td>5.000000</td>\n",
       "      <td>5.000000</td>\n",
       "      <td>598.000000</td>\n",
       "      <td>NaN</td>\n",
       "      <td>NaN</td>\n",
       "      <td>NaN</td>\n",
       "      <td>NaN</td>\n",
       "    </tr>\n",
       "    <tr>\n",
       "      <th>A3</th>\n",
       "      <td>20996.693252</td>\n",
       "      <td>45.158114</td>\n",
       "      <td>1.073765</td>\n",
       "      <td>90.164998</td>\n",
       "      <td>4.693585</td>\n",
       "      <td>4.991599</td>\n",
       "      <td>699.085986</td>\n",
       "      <td>3.846556</td>\n",
       "      <td>384.510995</td>\n",
       "      <td>109.133964</td>\n",
       "      <td>6.467735</td>\n",
       "    </tr>\n",
       "    <tr>\n",
       "      <th rowspan=\"3\" valign=\"top\">Opel</th>\n",
       "      <th>Astra</th>\n",
       "      <td>15834.663895</td>\n",
       "      <td>47.135036</td>\n",
       "      <td>1.086207</td>\n",
       "      <td>92.586698</td>\n",
       "      <td>4.783773</td>\n",
       "      <td>4.997883</td>\n",
       "      <td>593.480919</td>\n",
       "      <td>3.876056</td>\n",
       "      <td>361.471937</td>\n",
       "      <td>115.534102</td>\n",
       "      <td>5.778547</td>\n",
       "    </tr>\n",
       "    <tr>\n",
       "      <th>Corsa</th>\n",
       "      <td>11047.095539</td>\n",
       "      <td>37.305028</td>\n",
       "      <td>1.096862</td>\n",
       "      <td>60.198738</td>\n",
       "      <td>4.271132</td>\n",
       "      <td>4.989519</td>\n",
       "      <td>337.959441</td>\n",
       "      <td>3.991435</td>\n",
       "      <td>174.309179</td>\n",
       "      <td>128.332478</td>\n",
       "      <td>5.284826</td>\n",
       "    </tr>\n",
       "    <tr>\n",
       "      <th>Insignia</th>\n",
       "      <td>21463.451886</td>\n",
       "      <td>44.125998</td>\n",
       "      <td>1.062889</td>\n",
       "      <td>113.918784</td>\n",
       "      <td>4.724835</td>\n",
       "      <td>4.997992</td>\n",
       "      <td>689.984146</td>\n",
       "      <td>4.002449</td>\n",
       "      <td>563.995539</td>\n",
       "      <td>135.471347</td>\n",
       "      <td>6.229637</td>\n",
       "    </tr>\n",
       "    <tr>\n",
       "      <th rowspan=\"3\" valign=\"top\">Renault</th>\n",
       "      <th>Clio</th>\n",
       "      <td>11940.320827</td>\n",
       "      <td>39.726800</td>\n",
       "      <td>1.084862</td>\n",
       "      <td>70.243611</td>\n",
       "      <td>4.846240</td>\n",
       "      <td>4.795107</td>\n",
       "      <td>461.193936</td>\n",
       "      <td>3.823751</td>\n",
       "      <td>179.859983</td>\n",
       "      <td>111.890801</td>\n",
       "      <td>5.307512</td>\n",
       "    </tr>\n",
       "    <tr>\n",
       "      <th>Duster</th>\n",
       "      <td>13230.176471</td>\n",
       "      <td>47.529412</td>\n",
       "      <td>NaN</td>\n",
       "      <td>59.000000</td>\n",
       "      <td>5.000000</td>\n",
       "      <td>5.000000</td>\n",
       "      <td>695.030303</td>\n",
       "      <td>4.000000</td>\n",
       "      <td>NaN</td>\n",
       "      <td>177.000000</td>\n",
       "      <td>6.000000</td>\n",
       "    </tr>\n",
       "    <tr>\n",
       "      <th>Espace</th>\n",
       "      <td>30080.211907</td>\n",
       "      <td>45.446283</td>\n",
       "      <td>1.148472</td>\n",
       "      <td>125.903128</td>\n",
       "      <td>4.894791</td>\n",
       "      <td>5.831228</td>\n",
       "      <td>686.370575</td>\n",
       "      <td>4.003115</td>\n",
       "      <td>683.694200</td>\n",
       "      <td>134.316911</td>\n",
       "      <td>6.225240</td>\n",
       "    </tr>\n",
       "  </tbody>\n",
       "</table>\n",
       "</div>"
      ],
      "text/plain": [
       "                         price         km  prev_owner      hp(kW)  \\\n",
       "Make    Model                                                       \n",
       "Audi    A1        18864.688982  30.585865    1.118272   76.607881   \n",
       "        A2        28200.000000  26.166000    1.000000   85.000000   \n",
       "        A3        20996.693252  45.158114    1.073765   90.164998   \n",
       "Opel    Astra     15834.663895  47.135036    1.086207   92.586698   \n",
       "        Corsa     11047.095539  37.305028    1.096862   60.198738   \n",
       "        Insignia  21463.451886  44.125998    1.062889  113.918784   \n",
       "Renault Clio      11940.320827  39.726800    1.084862   70.243611   \n",
       "        Duster    13230.176471  47.529412         NaN   59.000000   \n",
       "        Espace    30080.211907  45.446283    1.148472  125.903128   \n",
       "\n",
       "                  Nr. of Doors  Nr. of Seats  Displacement  Cylinders  \\\n",
       "Make    Model                                                           \n",
       "Audi    A1            4.514882      4.563056    793.001934   3.228490   \n",
       "        A2            5.000000      5.000000    598.000000        NaN   \n",
       "        A3            4.693585      4.991599    699.085986   3.846556   \n",
       "Opel    Astra         4.783773      4.997883    593.480919   3.876056   \n",
       "        Corsa         4.271132      4.989519    337.959441   3.991435   \n",
       "        Insignia      4.724835      4.997992    689.984146   4.002449   \n",
       "Renault Clio          4.846240      4.795107    461.193936   3.823751   \n",
       "        Duster        5.000000      5.000000    695.030303   4.000000   \n",
       "        Espace        4.894791      5.831228    686.370575   4.003115   \n",
       "\n",
       "                      Weight  CO2 Emission     Gears  \n",
       "Make    Model                                         \n",
       "Audi    A1        229.776253    104.404514  5.904934  \n",
       "        A2               NaN           NaN       NaN  \n",
       "        A3        384.510995    109.133964  6.467735  \n",
       "Opel    Astra     361.471937    115.534102  5.778547  \n",
       "        Corsa     174.309179    128.332478  5.284826  \n",
       "        Insignia  563.995539    135.471347  6.229637  \n",
       "Renault Clio      179.859983    111.890801  5.307512  \n",
       "        Duster           NaN    177.000000  6.000000  \n",
       "        Espace    683.694200    134.316911  6.225240  "
      ]
     },
     "execution_count": 96,
     "metadata": {},
     "output_type": "execute_result"
    }
   ],
   "source": [
    "df.groupby([\"Make\",\"Model\"]).mean()"
   ]
  },
  {
   "cell_type": "code",
   "execution_count": 98,
   "metadata": {},
   "outputs": [
    {
     "data": {
      "image/png": "[encoded data removed]",
      "text/plain": [
       "<Figure size 432x288 with 1 Axes>"
      ]
     },
     "metadata": {
      "needs_background": "light"
     },
     "output_type": "display_data"
    }
   ],
   "source": [
    "plt.bar(df[\"Make\"] , df[\"price\"]);"
   ]
  },
  {
   "cell_type": "code",
   "execution_count": 99,
   "metadata": {},
   "outputs": [
    {
     "data": {
      "image/png": "[encoded data removed]",
      "text/plain": [
       "<Figure size 432x288 with 1 Axes>"
      ]
     },
     "metadata": {
      "needs_background": "light"
     },
     "output_type": "display_data"
    }
   ],
   "source": [
    "plt.bar(df[\"Model\"] , df[\"price\"]);"
   ]
  },
  {
   "cell_type": "code",
   "execution_count": 104,
   "metadata": {},
   "outputs": [
    {
     "data": {
      "text/html": [
       "<div>\n",
       "<style scoped>\n",
       "    .dataframe tbody tr th:only-of-type {\n",
       "        vertical-align: middle;\n",
       "    }\n",
       "\n",
       "    .dataframe tbody tr th {\n",
       "        vertical-align: top;\n",
       "    }\n",
       "\n",
       "    .dataframe thead th {\n",
       "        text-align: right;\n",
       "    }\n",
       "</style>\n",
       "<table border=\"1\" class=\"dataframe\">\n",
       "  <thead>\n",
       "    <tr style=\"text-align: right;\">\n",
       "      <th></th>\n",
       "      <th>price</th>\n",
       "      <th>km</th>\n",
       "      <th>prev_owner</th>\n",
       "      <th>hp(kW)</th>\n",
       "      <th>Nr. of Doors</th>\n",
       "      <th>Nr. of Seats</th>\n",
       "      <th>Displacement</th>\n",
       "      <th>Cylinders</th>\n",
       "      <th>Weight</th>\n",
       "      <th>CO2 Emission</th>\n",
       "      <th>Gears</th>\n",
       "    </tr>\n",
       "    <tr>\n",
       "      <th>body_type</th>\n",
       "      <th></th>\n",
       "      <th></th>\n",
       "      <th></th>\n",
       "      <th></th>\n",
       "      <th></th>\n",
       "      <th></th>\n",
       "      <th></th>\n",
       "      <th></th>\n",
       "      <th></th>\n",
       "      <th></th>\n",
       "      <th></th>\n",
       "    </tr>\n",
       "  </thead>\n",
       "  <tbody>\n",
       "    <tr>\n",
       "      <th>Van</th>\n",
       "      <td>30846.632184</td>\n",
       "      <td>41.736095</td>\n",
       "      <td>1.133838</td>\n",
       "      <td>126.071520</td>\n",
       "      <td>4.886010</td>\n",
       "      <td>5.882184</td>\n",
       "      <td>693.671809</td>\n",
       "      <td>4.004219</td>\n",
       "      <td>689.578089</td>\n",
       "      <td>136.433798</td>\n",
       "      <td>6.236842</td>\n",
       "    </tr>\n",
       "    <tr>\n",
       "      <th>Convertible</th>\n",
       "      <td>27905.375000</td>\n",
       "      <td>78.974375</td>\n",
       "      <td>1.000000</td>\n",
       "      <td>124.250000</td>\n",
       "      <td>2.375000</td>\n",
       "      <td>4.285714</td>\n",
       "      <td>793.375000</td>\n",
       "      <td>4.000000</td>\n",
       "      <td>519.285714</td>\n",
       "      <td>123.857143</td>\n",
       "      <td>6.750000</td>\n",
       "    </tr>\n",
       "    <tr>\n",
       "      <th>Station wagon</th>\n",
       "      <td>18643.281171</td>\n",
       "      <td>49.617988</td>\n",
       "      <td>1.088793</td>\n",
       "      <td>102.370673</td>\n",
       "      <td>4.741688</td>\n",
       "      <td>5.006495</td>\n",
       "      <td>639.644817</td>\n",
       "      <td>3.951254</td>\n",
       "      <td>471.152778</td>\n",
       "      <td>124.927618</td>\n",
       "      <td>6.058406</td>\n",
       "    </tr>\n",
       "    <tr>\n",
       "      <th>Sedans</th>\n",
       "      <td>17735.904846</td>\n",
       "      <td>39.855365</td>\n",
       "      <td>1.074365</td>\n",
       "      <td>84.196381</td>\n",
       "      <td>4.705089</td>\n",
       "      <td>4.883262</td>\n",
       "      <td>631.394822</td>\n",
       "      <td>3.746103</td>\n",
       "      <td>317.472577</td>\n",
       "      <td>113.235485</td>\n",
       "      <td>5.938523</td>\n",
       "    </tr>\n",
       "    <tr>\n",
       "      <th>Off-Road</th>\n",
       "      <td>17126.160714</td>\n",
       "      <td>54.487821</td>\n",
       "      <td>1.000000</td>\n",
       "      <td>78.875000</td>\n",
       "      <td>4.981818</td>\n",
       "      <td>5.111111</td>\n",
       "      <td>662.672727</td>\n",
       "      <td>4.000000</td>\n",
       "      <td>450.875000</td>\n",
       "      <td>163.177778</td>\n",
       "      <td>5.976744</td>\n",
       "    </tr>\n",
       "    <tr>\n",
       "      <th>Transporter</th>\n",
       "      <td>16764.795455</td>\n",
       "      <td>56.447068</td>\n",
       "      <td>1.076923</td>\n",
       "      <td>92.204545</td>\n",
       "      <td>4.896552</td>\n",
       "      <td>4.297619</td>\n",
       "      <td>533.247059</td>\n",
       "      <td>3.955224</td>\n",
       "      <td>507.031746</td>\n",
       "      <td>117.151515</td>\n",
       "      <td>5.779412</td>\n",
       "    </tr>\n",
       "    <tr>\n",
       "      <th>Compact</th>\n",
       "      <td>15216.240089</td>\n",
       "      <td>35.274147</td>\n",
       "      <td>1.129762</td>\n",
       "      <td>71.848398</td>\n",
       "      <td>4.360835</td>\n",
       "      <td>4.846076</td>\n",
       "      <td>556.673835</td>\n",
       "      <td>3.682381</td>\n",
       "      <td>197.132686</td>\n",
       "      <td>117.987841</td>\n",
       "      <td>5.649031</td>\n",
       "    </tr>\n",
       "    <tr>\n",
       "      <th>Coupe</th>\n",
       "      <td>14222.720000</td>\n",
       "      <td>28.863680</td>\n",
       "      <td>1.066667</td>\n",
       "      <td>79.200000</td>\n",
       "      <td>3.375000</td>\n",
       "      <td>4.750000</td>\n",
       "      <td>469.142857</td>\n",
       "      <td>3.833333</td>\n",
       "      <td>211.333333</td>\n",
       "      <td>114.000000</td>\n",
       "      <td>5.611111</td>\n",
       "    </tr>\n",
       "    <tr>\n",
       "      <th>Other</th>\n",
       "      <td>14209.796552</td>\n",
       "      <td>25.850628</td>\n",
       "      <td>1.032787</td>\n",
       "      <td>80.179310</td>\n",
       "      <td>4.842657</td>\n",
       "      <td>4.970149</td>\n",
       "      <td>526.785965</td>\n",
       "      <td>3.941748</td>\n",
       "      <td>290.674528</td>\n",
       "      <td>117.416290</td>\n",
       "      <td>5.643478</td>\n",
       "    </tr>\n",
       "  </tbody>\n",
       "</table>\n",
       "</div>"
      ],
      "text/plain": [
       "                      price         km  prev_owner      hp(kW)  Nr. of Doors  \\\n",
       "body_type                                                                      \n",
       "Van            30846.632184  41.736095    1.133838  126.071520      4.886010   \n",
       "Convertible    27905.375000  78.974375    1.000000  124.250000      2.375000   \n",
       "Station wagon  18643.281171  49.617988    1.088793  102.370673      4.741688   \n",
       "Sedans         17735.904846  39.855365    1.074365   84.196381      4.705089   \n",
       "Off-Road       17126.160714  54.487821    1.000000   78.875000      4.981818   \n",
       "Transporter    16764.795455  56.447068    1.076923   92.204545      4.896552   \n",
       "Compact        15216.240089  35.274147    1.129762   71.848398      4.360835   \n",
       "Coupe          14222.720000  28.863680    1.066667   79.200000      3.375000   \n",
       "Other          14209.796552  25.850628    1.032787   80.179310      4.842657   \n",
       "\n",
       "               Nr. of Seats  Displacement  Cylinders      Weight  \\\n",
       "body_type                                                          \n",
       "Van                5.882184    693.671809   4.004219  689.578089   \n",
       "Convertible        4.285714    793.375000   4.000000  519.285714   \n",
       "Station wagon      5.006495    639.644817   3.951254  471.152778   \n",
       "Sedans             4.883262    631.394822   3.746103  317.472577   \n",
       "Off-Road           5.111111    662.672727   4.000000  450.875000   \n",
       "Transporter        4.297619    533.247059   3.955224  507.031746   \n",
       "Compact            4.846076    556.673835   3.682381  197.132686   \n",
       "Coupe              4.750000    469.142857   3.833333  211.333333   \n",
       "Other              4.970149    526.785965   3.941748  290.674528   \n",
       "\n",
       "               CO2 Emission     Gears  \n",
       "body_type                              \n",
       "Van              136.433798  6.236842  \n",
       "Convertible      123.857143  6.750000  \n",
       "Station wagon    124.927618  6.058406  \n",
       "Sedans           113.235485  5.938523  \n",
       "Off-Road         163.177778  5.976744  \n",
       "Transporter      117.151515  5.779412  \n",
       "Compact          117.987841  5.649031  \n",
       "Coupe            114.000000  5.611111  \n",
       "Other            117.416290  5.643478  "
      ]
     },
     "execution_count": 104,
     "metadata": {},
     "output_type": "execute_result"
    }
   ],
   "source": [
    "df.groupby(\"body_type\").mean().sort_values(\"price\" , ascending= False)"
   ]
  },
  {
   "cell_type": "code",
   "execution_count": null,
   "metadata": {},
   "outputs": [],
   "source": []
  }
 ],
 "metadata": {
  "kernelspec": {
   "display_name": "Python 3.10.5 64-bit",
   "language": "python",
   "name": "python3"
  },
  "language_info": {
   "codemirror_mode": {
    "name": "ipython",
    "version": 3
   },
   "file_extension": ".py",
   "mimetype": "text/x-python",
   "name": "python",
   "nbconvert_exporter": "python",
   "pygments_lexer": "ipython3",
   "version": "3.10.5"
  },
  "orig_nbformat": 4,
  "vscode": {
   "interpreter": {
    "hash": "2d8cd8638caa719e77c3ece9ee6c9cdab6f2065d170551d375a17b4273bc3a23"
   }
  }
 },
 "nbformat": 4,
 "nbformat_minor": 2
}
