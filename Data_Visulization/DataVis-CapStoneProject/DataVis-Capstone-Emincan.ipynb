{
 "cells": [
  {
   "attachments": {
    "yaz%C4%B1.png": {
     "image/png": "[encoded data removed]"
    }
   },
   "cell_type": "markdown",
   "metadata": {},
   "source": [
    "![yaz%C4%B1.png](attachment:yaz%C4%B1.png)"
   ]
  },
  {
   "cell_type": "markdown",
   "metadata": {},
   "source": [
    "<div class=\"alert alert-block alert-info alert\">\n",
    "\n",
    "# <span style=\" color:red\">WELCOME!\n",
    "    \n",
    "Welcome to \"Bike Demand Visualization Project\" which is the capstone project of Data Visualization Lessons . As you know recently, free or affordable access to bicycles has been provided for short-distance trips in an urban area as an alternative to motorized public transport or private vehicles. Thus, it is aimed to reduce traffic congestion, noise and air pollution.\n",
    "\n",
    "The aim of this project is to reveal the current patterns in the data by showing the historical data of London bike shares with visualization tools.\n",
    "\n",
    "This will allow us to X-ray the data as part of the EDA process before setting up a machine learning model.</span>"
   ]
  },
  {
   "cell_type": "markdown",
   "metadata": {},
   "source": [
    "## <span style=\" color:red\" id=\"determines\">Determines \n",
    "    \n",
    "Features\n",
    "    \n",
    "- timestamp - timestamp field for grouping the data\n",
    "- cnt - the count of a new bike shares\n",
    "- t1 - real temperature in C\n",
    "- t2 - temperature in C “feels like”\n",
    "- hum - humidity in percentage\n",
    "- wind_speed - wind speed in km/h\n",
    "- weather_code - category of the weather\n",
    "- is_holiday - boolean field - 1 holiday / 0 non holiday\n",
    "- is_weekend - boolean field - 1 if the day is weekend\n",
    "- season - category field meteorological seasons: 0-spring ; 1-summer; 2-fall; 3-winter.\n",
    "    \n",
    "\"weather_code\" category description:\n",
    "\n",
    "- 1 = Clear ; mostly clear but have some values with haze/fog/patches of fog/ fog in vicinity\n",
    "- 2 = scattered clouds / few clouds\n",
    "- 3 = Broken clouds\n",
    "- 4 = Cloudy\n",
    "- 7 = Rain/ light Rain shower/ Light rain\n",
    "- 10 = rain with thunderstorm\n",
    "- 26 = snowfall\n",
    "- 94 = Freezing Fog\n",
    "    \n",
    "Initially, the task of discovering data will be waiting for you as always. Recognize features, detect missing values, outliers etc. Review the data from various angles in different time breakdowns. For example, visualize the distribution of bike shares by day of the week. With this graph, you will be able to easily observe and make inferences how people's behavior changes daily. Likewise, you can make hourly, monthly, seasonally etc. analyzes. In addition, you can analyze correlation of variables with a heatmap.\n",
    "    \n"
   ]
  },
  {
   "cell_type": "markdown",
   "metadata": {},
   "source": [
    "## <span style=\" color:Green\" id=\"predata\">Data Preprocessing"
   ]
  },
  {
   "cell_type": "markdown",
   "metadata": {},
   "source": [
    "<div class=\"alert alert-warning alert-info\" id=\"library\">\n",
    "<span style=\" color:red\">1. Import Libraries\n",
    "</span>"
   ]
  },
  {
   "cell_type": "code",
   "execution_count": null,
   "metadata": {},
   "outputs": [],
   "source": [
    "import numpy as np\n",
    "import pandas as pd\n",
    "\n",
    "import matplotlib as mpl\n",
    "import matplotlib.pyplot as plt\n",
    "import seaborn as sns\n",
    "\n",
    "%matplotlib inline\n",
    "\n",
    "#import warnings ;\n",
    "#warnings.filterwarnings(\"ignore\")"
   ]
  },
  {
   "cell_type": "markdown",
   "metadata": {},
   "source": [
    "<div class=\"alert alert-warning alert-info\" id=\"dataset\">\n",
    "<span style=\" color:red\">2. Read Dataset\n",
    "</span>"
   ]
  },
  {
   "cell_type": "code",
   "execution_count": null,
   "metadata": {},
   "outputs": [],
   "source": [
    "df = pd.read_csv(r\"C:\\Users\\EmincanY\\Desktop\\TecPro Group\\store_sharing.csv\")\n",
    "df"
   ]
  },
  {
   "cell_type": "markdown",
   "metadata": {},
   "source": [
    "<div class=\"alert alert-warning alert-info\" id = \"nan\">\n",
    "<span style=\" color:red\">3. Check missing values and if there are any duplicate rows or not.\n",
    "</span>"
   ]
  },
  {
   "cell_type": "code",
   "execution_count": null,
   "metadata": {},
   "outputs": [],
   "source": [
    "df.isnull().sum() # There is no any nan value."
   ]
  },
  {
   "cell_type": "code",
   "execution_count": null,
   "metadata": {},
   "outputs": [],
   "source": [
    "df.drop_duplicates() # There is no duplicate rows. No one dropped."
   ]
  },
  {
   "cell_type": "markdown",
   "metadata": {},
   "source": [
    "## <span style=\" color:Green\" id=\"feature\">Feature Engineering"
   ]
  },
  {
   "cell_type": "markdown",
   "metadata": {},
   "source": [
    "<div class=\"alert alert-warning alert-info\">\n",
    "<span style=\" color:red\">1. Look at the data type of each variable, transform timestamp in type, and set it as index.\n",
    "</span>"
   ]
  },
  {
   "cell_type": "code",
   "execution_count": null,
   "metadata": {},
   "outputs": [],
   "source": [
    "df.dtypes"
   ]
  },
  {
   "cell_type": "code",
   "execution_count": null,
   "metadata": {},
   "outputs": [],
   "source": [
    "df.head()"
   ]
  },
  {
   "cell_type": "code",
   "execution_count": null,
   "metadata": {},
   "outputs": [],
   "source": [
    "df[\"timestamp\"] = df.timestamp.astype(\"datetime64\")  #df['timestamp'] = pd.to_datetime(df['timestamp'],format='%Y-%m-%d %H:%M')  \n",
    "df.dtypes"
   ]
  },
  {
   "cell_type": "code",
   "execution_count": null,
   "metadata": {},
   "outputs": [],
   "source": [
    "df.set_index(\"timestamp\" , inplace = True ) # We set new index with timestamp column."
   ]
  },
  {
   "cell_type": "markdown",
   "metadata": {},
   "source": [
    "<div class=\"alert alert-warning alert-info\" >\n",
    "<span style=\" color:red\" id=\"season\">2. Add season_name Feature\n",
    "</span>\n"
   ]
  },
  {
   "cell_type": "code",
   "execution_count": null,
   "metadata": {},
   "outputs": [],
   "source": [
    "mapping = {0.0 : \"Spring\" , 1.0 : \"Summer\" , 2.0 : \"Fall\" , 3.0 : \"Winter\"}\n",
    "df[\"season_name\"] = df.season.map(mapping)\n"
   ]
  },
  {
   "cell_type": "markdown",
   "metadata": {},
   "source": [
    "<div class=\"alert alert-warning alert-info\" >\n",
    "<span style=\" color:red\" id=\"columns\">3. Extract new columns (day of the week, day of the month, hour, month, season, year etc.)\n",
    "</span>"
   ]
  },
  {
   "cell_type": "code",
   "execution_count": null,
   "metadata": {},
   "outputs": [],
   "source": [
    "df[\"year\"] = df.index.year\n",
    "df[\"month\"] = df.index.month\n",
    "df[\"day\"] = df.index.day\n",
    "df[\"hour\"] = df.index.hour"
   ]
  },
  {
   "cell_type": "code",
   "execution_count": null,
   "metadata": {},
   "outputs": [],
   "source": [
    "df['dayofweek_num'] = df.index.dayofweek\n",
    "df['dayofweek_name'] = df.index.day_name()\n",
    "df[\"dayofmonth_num\"] = df.index.strftime(\"%d\")"
   ]
  },
  {
   "cell_type": "markdown",
   "metadata": {},
   "source": [
    "## <span style=\" color:Green\" id=\"visulization\">Data Visulization"
   ]
  },
  {
   "cell_type": "markdown",
   "metadata": {},
   "source": [
    "<div class=\"alert alert-warning alert-info\">\n",
    "<span style=\" color:red\" id=\"weather\">1. Weather Counts\n",
    "</span>\n",
    "\n",
    "- 1 = Clear ; mostly clear but have some values with haze/fog/patches of fog/ fog in vicinity\n",
    "- 2 = scattered clouds / few clouds\n",
    "- 3 = Broken clouds\n",
    "- 4 = Cloudy\n",
    "- 7 = Rain/ light Rain shower/ Light rain\n",
    "- 10 = rain with thunderstorm\n",
    "- 26 = snowfall\n",
    "- 94 = Freezing Fog"
   ]
  },
  {
   "cell_type": "code",
   "execution_count": null,
   "metadata": {},
   "outputs": [],
   "source": [
    "plt.figure(figsize=(15,10))\n",
    "sns.countplot(x='weather_code',data=df);"
   ]
  },
  {
   "cell_type": "markdown",
   "metadata": {},
   "source": [
    "<div class=\"alert alert-warning alert-info\">\n",
    "<span style=\" color:red\">1. Plot the distribution of various discrete features on (Season, haliday, weekend and weathercode)\n",
    "</span>\n"
   ]
  },
  {
   "cell_type": "code",
   "execution_count": null,
   "metadata": {},
   "outputs": [],
   "source": [
    "\n",
    "fig, ax = plt.subplots(2,2 , figsize = (25,15))\n",
    "\n",
    "\n",
    "a = sns.histplot(ax = ax[0][0] , data = df , x = \"is_holiday\" )\n",
    "a.set_title(\"Holiday or Not ?\") # Değişkene atayım set yap.\n",
    "\n",
    "b = sns.histplot(data = df , x = \"season_name\" , ax = ax[0][1] , hue = \"weather_code\" , palette=\"plasma\")\n",
    "b.set_xlabel(\"SEASONS\")\n",
    "\n",
    "#c = sns.histplot(x = df[\"is_weekend\"] , ax = ax[1][0] , hue = df[\"weather_code\"] )\n",
    "c = sns.histplot( x = df[\"is_weekend\"] , ax = ax[1][0])\n",
    "d = sns.histplot(x = df[\"weather_code\"] , ax = ax[1][1] , bins = 30 , hue = df[\"season_name\"] );\n",
    "\n"
   ]
  },
  {
   "cell_type": "markdown",
   "metadata": {},
   "source": [
    "<div class=\"alert alert-warning alert-info\">\n",
    "<span style=\" color:red\">7. Visualize the correlation with a heatmap\n",
    "</span>"
   ]
  },
  {
   "cell_type": "code",
   "execution_count": null,
   "metadata": {},
   "outputs": [],
   "source": [
    "df"
   ]
  },
  {
   "cell_type": "code",
   "execution_count": null,
   "metadata": {},
   "outputs": [],
   "source": [
    "df.corr()"
   ]
  },
  {
   "cell_type": "code",
   "execution_count": null,
   "metadata": {},
   "outputs": [],
   "source": [
    "from matplotlib.pyplot import annotate\n",
    "\n",
    "\n",
    "plt.figure(figsize= (15,10))\n",
    "\n",
    "sns.heatmap(df.corr() , annot = True);"
   ]
  },
  {
   "cell_type": "markdown",
   "metadata": {},
   "source": [
    "<div class=\"alert alert-warning alert-info\">\n",
    "<span style=\" color:red\">8. Visualize the correlation of the target variable and the other features with barplot\n",
    "</span>"
   ]
  },
  {
   "cell_type": "code",
   "execution_count": null,
   "metadata": {},
   "outputs": [],
   "source": [
    "df.corr()"
   ]
  },
  {
   "cell_type": "code",
   "execution_count": null,
   "metadata": {},
   "outputs": [],
   "source": [
    "df.corr()[df.corr() > 0.2]"
   ]
  },
  {
   "cell_type": "code",
   "execution_count": null,
   "metadata": {},
   "outputs": [],
   "source": [
    "plt.figure(figsize=(15,10))\n",
    "sns.heatmap(df.corr()[df.corr() > 0.2] , annot = True);"
   ]
  },
  {
   "cell_type": "code",
   "execution_count": null,
   "metadata": {},
   "outputs": [],
   "source": [
    "df.cnt.index"
   ]
  },
  {
   "cell_type": "code",
   "execution_count": null,
   "metadata": {},
   "outputs": [],
   "source": [
    "cnt_cor = df.corr()[\"cnt\"].sort_values()\n",
    "cnt_cor"
   ]
  },
  {
   "cell_type": "code",
   "execution_count": null,
   "metadata": {},
   "outputs": [],
   "source": [
    "plt.figure(figsize=(15,10))\n",
    "\n",
    "sns.barplot(x = df.corr().cnt.index , y = df.corr().cnt );"
   ]
  },
  {
   "cell_type": "markdown",
   "metadata": {},
   "source": [
    "<div class=\"alert alert-warning alert-info\">\n",
    "<span style=\" color:red\">9. Plot bike shares over time use lineplot.\n",
    "</span>"
   ]
  },
  {
   "cell_type": "code",
   "execution_count": null,
   "metadata": {},
   "outputs": [],
   "source": [
    "df.head()"
   ]
  },
  {
   "cell_type": "code",
   "execution_count": null,
   "metadata": {},
   "outputs": [],
   "source": [
    "df.index.year"
   ]
  },
  {
   "cell_type": "code",
   "execution_count": null,
   "metadata": {},
   "outputs": [],
   "source": [
    "from turtle import color\n",
    "\n",
    "\n",
    "plt.figure(figsize=(15,10));\n",
    "\n",
    "sns.lineplot(x = df.index , y =df[\"cnt\"]);\n",
    "\n",
    "plt.xlabel(\"Year\" , fontsize = 25 , color = \"green\");\n",
    "plt.ylabel(\"CNT\" , fontsize = 25 , color = \"red\");\n"
   ]
  },
  {
   "cell_type": "markdown",
   "metadata": {},
   "source": [
    "<div class=\"alert alert-warning alert-info\">\n",
    "<span style=\" color:red\">10. Plot bike shares by months and year_of_month (use lineplot, pointplot, barplot).\n",
    "</span>"
   ]
  },
  {
   "cell_type": "code",
   "execution_count": null,
   "metadata": {},
   "outputs": [],
   "source": [
    "df"
   ]
  },
  {
   "cell_type": "code",
   "execution_count": null,
   "metadata": {},
   "outputs": [],
   "source": [
    "from matplotlib.pyplot import xlabel, ylabel\n",
    "\n",
    "\n",
    "fig, ax = plt.subplots(2,3 , figsize = (20,14))\n",
    "\n",
    "sns.lineplot( x = df[\"month\"] , y = df[\"cnt\"], ax = ax[0][0]);\n",
    "sns.pointplot( x = df[\"month\"] , y = df[\"cnt\"], ax = ax[0][1]);\n",
    "sns.barplot( x = df[\"month\"] , y = df[\"cnt\"], ax = ax[0][2]);\n",
    "sns.pointplot( x = df[\"year\"] , y = df[\"cnt\"], ax = ax[1][0]);\n",
    "sns.lineplot( x = df[\"month\"] , y = df[\"cnt\"] , hue = df[\"year\"] , palette = \"plasma\" , ax = ax[1][1]);\n",
    "sns.lineplot( x = df[\"year\"] , y = df[\"cnt\"], ax = ax[1][2]);"
   ]
  },
  {
   "cell_type": "markdown",
   "metadata": {},
   "source": [
    "<div class=\"alert alert-warning alert-info\">\n",
    "<span style=\" color:red\">11. Plot bike shares by hours on (holidays, weekend, season).\n",
    "</span>"
   ]
  },
  {
   "cell_type": "code",
   "execution_count": null,
   "metadata": {},
   "outputs": [],
   "source": [
    "df"
   ]
  },
  {
   "cell_type": "code",
   "execution_count": null,
   "metadata": {},
   "outputs": [],
   "source": [
    "fig, ax = plt.subplots(1,3 , figsize = (25,15))\n",
    "\n",
    "sns.lineplot(x = df.hour , y = df.cnt , hue = df.season_name , ax = ax[0]);\n",
    "sns.lineplot(x = df.hour , y = df.cnt , hue = df[\"is_weekend\"] , ax = ax[1]);\n",
    "sns.lineplot(x = df.hour , y = df.cnt , hue = df[\"is_holiday\"] ,ax = ax[2]);"
   ]
  },
  {
   "cell_type": "code",
   "execution_count": null,
   "metadata": {},
   "outputs": [],
   "source": [
    "#fig, ax = plt.subplots(1,3,figsize = (20,14))\n",
    "\n",
    "#sns.lineplot( x = df[\"is_holiday\"] , y = df[\"cnt\"] , ax = ax[0]);\n",
    "#sns.lineplot( x = df[\"is_weekend\"] , y = df[\"cnt\"] , ax = ax[1]);\n",
    "#sns.lineplot( x = df[\"season_name\"] , y = df[\"cnt\"], ax = ax[2]); "
   ]
  },
  {
   "cell_type": "markdown",
   "metadata": {},
   "source": [
    "<div class=\"alert alert-warning alert-info\">\n",
    "<span style=\" color:red\"> 12. Plot bike shares by day of week.\n",
    "\n",
    "- You may want to see whether it is a holiday or not\n",
    "</span>"
   ]
  },
  {
   "cell_type": "code",
   "execution_count": null,
   "metadata": {},
   "outputs": [],
   "source": [
    "df"
   ]
  },
  {
   "cell_type": "code",
   "execution_count": null,
   "metadata": {},
   "outputs": [],
   "source": [
    "df.groupby(\"is_holiday\")[\"cnt\"].mean()"
   ]
  },
  {
   "cell_type": "code",
   "execution_count": null,
   "metadata": {},
   "outputs": [],
   "source": [
    "fig, ax = plt.subplots(1,2,figsize = (18,10))\n",
    "\n",
    "sns.lineplot(x= df[\"dayofweek_name\"] , y= df[\"cnt\"] , hue = df[\"is_holiday\"] , ax = ax[0]);\n",
    "sns.barplot(x = \"dayofweek_name\" , y = \"cnt\" , data = df , hue = \"is_holiday\" , ax = ax[1]);"
   ]
  },
  {
   "cell_type": "markdown",
   "metadata": {},
   "source": [
    "<div class=\"alert alert-warning alert-info\">\n",
    "<span style=\" color:red\"> 13. Plot bike shares by day of month\n",
    "</span>"
   ]
  },
  {
   "cell_type": "code",
   "execution_count": null,
   "metadata": {},
   "outputs": [],
   "source": [
    "fig, ax = plt.subplots(2,1,figsize = (18,12))\n",
    "\n",
    "sns.barplot(x = df[\"dayofmonth_num\"] , y = df.cnt, ax = ax[0] ) ;\n",
    "sns.lineplot(x = df[\"dayofmonth_num\"] , y = df[\"cnt\"] , ax = ax[1]);\n"
   ]
  },
  {
   "cell_type": "markdown",
   "metadata": {},
   "source": [
    "<div class=\"alert alert-warning alert-info\">\n",
    "<span style=\" color:red\"> 14. Plot bike shares by year\n",
    "\n",
    "- Plot bike shares on holidays by seasons\n",
    "</span>"
   ]
  },
  {
   "cell_type": "code",
   "execution_count": null,
   "metadata": {},
   "outputs": [],
   "source": [
    "df[df[\"is_holiday\"] == 1]"
   ]
  },
  {
   "cell_type": "code",
   "execution_count": null,
   "metadata": {},
   "outputs": [],
   "source": [
    "from turtle import title\n",
    "\n",
    "\n",
    "fig, ax = plt.subplots(1,3, figsize = (20,14))\n",
    "\n",
    "sns.lineplot(x = df.year , y = df.cnt , ax = ax[0]) ;\n",
    "sns.barplot(x = df[df[\"is_holiday\"] == 1][\"season_name\"] , y = df[df[\"is_holiday\"] == 1].cnt , ax = ax[1]) ;\n",
    "plt.title(\"No Holiday\")\n",
    "sns.barplot(x = df[df[\"is_holiday\"] == 0][\"season_name\"] , y = df[df[\"is_holiday\"] == 0].cnt , ax = ax[2] ) ;\n"
   ]
  },
  {
   "cell_type": "markdown",
   "metadata": {},
   "source": [
    "<div class=\"alert alert-warning alert-info\">\n",
    "<span style=\" color:red\">15. Visualize the distribution of bike shares by weekday/weekend with piechart and barplot\n",
    "</span>"
   ]
  },
  {
   "cell_type": "code",
   "execution_count": null,
   "metadata": {},
   "outputs": [],
   "source": [
    "df.groupby(\"is_weekend\").cnt.mean()"
   ]
  },
  {
   "cell_type": "code",
   "execution_count": null,
   "metadata": {},
   "outputs": [],
   "source": [
    "fig, ax = plt.subplots(1,2, figsize = (20,12))\n",
    "\n",
    "sns.barplot(x = df[\"is_weekend\"] , y = df[\"cnt\"] , ax = ax[0]);\n",
    "plt.pie(x = df.groupby(\"is_weekend\").cnt.mean(), labels = [\"Weekday\" , \"Weekend\"] , autopct= '%.2f' , textprops={'fontsize': 20}) ;\n"
   ]
  },
  {
   "cell_type": "markdown",
   "metadata": {},
   "source": [
    "<div class=\"alert alert-warning alert-info\">\n",
    "<span style=\" color:red\">16. Plot the distribution of weather code by seasons\n",
    "</span>"
   ]
  },
  {
   "cell_type": "code",
   "execution_count": null,
   "metadata": {},
   "outputs": [],
   "source": [
    "plt.figure(figsize=(20,14))\n",
    "sns.barplot(x = df[\"season_name\"] , y = df.weather_code ) ;"
   ]
  },
  {
   "cell_type": "code",
   "execution_count": null,
   "metadata": {},
   "outputs": [],
   "source": [
    "# Additional\n",
    "\n",
    "df.weather_code_mapped = df.weather_code.map({\n",
    "    1:'Clear',\n",
    "    2:'Few clouds',\n",
    "    3:'Broken clouds',\n",
    "    4:'Cloudy',\n",
    "    7:'Light Rain shower',\n",
    "    10:'Thunderstorm',\n",
    "    26:'Snowfall',\n",
    "    94:'Freezing Fog'\n",
    "})"
   ]
  },
  {
   "cell_type": "code",
   "execution_count": null,
   "metadata": {},
   "outputs": [],
   "source": [
    "# Additional\n",
    "\n",
    "plt.figure(figsize=(20, 10))\n",
    "\n",
    "sns.histplot(binwidth=0.5, x=df.season, hue=df.weather_code_mapped, data=df, stat=\"count\", multiple=\"stack\");\n"
   ]
  },
  {
   "cell_type": "markdown",
   "metadata": {},
   "source": [
    "<div class=\"alert alert-info alert-info \">\n",
    "\n",
    "# <span style=\" color:red\">Conclusions\n",
    "    \n",
    "\n",
    "    \n",
    "\n",
    "</span>"
   ]
  },
  {
   "cell_type": "markdown",
   "metadata": {},
   "source": [
    "##### There was totally clear data. No null and no duplicate rows.\n",
    "##### Too many days weather is clear. Freezing Fog never happened. Snowfall sometimes happened. Rain with thunderstorms happened the least.\n",
    "##### As we expect the spring and summer have too many clear days. In the fall and winter have got more Scattered and Broken clouds.\n",
    "##### Bike shares have positive relations with Temperature, Feeling Temperature, Hour and Wind Speed.\n",
    "##### Bike shares have negative relations with humidity, weather status and season.\n",
    "##### As a normally too strong positive correlation between temperature and feeling temperature.\n",
    "##### As a normally positive correlation between Temperature/Feeling Temperature and months.\n",
    "##### As a normally , positive correlation between the hum and seasons. \n",
    "##### Humidity and weather status have positive realations.\n",
    "##### Humidity and wind speed have negative realations.\n",
    "##### Bike shares is declining but peaked in the summer of 2015\n",
    "##### As a normally , In summers more bike shares happens.\n",
    "##### In all seasons. Early 8-9a.m and 17-18p.m too many bikes shares.\n",
    "##### In weekdays also same eary 8-9a.m and 17.18p.m.\n",
    "##### But in the weekends too many bikes shares around at 14-15p.m and have normal distribution.\n",
    "##### On a holiday, less bike is shared than normal.\n",
    "##### In a normal day(not holiday) summer have too many bike shares. Winter have lest.\n",
    "##### During the holidays, not happened any bike shares in Fall. (This is strange) Winter still lest. Summer and spring almost the same bike shares.\n",
    "##### Seasons have normal weather status. Hard to beautiful ==> Winter>Fall>Spring>Summer\n",
    "\n",
    "##### That's all.\n",
    "\n",
    "\n"
   ]
  },
  {
   "cell_type": "markdown",
   "metadata": {},
   "source": [
    "<div class=\"alert alert-block alert-info\">\n",
    "<span style=\" color:red\">Thanks for Attending!..\n",
    "    \n",
    "\n",
    "</span>"
   ]
  },
  {
   "attachments": {
    "yaz%C4%B1.webp": {
     "image/webp": "[encoded data removed]"
    }
   },
   "cell_type": "markdown",
   "metadata": {},
   "source": [
    "![yaz%C4%B1.webp](attachment:yaz%C4%B1.webp)"
   ]
  }
 ],
 "metadata": {
  "kernelspec": {
   "display_name": "Python 3.10.5 64-bit",
   "language": "python",
   "name": "python3"
  },
  "language_info": {
   "codemirror_mode": {
    "name": "ipython",
    "version": 3
   },
   "file_extension": ".py",
   "mimetype": "text/x-python",
   "name": "python",
   "nbconvert_exporter": "python",
   "pygments_lexer": "ipython3",
   "version": "3.10.5"
  },
  "vscode": {
   "interpreter": {
    "hash": "2d8cd8638caa719e77c3ece9ee6c9cdab6f2065d170551d375a17b4273bc3a23"
   }
  }
 },
 "nbformat": 4,
 "nbformat_minor": 4
}
