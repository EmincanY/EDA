{
 "cells": [
  {
   "cell_type": "code",
   "execution_count": 1,
   "metadata": {},
   "outputs": [],
   "source": [
    "import numpy as np \n",
    "import pandas as pd \n",
    "\n",
    "import matplotlib.pyplot as plt\n",
    "import seaborn as sns\n",
    "\n",
    "\n",
    "%matplotlib inline"
   ]
  },
  {
   "cell_type": "code",
   "execution_count": 4,
   "metadata": {},
   "outputs": [
    {
     "data": {
      "text/html": [
       "<div>\n",
       "<style scoped>\n",
       "    .dataframe tbody tr th:only-of-type {\n",
       "        vertical-align: middle;\n",
       "    }\n",
       "\n",
       "    .dataframe tbody tr th {\n",
       "        vertical-align: top;\n",
       "    }\n",
       "\n",
       "    .dataframe thead th {\n",
       "        text-align: right;\n",
       "    }\n",
       "</style>\n",
       "<table border=\"1\" class=\"dataframe\">\n",
       "  <thead>\n",
       "    <tr style=\"text-align: right;\">\n",
       "      <th></th>\n",
       "      <th>DATE</th>\n",
       "      <th>COUNTRY</th>\n",
       "      <th>STATE</th>\n",
       "      <th>CITY</th>\n",
       "      <th>SUBREGION</th>\n",
       "      <th>REGION</th>\n",
       "      <th>PERPETRATOR</th>\n",
       "      <th>INJURED</th>\n",
       "      <th>DEAD</th>\n",
       "      <th>DESCRIPTION</th>\n",
       "      <th>COORDINATES</th>\n",
       "      <th>CATEGORY</th>\n",
       "    </tr>\n",
       "  </thead>\n",
       "  <tbody>\n",
       "    <tr>\n",
       "      <th>0</th>\n",
       "      <td>2022-07-16</td>\n",
       "      <td>Indonesia</td>\n",
       "      <td>Papua</td>\n",
       "      <td>NaN</td>\n",
       "      <td>South-Eastern Asia</td>\n",
       "      <td>Asia</td>\n",
       "      <td>West Papua National Liberation Army</td>\n",
       "      <td>2.0</td>\n",
       "      <td>10.0</td>\n",
       "      <td>Around 20 gunmen attacked the village of Nogol...</td>\n",
       "      <td>-4.318185048526521, 138.18016262274278</td>\n",
       "      <td>Assault</td>\n",
       "    </tr>\n",
       "    <tr>\n",
       "      <th>1</th>\n",
       "      <td>2022-06-28</td>\n",
       "      <td>India</td>\n",
       "      <td>Rajasthan</td>\n",
       "      <td>Udaipur</td>\n",
       "      <td>Southern Asia</td>\n",
       "      <td>Asia</td>\n",
       "      <td>Islamists</td>\n",
       "      <td>NaN</td>\n",
       "      <td>1.0</td>\n",
       "      <td>A Hindu tailor was murdered by two Muslim assa...</td>\n",
       "      <td>24.612639887486125, 73.69126308833513</td>\n",
       "      <td>Assault</td>\n",
       "    </tr>\n",
       "    <tr>\n",
       "      <th>2</th>\n",
       "      <td>2022-06-25</td>\n",
       "      <td>Norway</td>\n",
       "      <td>NaN</td>\n",
       "      <td>Oslo</td>\n",
       "      <td>Northern Europe</td>\n",
       "      <td>Europe</td>\n",
       "      <td>NaN</td>\n",
       "      <td>10.0</td>\n",
       "      <td>2.0</td>\n",
       "      <td>Two people were killed and 21 injured, 10 of t...</td>\n",
       "      <td>59.913751261491804, 10.75215147566024</td>\n",
       "      <td>Assault</td>\n",
       "    </tr>\n",
       "    <tr>\n",
       "      <th>3</th>\n",
       "      <td>2022-06-18</td>\n",
       "      <td>Mali</td>\n",
       "      <td>NaN</td>\n",
       "      <td>NaN</td>\n",
       "      <td>Western Africa</td>\n",
       "      <td>Africa</td>\n",
       "      <td>Macina Liberation Front</td>\n",
       "      <td>NaN</td>\n",
       "      <td>132.0</td>\n",
       "      <td>Unidentified gunmen killed 132 civilians in Di...</td>\n",
       "      <td>16.3700359,-2.2900239</td>\n",
       "      <td>Assault</td>\n",
       "    </tr>\n",
       "    <tr>\n",
       "      <th>4</th>\n",
       "      <td>2022-05-05</td>\n",
       "      <td>Israel</td>\n",
       "      <td>NaN</td>\n",
       "      <td>NaN</td>\n",
       "      <td>Western Asia</td>\n",
       "      <td>Asia</td>\n",
       "      <td>As'ad Alrafa'ani and Sabhi Shajir</td>\n",
       "      <td>4.0</td>\n",
       "      <td>3.0</td>\n",
       "      <td>In Central Israel, two Palestinian men attacke...</td>\n",
       "      <td>31.5313113,34.8667654</td>\n",
       "      <td>Assault</td>\n",
       "    </tr>\n",
       "  </tbody>\n",
       "</table>\n",
       "</div>"
      ],
      "text/plain": [
       "         DATE    COUNTRY      STATE     CITY           SUBREGION  REGION  \\\n",
       "0  2022-07-16  Indonesia      Papua      NaN  South-Eastern Asia    Asia   \n",
       "1  2022-06-28      India  Rajasthan  Udaipur       Southern Asia    Asia   \n",
       "2  2022-06-25     Norway        NaN     Oslo     Northern Europe  Europe   \n",
       "3  2022-06-18       Mali        NaN      NaN      Western Africa  Africa   \n",
       "4  2022-05-05     Israel        NaN      NaN        Western Asia    Asia   \n",
       "\n",
       "                           PERPETRATOR  INJURED   DEAD  \\\n",
       "0  West Papua National Liberation Army      2.0   10.0   \n",
       "1                            Islamists      NaN    1.0   \n",
       "2                                  NaN     10.0    2.0   \n",
       "3              Macina Liberation Front      NaN  132.0   \n",
       "4    As'ad Alrafa'ani and Sabhi Shajir      4.0    3.0   \n",
       "\n",
       "                                         DESCRIPTION  \\\n",
       "0  Around 20 gunmen attacked the village of Nogol...   \n",
       "1  A Hindu tailor was murdered by two Muslim assa...   \n",
       "2  Two people were killed and 21 injured, 10 of t...   \n",
       "3  Unidentified gunmen killed 132 civilians in Di...   \n",
       "4  In Central Israel, two Palestinian men attacke...   \n",
       "\n",
       "                              COORDINATES CATEGORY  \n",
       "0  -4.318185048526521, 138.18016262274278  Assault  \n",
       "1   24.612639887486125, 73.69126308833513  Assault  \n",
       "2   59.913751261491804, 10.75215147566024  Assault  \n",
       "3                   16.3700359,-2.2900239  Assault  \n",
       "4                   31.5313113,34.8667654  Assault  "
      ]
     },
     "execution_count": 4,
     "metadata": {},
     "output_type": "execute_result"
    }
   ],
   "source": [
    "df = pd.read_csv(\"klapeye-global-terrorism.csv\")\n",
    "df.head()"
   ]
  },
  {
   "cell_type": "code",
   "execution_count": 5,
   "metadata": {},
   "outputs": [
    {
     "name": "stdout",
     "output_type": "stream",
     "text": [
      "<class 'pandas.core.frame.DataFrame'>\n",
      "RangeIndex: 27159 entries, 0 to 27158\n",
      "Data columns (total 12 columns):\n",
      " #   Column       Non-Null Count  Dtype  \n",
      "---  ------       --------------  -----  \n",
      " 0   DATE         27159 non-null  object \n",
      " 1   COUNTRY      27159 non-null  object \n",
      " 2   STATE        15404 non-null  object \n",
      " 3   CITY         13128 non-null  object \n",
      " 4   SUBREGION    21164 non-null  object \n",
      " 5   REGION       21159 non-null  object \n",
      " 6   PERPETRATOR  10137 non-null  object \n",
      " 7   INJURED      27153 non-null  float64\n",
      " 8   DEAD         27158 non-null  float64\n",
      " 9   DESCRIPTION  27159 non-null  object \n",
      " 10  COORDINATES  27151 non-null  object \n",
      " 11  CATEGORY     21563 non-null  object \n",
      "dtypes: float64(2), object(10)\n",
      "memory usage: 2.5+ MB\n"
     ]
    }
   ],
   "source": [
    "df.info()"
   ]
  },
  {
   "cell_type": "code",
   "execution_count": 6,
   "metadata": {},
   "outputs": [
    {
     "data": {
      "text/plain": [
       "DATE               0\n",
       "COUNTRY            0\n",
       "STATE          11755\n",
       "CITY           14031\n",
       "SUBREGION       5995\n",
       "REGION          6000\n",
       "PERPETRATOR    17022\n",
       "INJURED            6\n",
       "DEAD               1\n",
       "DESCRIPTION        0\n",
       "COORDINATES        8\n",
       "CATEGORY        5596\n",
       "dtype: int64"
      ]
     },
     "execution_count": 6,
     "metadata": {},
     "output_type": "execute_result"
    }
   ],
   "source": [
    "df.isna().sum()"
   ]
  },
  {
   "cell_type": "code",
   "execution_count": 7,
   "metadata": {},
   "outputs": [
    {
     "data": {
      "text/plain": [
       "(27159, 12)"
      ]
     },
     "execution_count": 7,
     "metadata": {},
     "output_type": "execute_result"
    }
   ],
   "source": [
    "df.shape"
   ]
  },
  {
   "cell_type": "code",
   "execution_count": 8,
   "metadata": {},
   "outputs": [],
   "source": [
    "df.drop_duplicates(inplace=True)"
   ]
  },
  {
   "cell_type": "code",
   "execution_count": 9,
   "metadata": {},
   "outputs": [
    {
     "data": {
      "text/plain": [
       "(27159, 12)"
      ]
     },
     "execution_count": 9,
     "metadata": {},
     "output_type": "execute_result"
    }
   ],
   "source": [
    "df.shape"
   ]
  },
  {
   "cell_type": "code",
   "execution_count": 10,
   "metadata": {},
   "outputs": [
    {
     "data": {
      "text/plain": [
       "DATE            object\n",
       "COUNTRY         object\n",
       "STATE           object\n",
       "CITY            object\n",
       "SUBREGION       object\n",
       "REGION          object\n",
       "PERPETRATOR     object\n",
       "INJURED        float64\n",
       "DEAD           float64\n",
       "DESCRIPTION     object\n",
       "COORDINATES     object\n",
       "CATEGORY        object\n",
       "dtype: object"
      ]
     },
     "execution_count": 10,
     "metadata": {},
     "output_type": "execute_result"
    }
   ],
   "source": [
    "df.dtypes"
   ]
  },
  {
   "cell_type": "code",
   "execution_count": 11,
   "metadata": {},
   "outputs": [
    {
     "data": {
      "text/plain": [
       "DATE           datetime64[ns]\n",
       "COUNTRY                object\n",
       "STATE                  object\n",
       "CITY                   object\n",
       "SUBREGION              object\n",
       "REGION               category\n",
       "PERPETRATOR            object\n",
       "INJURED               float64\n",
       "DEAD                  float64\n",
       "DESCRIPTION            object\n",
       "COORDINATES            object\n",
       "CATEGORY             category\n",
       "dtype: object"
      ]
     },
     "execution_count": 11,
     "metadata": {},
     "output_type": "execute_result"
    }
   ],
   "source": [
    "df[\"DATE\"] = df[\"DATE\"].astype(\"datetime64\")\n",
    "df[\"REGION\"] = df[\"REGION\"].astype(\"category\")\n",
    "df[\"CATEGORY\"] = df[\"CATEGORY\"].astype(\"category\")\n",
    "df.dtypes"
   ]
  },
  {
   "cell_type": "code",
   "execution_count": 12,
   "metadata": {},
   "outputs": [
    {
     "data": {
      "text/html": [
       "<div>\n",
       "<style scoped>\n",
       "    .dataframe tbody tr th:only-of-type {\n",
       "        vertical-align: middle;\n",
       "    }\n",
       "\n",
       "    .dataframe tbody tr th {\n",
       "        vertical-align: top;\n",
       "    }\n",
       "\n",
       "    .dataframe thead th {\n",
       "        text-align: right;\n",
       "    }\n",
       "</style>\n",
       "<table border=\"1\" class=\"dataframe\">\n",
       "  <thead>\n",
       "    <tr style=\"text-align: right;\">\n",
       "      <th></th>\n",
       "      <th>COUNTRY</th>\n",
       "      <th>STATE</th>\n",
       "      <th>CITY</th>\n",
       "      <th>SUBREGION</th>\n",
       "      <th>REGION</th>\n",
       "      <th>PERPETRATOR</th>\n",
       "      <th>INJURED</th>\n",
       "      <th>DEAD</th>\n",
       "      <th>DESCRIPTION</th>\n",
       "      <th>COORDINATES</th>\n",
       "      <th>CATEGORY</th>\n",
       "    </tr>\n",
       "    <tr>\n",
       "      <th>DATE</th>\n",
       "      <th></th>\n",
       "      <th></th>\n",
       "      <th></th>\n",
       "      <th></th>\n",
       "      <th></th>\n",
       "      <th></th>\n",
       "      <th></th>\n",
       "      <th></th>\n",
       "      <th></th>\n",
       "      <th></th>\n",
       "      <th></th>\n",
       "    </tr>\n",
       "  </thead>\n",
       "  <tbody>\n",
       "    <tr>\n",
       "      <th>2022-07-16</th>\n",
       "      <td>Indonesia</td>\n",
       "      <td>Papua</td>\n",
       "      <td>NaN</td>\n",
       "      <td>South-Eastern Asia</td>\n",
       "      <td>Asia</td>\n",
       "      <td>West Papua National Liberation Army</td>\n",
       "      <td>2.0</td>\n",
       "      <td>10.0</td>\n",
       "      <td>Around 20 gunmen attacked the village of Nogol...</td>\n",
       "      <td>-4.318185048526521, 138.18016262274278</td>\n",
       "      <td>Assault</td>\n",
       "    </tr>\n",
       "    <tr>\n",
       "      <th>2022-06-28</th>\n",
       "      <td>India</td>\n",
       "      <td>Rajasthan</td>\n",
       "      <td>Udaipur</td>\n",
       "      <td>Southern Asia</td>\n",
       "      <td>Asia</td>\n",
       "      <td>Islamists</td>\n",
       "      <td>NaN</td>\n",
       "      <td>1.0</td>\n",
       "      <td>A Hindu tailor was murdered by two Muslim assa...</td>\n",
       "      <td>24.612639887486125, 73.69126308833513</td>\n",
       "      <td>Assault</td>\n",
       "    </tr>\n",
       "    <tr>\n",
       "      <th>2022-06-25</th>\n",
       "      <td>Norway</td>\n",
       "      <td>NaN</td>\n",
       "      <td>Oslo</td>\n",
       "      <td>Northern Europe</td>\n",
       "      <td>Europe</td>\n",
       "      <td>NaN</td>\n",
       "      <td>10.0</td>\n",
       "      <td>2.0</td>\n",
       "      <td>Two people were killed and 21 injured, 10 of t...</td>\n",
       "      <td>59.913751261491804, 10.75215147566024</td>\n",
       "      <td>Assault</td>\n",
       "    </tr>\n",
       "    <tr>\n",
       "      <th>2022-06-18</th>\n",
       "      <td>Mali</td>\n",
       "      <td>NaN</td>\n",
       "      <td>NaN</td>\n",
       "      <td>Western Africa</td>\n",
       "      <td>Africa</td>\n",
       "      <td>Macina Liberation Front</td>\n",
       "      <td>NaN</td>\n",
       "      <td>132.0</td>\n",
       "      <td>Unidentified gunmen killed 132 civilians in Di...</td>\n",
       "      <td>16.3700359,-2.2900239</td>\n",
       "      <td>Assault</td>\n",
       "    </tr>\n",
       "    <tr>\n",
       "      <th>2022-05-05</th>\n",
       "      <td>Israel</td>\n",
       "      <td>NaN</td>\n",
       "      <td>NaN</td>\n",
       "      <td>Western Asia</td>\n",
       "      <td>Asia</td>\n",
       "      <td>As'ad Alrafa'ani and Sabhi Shajir</td>\n",
       "      <td>4.0</td>\n",
       "      <td>3.0</td>\n",
       "      <td>In Central Israel, two Palestinian men attacke...</td>\n",
       "      <td>31.5313113,34.8667654</td>\n",
       "      <td>Assault</td>\n",
       "    </tr>\n",
       "  </tbody>\n",
       "</table>\n",
       "</div>"
      ],
      "text/plain": [
       "              COUNTRY      STATE     CITY           SUBREGION  REGION  \\\n",
       "DATE                                                                    \n",
       "2022-07-16  Indonesia      Papua      NaN  South-Eastern Asia    Asia   \n",
       "2022-06-28      India  Rajasthan  Udaipur       Southern Asia    Asia   \n",
       "2022-06-25     Norway        NaN     Oslo     Northern Europe  Europe   \n",
       "2022-06-18       Mali        NaN      NaN      Western Africa  Africa   \n",
       "2022-05-05     Israel        NaN      NaN        Western Asia    Asia   \n",
       "\n",
       "                                    PERPETRATOR  INJURED   DEAD  \\\n",
       "DATE                                                              \n",
       "2022-07-16  West Papua National Liberation Army      2.0   10.0   \n",
       "2022-06-28                            Islamists      NaN    1.0   \n",
       "2022-06-25                                  NaN     10.0    2.0   \n",
       "2022-06-18              Macina Liberation Front      NaN  132.0   \n",
       "2022-05-05    As'ad Alrafa'ani and Sabhi Shajir      4.0    3.0   \n",
       "\n",
       "                                                  DESCRIPTION  \\\n",
       "DATE                                                            \n",
       "2022-07-16  Around 20 gunmen attacked the village of Nogol...   \n",
       "2022-06-28  A Hindu tailor was murdered by two Muslim assa...   \n",
       "2022-06-25  Two people were killed and 21 injured, 10 of t...   \n",
       "2022-06-18  Unidentified gunmen killed 132 civilians in Di...   \n",
       "2022-05-05  In Central Israel, two Palestinian men attacke...   \n",
       "\n",
       "                                       COORDINATES CATEGORY  \n",
       "DATE                                                         \n",
       "2022-07-16  -4.318185048526521, 138.18016262274278  Assault  \n",
       "2022-06-28   24.612639887486125, 73.69126308833513  Assault  \n",
       "2022-06-25   59.913751261491804, 10.75215147566024  Assault  \n",
       "2022-06-18                   16.3700359,-2.2900239  Assault  \n",
       "2022-05-05                   31.5313113,34.8667654  Assault  "
      ]
     },
     "execution_count": 12,
     "metadata": {},
     "output_type": "execute_result"
    }
   ],
   "source": [
    "df.set_index(\"DATE\" , inplace=True ) # we can also add drop=False parameter.\n",
    "df.head()"
   ]
  },
  {
   "cell_type": "code",
   "execution_count": null,
   "metadata": {},
   "outputs": [],
   "source": [
    "# df[((df[\"STATE\"] == \"Washington\") & (df.CITY.isna()))] # it was training."
   ]
  },
  {
   "cell_type": "code",
   "execution_count": 15,
   "metadata": {},
   "outputs": [],
   "source": [
    "df.loc[((df[\"STATE\"] == \"Washington\") & (df.CITY.isna())) , \"STATE\"] = \"Washington DC\" # This works..."
   ]
  },
  {
   "cell_type": "code",
   "execution_count": null,
   "metadata": {},
   "outputs": [],
   "source": [
    "df"
   ]
  },
  {
   "cell_type": "code",
   "execution_count": null,
   "metadata": {},
   "outputs": [],
   "source": [
    "df[df[\"STATE\"] == \"Washington DC\"]"
   ]
  },
  {
   "cell_type": "code",
   "execution_count": null,
   "metadata": {},
   "outputs": [],
   "source": [
    "df[df[\"STATE\"] == \"Washington\"]"
   ]
  },
  {
   "cell_type": "code",
   "execution_count": 23,
   "metadata": {},
   "outputs": [
    {
     "data": {
      "text/html": [
       "<div>\n",
       "<style scoped>\n",
       "    .dataframe tbody tr th:only-of-type {\n",
       "        vertical-align: middle;\n",
       "    }\n",
       "\n",
       "    .dataframe tbody tr th {\n",
       "        vertical-align: top;\n",
       "    }\n",
       "\n",
       "    .dataframe thead th {\n",
       "        text-align: right;\n",
       "    }\n",
       "</style>\n",
       "<table border=\"1\" class=\"dataframe\">\n",
       "  <thead>\n",
       "    <tr style=\"text-align: right;\">\n",
       "      <th></th>\n",
       "      <th>COUNTRY</th>\n",
       "      <th>STATE</th>\n",
       "      <th>CITY</th>\n",
       "      <th>SUBREGION</th>\n",
       "      <th>REGION</th>\n",
       "      <th>PERPETRATOR</th>\n",
       "      <th>INJURED</th>\n",
       "      <th>DEAD</th>\n",
       "      <th>DESCRIPTION</th>\n",
       "      <th>COORDINATES</th>\n",
       "      <th>CATEGORY</th>\n",
       "    </tr>\n",
       "    <tr>\n",
       "      <th>DATE</th>\n",
       "      <th></th>\n",
       "      <th></th>\n",
       "      <th></th>\n",
       "      <th></th>\n",
       "      <th></th>\n",
       "      <th></th>\n",
       "      <th></th>\n",
       "      <th></th>\n",
       "      <th></th>\n",
       "      <th></th>\n",
       "      <th></th>\n",
       "    </tr>\n",
       "  </thead>\n",
       "  <tbody>\n",
       "    <tr>\n",
       "      <th>2022-07-16</th>\n",
       "      <td>Indonesia</td>\n",
       "      <td>Papua</td>\n",
       "      <td>NaN</td>\n",
       "      <td>South-Eastern Asia</td>\n",
       "      <td>Asia</td>\n",
       "      <td>West Papua National Liberation Army</td>\n",
       "      <td>2.0</td>\n",
       "      <td>10.0</td>\n",
       "      <td>Around 20 gunmen attacked the village of Nogol...</td>\n",
       "      <td>-4.318185048526521, 138.18016262274278</td>\n",
       "      <td>Assault</td>\n",
       "    </tr>\n",
       "    <tr>\n",
       "      <th>2022-06-28</th>\n",
       "      <td>India</td>\n",
       "      <td>Rajasthan</td>\n",
       "      <td>Udaipur</td>\n",
       "      <td>Southern Asia</td>\n",
       "      <td>Asia</td>\n",
       "      <td>Islamists</td>\n",
       "      <td>NaN</td>\n",
       "      <td>1.0</td>\n",
       "      <td>A Hindu tailor was murdered by two Muslim assa...</td>\n",
       "      <td>24.612639887486125, 73.69126308833513</td>\n",
       "      <td>Assault</td>\n",
       "    </tr>\n",
       "    <tr>\n",
       "      <th>2022-06-25</th>\n",
       "      <td>Norway</td>\n",
       "      <td>NaN</td>\n",
       "      <td>Oslo</td>\n",
       "      <td>Northern Europe</td>\n",
       "      <td>Europe</td>\n",
       "      <td>NaN</td>\n",
       "      <td>10.0</td>\n",
       "      <td>2.0</td>\n",
       "      <td>Two people were killed and 21 injured, 10 of t...</td>\n",
       "      <td>59.913751261491804, 10.75215147566024</td>\n",
       "      <td>Assault</td>\n",
       "    </tr>\n",
       "    <tr>\n",
       "      <th>2022-06-18</th>\n",
       "      <td>Mali</td>\n",
       "      <td>NaN</td>\n",
       "      <td>NaN</td>\n",
       "      <td>Western Africa</td>\n",
       "      <td>Africa</td>\n",
       "      <td>Macina Liberation Front</td>\n",
       "      <td>NaN</td>\n",
       "      <td>132.0</td>\n",
       "      <td>Unidentified gunmen killed 132 civilians in Di...</td>\n",
       "      <td>16.3700359,-2.2900239</td>\n",
       "      <td>Assault</td>\n",
       "    </tr>\n",
       "    <tr>\n",
       "      <th>2022-05-05</th>\n",
       "      <td>Israel</td>\n",
       "      <td>NaN</td>\n",
       "      <td>NaN</td>\n",
       "      <td>Western Asia</td>\n",
       "      <td>Asia</td>\n",
       "      <td>As'ad Alrafa'ani and Sabhi Shajir</td>\n",
       "      <td>4.0</td>\n",
       "      <td>3.0</td>\n",
       "      <td>In Central Israel, two Palestinian men attacke...</td>\n",
       "      <td>31.5313113,34.8667654</td>\n",
       "      <td>Assault</td>\n",
       "    </tr>\n",
       "    <tr>\n",
       "      <th>...</th>\n",
       "      <td>...</td>\n",
       "      <td>...</td>\n",
       "      <td>...</td>\n",
       "      <td>...</td>\n",
       "      <td>...</td>\n",
       "      <td>...</td>\n",
       "      <td>...</td>\n",
       "      <td>...</td>\n",
       "      <td>...</td>\n",
       "      <td>...</td>\n",
       "      <td>...</td>\n",
       "    </tr>\n",
       "    <tr>\n",
       "      <th>1968-02-21</th>\n",
       "      <td>United States</td>\n",
       "      <td>Washington DC</td>\n",
       "      <td>NaN</td>\n",
       "      <td>Northern America</td>\n",
       "      <td>Americas</td>\n",
       "      <td>NaN</td>\n",
       "      <td>0.0</td>\n",
       "      <td>0.0</td>\n",
       "      <td>The Soviet embassy was bombed in the early mor...</td>\n",
       "      <td>38.8950368,-77.0365427</td>\n",
       "      <td>Explosion</td>\n",
       "    </tr>\n",
       "    <tr>\n",
       "      <th>1968-02-20</th>\n",
       "      <td>Chile</td>\n",
       "      <td>Región Metropolitana de Santiago</td>\n",
       "      <td>Santiago</td>\n",
       "      <td>South America</td>\n",
       "      <td>Americas</td>\n",
       "      <td>NaN</td>\n",
       "      <td>0.0</td>\n",
       "      <td>0.0</td>\n",
       "      <td>An explosion from a single stick of dynamite w...</td>\n",
       "      <td>-33.4377756,-70.6504502</td>\n",
       "      <td>Explosion</td>\n",
       "    </tr>\n",
       "    <tr>\n",
       "      <th>1968-02-13</th>\n",
       "      <td>Uruguay</td>\n",
       "      <td>NaN</td>\n",
       "      <td>NaN</td>\n",
       "      <td>South America</td>\n",
       "      <td>NaN</td>\n",
       "      <td>NaN</td>\n",
       "      <td>0.0</td>\n",
       "      <td>0.0</td>\n",
       "      <td>A Molotov cocktail was thrown outside the U.S....</td>\n",
       "      <td>-32.8755548,-56.0201525</td>\n",
       "      <td>NaN</td>\n",
       "    </tr>\n",
       "    <tr>\n",
       "      <th>1968-02-12</th>\n",
       "      <td>Dominican Republic</td>\n",
       "      <td>Distrito Nacional</td>\n",
       "      <td>Santo Domingo</td>\n",
       "      <td>Caribbean</td>\n",
       "      <td>Americas</td>\n",
       "      <td>NaN</td>\n",
       "      <td>0.0</td>\n",
       "      <td>0.0</td>\n",
       "      <td>A homemade bomb was found behind books on the ...</td>\n",
       "      <td>18.4801972,-69.942111</td>\n",
       "      <td>Explosion</td>\n",
       "    </tr>\n",
       "    <tr>\n",
       "      <th>1968-02-09</th>\n",
       "      <td>Argentina</td>\n",
       "      <td>NaN</td>\n",
       "      <td>NaN</td>\n",
       "      <td>South America</td>\n",
       "      <td>NaN</td>\n",
       "      <td>NaN</td>\n",
       "      <td>0.0</td>\n",
       "      <td>0.0</td>\n",
       "      <td>The second floor of the U.S. embassy residence...</td>\n",
       "      <td>-34.9964963,-64.9672817</td>\n",
       "      <td>Assault</td>\n",
       "    </tr>\n",
       "  </tbody>\n",
       "</table>\n",
       "<p>27159 rows × 11 columns</p>\n",
       "</div>"
      ],
      "text/plain": [
       "                       COUNTRY                             STATE  \\\n",
       "DATE                                                               \n",
       "2022-07-16           Indonesia                             Papua   \n",
       "2022-06-28               India                         Rajasthan   \n",
       "2022-06-25              Norway                               NaN   \n",
       "2022-06-18                Mali                               NaN   \n",
       "2022-05-05              Israel                               NaN   \n",
       "...                        ...                               ...   \n",
       "1968-02-21       United States                     Washington DC   \n",
       "1968-02-20               Chile  Región Metropolitana de Santiago   \n",
       "1968-02-13             Uruguay                               NaN   \n",
       "1968-02-12  Dominican Republic                 Distrito Nacional   \n",
       "1968-02-09           Argentina                               NaN   \n",
       "\n",
       "                     CITY           SUBREGION    REGION  \\\n",
       "DATE                                                      \n",
       "2022-07-16            NaN  South-Eastern Asia      Asia   \n",
       "2022-06-28        Udaipur       Southern Asia      Asia   \n",
       "2022-06-25           Oslo     Northern Europe    Europe   \n",
       "2022-06-18            NaN      Western Africa    Africa   \n",
       "2022-05-05            NaN        Western Asia      Asia   \n",
       "...                   ...                 ...       ...   \n",
       "1968-02-21            NaN    Northern America  Americas   \n",
       "1968-02-20       Santiago       South America  Americas   \n",
       "1968-02-13            NaN       South America       NaN   \n",
       "1968-02-12  Santo Domingo           Caribbean  Americas   \n",
       "1968-02-09            NaN       South America       NaN   \n",
       "\n",
       "                                    PERPETRATOR  INJURED   DEAD  \\\n",
       "DATE                                                              \n",
       "2022-07-16  West Papua National Liberation Army      2.0   10.0   \n",
       "2022-06-28                            Islamists      NaN    1.0   \n",
       "2022-06-25                                  NaN     10.0    2.0   \n",
       "2022-06-18              Macina Liberation Front      NaN  132.0   \n",
       "2022-05-05    As'ad Alrafa'ani and Sabhi Shajir      4.0    3.0   \n",
       "...                                         ...      ...    ...   \n",
       "1968-02-21                                  NaN      0.0    0.0   \n",
       "1968-02-20                                  NaN      0.0    0.0   \n",
       "1968-02-13                                  NaN      0.0    0.0   \n",
       "1968-02-12                                  NaN      0.0    0.0   \n",
       "1968-02-09                                  NaN      0.0    0.0   \n",
       "\n",
       "                                                  DESCRIPTION  \\\n",
       "DATE                                                            \n",
       "2022-07-16  Around 20 gunmen attacked the village of Nogol...   \n",
       "2022-06-28  A Hindu tailor was murdered by two Muslim assa...   \n",
       "2022-06-25  Two people were killed and 21 injured, 10 of t...   \n",
       "2022-06-18  Unidentified gunmen killed 132 civilians in Di...   \n",
       "2022-05-05  In Central Israel, two Palestinian men attacke...   \n",
       "...                                                       ...   \n",
       "1968-02-21  The Soviet embassy was bombed in the early mor...   \n",
       "1968-02-20  An explosion from a single stick of dynamite w...   \n",
       "1968-02-13  A Molotov cocktail was thrown outside the U.S....   \n",
       "1968-02-12  A homemade bomb was found behind books on the ...   \n",
       "1968-02-09  The second floor of the U.S. embassy residence...   \n",
       "\n",
       "                                       COORDINATES   CATEGORY  \n",
       "DATE                                                           \n",
       "2022-07-16  -4.318185048526521, 138.18016262274278    Assault  \n",
       "2022-06-28   24.612639887486125, 73.69126308833513    Assault  \n",
       "2022-06-25   59.913751261491804, 10.75215147566024    Assault  \n",
       "2022-06-18                   16.3700359,-2.2900239    Assault  \n",
       "2022-05-05                   31.5313113,34.8667654    Assault  \n",
       "...                                            ...        ...  \n",
       "1968-02-21                  38.8950368,-77.0365427  Explosion  \n",
       "1968-02-20                 -33.4377756,-70.6504502  Explosion  \n",
       "1968-02-13                 -32.8755548,-56.0201525        NaN  \n",
       "1968-02-12                   18.4801972,-69.942111  Explosion  \n",
       "1968-02-09                 -34.9964963,-64.9672817    Assault  \n",
       "\n",
       "[27159 rows x 11 columns]"
      ]
     },
     "execution_count": 23,
     "metadata": {},
     "output_type": "execute_result"
    }
   ],
   "source": [
    "df"
   ]
  },
  {
   "cell_type": "code",
   "execution_count": 47,
   "metadata": {},
   "outputs": [],
   "source": [
    "#reg_grouped_df = df.groupby(\"REGION\")"
   ]
  },
  {
   "cell_type": "code",
   "execution_count": 45,
   "metadata": {},
   "outputs": [
    {
     "data": {
      "image/png": "[encoded data removed]",
      "text/plain": [
       "<Figure size 432x288 with 1 Axes>"
      ]
     },
     "metadata": {
      "needs_background": "light"
     },
     "output_type": "display_data"
    }
   ],
   "source": [
    "sns.countplot(x = df.REGION);"
   ]
  },
  {
   "cell_type": "code",
   "execution_count": 83,
   "metadata": {},
   "outputs": [
    {
     "data": {
      "text/html": [
       "<div>\n",
       "<style scoped>\n",
       "    .dataframe tbody tr th:only-of-type {\n",
       "        vertical-align: middle;\n",
       "    }\n",
       "\n",
       "    .dataframe tbody tr th {\n",
       "        vertical-align: top;\n",
       "    }\n",
       "\n",
       "    .dataframe thead th {\n",
       "        text-align: right;\n",
       "    }\n",
       "</style>\n",
       "<table border=\"1\" class=\"dataframe\">\n",
       "  <thead>\n",
       "    <tr style=\"text-align: right;\">\n",
       "      <th></th>\n",
       "      <th>INJURED</th>\n",
       "      <th>DEAD</th>\n",
       "    </tr>\n",
       "    <tr>\n",
       "      <th>COUNTRY</th>\n",
       "      <th></th>\n",
       "      <th></th>\n",
       "    </tr>\n",
       "  </thead>\n",
       "  <tbody>\n",
       "    <tr>\n",
       "      <th>Afghanistan</th>\n",
       "      <td>8938.0</td>\n",
       "      <td>6052.0</td>\n",
       "    </tr>\n",
       "    <tr>\n",
       "      <th>Albania</th>\n",
       "      <td>20.0</td>\n",
       "      <td>9.0</td>\n",
       "    </tr>\n",
       "    <tr>\n",
       "      <th>Algeria</th>\n",
       "      <td>1832.0</td>\n",
       "      <td>1482.0</td>\n",
       "    </tr>\n",
       "    <tr>\n",
       "      <th>Angola</th>\n",
       "      <td>301.0</td>\n",
       "      <td>566.0</td>\n",
       "    </tr>\n",
       "    <tr>\n",
       "      <th>Argentina</th>\n",
       "      <td>1118.0</td>\n",
       "      <td>271.0</td>\n",
       "    </tr>\n",
       "    <tr>\n",
       "      <th>...</th>\n",
       "      <td>...</td>\n",
       "      <td>...</td>\n",
       "    </tr>\n",
       "    <tr>\n",
       "      <th>Vietnam</th>\n",
       "      <td>0.0</td>\n",
       "      <td>76.0</td>\n",
       "    </tr>\n",
       "    <tr>\n",
       "      <th>Yemen</th>\n",
       "      <td>1234.0</td>\n",
       "      <td>660.0</td>\n",
       "    </tr>\n",
       "    <tr>\n",
       "      <th>Zaire</th>\n",
       "      <td>0.0</td>\n",
       "      <td>5.0</td>\n",
       "    </tr>\n",
       "    <tr>\n",
       "      <th>Zambia</th>\n",
       "      <td>34.0</td>\n",
       "      <td>10.0</td>\n",
       "    </tr>\n",
       "    <tr>\n",
       "      <th>Zimbabwe</th>\n",
       "      <td>155.0</td>\n",
       "      <td>79.0</td>\n",
       "    </tr>\n",
       "  </tbody>\n",
       "</table>\n",
       "<p>175 rows × 2 columns</p>\n",
       "</div>"
      ],
      "text/plain": [
       "             INJURED    DEAD\n",
       "COUNTRY                     \n",
       "Afghanistan   8938.0  6052.0\n",
       "Albania         20.0     9.0\n",
       "Algeria       1832.0  1482.0\n",
       "Angola         301.0   566.0\n",
       "Argentina     1118.0   271.0\n",
       "...              ...     ...\n",
       "Vietnam          0.0    76.0\n",
       "Yemen         1234.0   660.0\n",
       "Zaire            0.0     5.0\n",
       "Zambia          34.0    10.0\n",
       "Zimbabwe       155.0    79.0\n",
       "\n",
       "[175 rows x 2 columns]"
      ]
     },
     "execution_count": 83,
     "metadata": {},
     "output_type": "execute_result"
    }
   ],
   "source": [
    "df.groupby(\"COUNTRY\").sum()"
   ]
  },
  {
   "cell_type": "code",
   "execution_count": 90,
   "metadata": {},
   "outputs": [
    {
     "name": "stderr",
     "output_type": "stream",
     "text": [
      "C:\\Users\\EmincanY\\AppData\\Local\\Temp\\ipykernel_668\\447201004.py:1: FutureWarning: Dropping invalid columns in DataFrameGroupBy.max is deprecated. In a future version, a TypeError will be raised. Before calling .max, select only columns which should be valid for the function.\n",
      "  sns.barplot(x = df.groupby(\"COUNTRY\").sum()[\"DEAD\"].sort_values(ascending=False).head(10).index , y = df.groupby(\"COUNTRY\").max()[\"DEAD\"].sort_values(ascending=False).head(10).values)\n"
     ]
    },
    {
     "data": {
      "text/plain": [
       "<AxesSubplot:xlabel='COUNTRY'>"
      ]
     },
     "execution_count": 90,
     "metadata": {},
     "output_type": "execute_result"
    },
    {
     "data": {
      "image/png": "[encoded data removed]",
      "text/plain": [
       "<Figure size 432x288 with 1 Axes>"
      ]
     },
     "metadata": {
      "needs_background": "light"
     },
     "output_type": "display_data"
    }
   ],
   "source": [
    "sns.barplot(x = df.groupby(\"COUNTRY\").sum()[\"DEAD\"].sort_values(ascending=False).head(10).index , y = df.groupby(\"COUNTRY\").max()[\"DEAD\"].sort_values(ascending=False).head(10).values)\n",
    "\n",
    "# Most 10 countries which has more dead"
   ]
  },
  {
   "cell_type": "code",
   "execution_count": 85,
   "metadata": {},
   "outputs": [
    {
     "data": {
      "text/plain": [
       "COUNTRY          object\n",
       "STATE            object\n",
       "CITY             object\n",
       "SUBREGION        object\n",
       "REGION         category\n",
       "PERPETRATOR      object\n",
       "INJURED         float64\n",
       "DEAD            float64\n",
       "DESCRIPTION      object\n",
       "COORDINATES      object\n",
       "CATEGORY       category\n",
       "dtype: object"
      ]
     },
     "execution_count": 85,
     "metadata": {},
     "output_type": "execute_result"
    }
   ],
   "source": [
    "df.dtypes"
   ]
  },
  {
   "cell_type": "code",
   "execution_count": 86,
   "metadata": {},
   "outputs": [],
   "source": [
    "df.to_csv(\"Terrorism.csv\")"
   ]
  },
  {
   "cell_type": "code",
   "execution_count": null,
   "metadata": {},
   "outputs": [],
   "source": []
  }
 ],
 "metadata": {
  "kernelspec": {
   "display_name": "Python 3.10.5 64-bit",
   "language": "python",
   "name": "python3"
  },
  "language_info": {
   "codemirror_mode": {
    "name": "ipython",
    "version": 3
   },
   "file_extension": ".py",
   "mimetype": "text/x-python",
   "name": "python",
   "nbconvert_exporter": "python",
   "pygments_lexer": "ipython3",
   "version": "3.10.5"
  },
  "orig_nbformat": 4,
  "vscode": {
   "interpreter": {
    "hash": "2d8cd8638caa719e77c3ece9ee6c9cdab6f2065d170551d375a17b4273bc3a23"
   }
  }
 },
 "nbformat": 4,
 "nbformat_minor": 2
}
