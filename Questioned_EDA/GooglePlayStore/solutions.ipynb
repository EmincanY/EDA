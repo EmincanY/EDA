{
 "cells": [
  {
   "cell_type": "code",
   "execution_count": null,
   "metadata": {},
   "outputs": [],
   "source": [
    "import numpy as np\n",
    "import pandas as pd\n",
    "\n",
    "import matplotlib.pyplot as plt\n",
    "import seaborn as sns"
   ]
  },
  {
   "cell_type": "code",
   "execution_count": null,
   "metadata": {},
   "outputs": [],
   "source": [
    "df = pd.read_csv(\"googleplaystore.csv\")\n",
    "df"
   ]
  },
  {
   "cell_type": "code",
   "execution_count": null,
   "metadata": {},
   "outputs": [],
   "source": [
    "df.info()"
   ]
  },
  {
   "cell_type": "code",
   "execution_count": null,
   "metadata": {},
   "outputs": [],
   "source": [
    "df[\"App\"].value_counts() # Some app's have duplicated.\n",
    "df = df.sort_values(\"Reviews\" , ascending=False ).drop_duplicates(subset = \"App\") # We dropped same app name rows. We kept only most Reviews.\n",
    "df.reset_index(drop = True ,inplace=True)"
   ]
  },
  {
   "cell_type": "code",
   "execution_count": null,
   "metadata": {},
   "outputs": [],
   "source": [
    "df.Reviews = df.Reviews.str.replace(\".0M\",\"000000\")\n",
    "df.Reviews = df.Reviews.astype(\"int32\")"
   ]
  },
  {
   "cell_type": "code",
   "execution_count": null,
   "metadata": {},
   "outputs": [],
   "source": [
    "df.Size = df.Size.apply(lambda x : str(float(x.replace(\"M\", \"\"))*1e6) if x.__contains__(\"M\") else x)\n",
    "df.Size = df.Size.apply(lambda x : str(float(x.replace(\"k\", \"\"))*1e3) if x.__contains__(\"k\") else x)\n",
    "df.Size = df.Size.apply(lambda x : np.nan if x == \"Varies with device\" else x)\n",
    "df.Size = df.Size.apply(lambda x : x.replace(\",\",\"\") if str(x).__contains__(\",\") else x)\n",
    "df.Size = df.Size.apply(lambda x : str(float(x.replace(\"+\",\"\"))*1.5) if str(x).__contains__(\"+\") else x)\n",
    "df.Size = df.Size.astype(\"float32\")"
   ]
  },
  {
   "cell_type": "code",
   "execution_count": null,
   "metadata": {},
   "outputs": [],
   "source": [
    "df.info()"
   ]
  },
  {
   "cell_type": "code",
   "execution_count": null,
   "metadata": {},
   "outputs": [],
   "source": [
    "df[df[\"Installs\"]== \"Free\"] # 1 cell shifted value."
   ]
  },
  {
   "cell_type": "code",
   "execution_count": null,
   "metadata": {},
   "outputs": [],
   "source": [
    "df.iloc[4484]"
   ]
  },
  {
   "cell_type": "code",
   "execution_count": null,
   "metadata": {},
   "outputs": [],
   "source": [
    "df.iloc[4484, 1:] = np.roll(df.iloc[4484, 1:] , 1) # We solved the shifting problem."
   ]
  },
  {
   "cell_type": "code",
   "execution_count": null,
   "metadata": {},
   "outputs": [],
   "source": [
    "df.iloc[4484] # Yeah we done."
   ]
  },
  {
   "cell_type": "code",
   "execution_count": null,
   "metadata": {},
   "outputs": [],
   "source": [
    "df.Category = df.Category.astype(\"category\")"
   ]
  },
  {
   "cell_type": "code",
   "execution_count": null,
   "metadata": {},
   "outputs": [],
   "source": [
    "df.Rating = df.Rating.astype(\"float32\")"
   ]
  },
  {
   "cell_type": "code",
   "execution_count": null,
   "metadata": {},
   "outputs": [],
   "source": [
    "df.Installs = df.Installs.str.replace(\",\" , \"\")\n",
    "df.Installs = df.Installs.dropna().apply(lambda x : str(float(x.replace(\"+\" , \"\")) *1.5) if x.__contains__(\"+\") else x )\n",
    "df.Installs = df.Installs.astype(\"float32\")\n",
    "\n",
    "df[\"Installs\"].value_counts() "
   ]
  },
  {
   "cell_type": "code",
   "execution_count": null,
   "metadata": {},
   "outputs": [],
   "source": [
    "df.info()"
   ]
  },
  {
   "cell_type": "code",
   "execution_count": null,
   "metadata": {},
   "outputs": [],
   "source": [
    "df[\"Type\"] = df[\"Type\"].astype(\"category\")"
   ]
  },
  {
   "cell_type": "code",
   "execution_count": null,
   "metadata": {},
   "outputs": [],
   "source": [
    "df.Price = df.Price.str.replace(\"$\" , \"\").astype(\"float32\")"
   ]
  },
  {
   "cell_type": "code",
   "execution_count": null,
   "metadata": {},
   "outputs": [],
   "source": [
    "df[\"Content Rating\"] = df[\"Content Rating\"].astype(\"category\")"
   ]
  },
  {
   "cell_type": "code",
   "execution_count": null,
   "metadata": {},
   "outputs": [],
   "source": [
    "df[\"Last Updated\"] = df[\"Last Updated\"].astype(\"datetime64\")"
   ]
  },
  {
   "cell_type": "code",
   "execution_count": null,
   "metadata": {},
   "outputs": [],
   "source": [
    "#df[\"Current Ver\"].value_counts() # Its very hard to change.\n",
    "#df[\"Android Ver\"].value_counts() # Same."
   ]
  },
  {
   "cell_type": "code",
   "execution_count": null,
   "metadata": {},
   "outputs": [],
   "source": [
    "df.info()"
   ]
  },
  {
   "cell_type": "markdown",
   "metadata": {},
   "source": [
    "## Question 1 : Which ones are most Installed apps ?"
   ]
  },
  {
   "cell_type": "code",
   "execution_count": null,
   "metadata": {},
   "outputs": [],
   "source": [
    "df[df.Installs == df.Installs.max()]"
   ]
  },
  {
   "cell_type": "markdown",
   "metadata": {},
   "source": [
    "## Question 2 : Which ones are least Installed apps ?"
   ]
  },
  {
   "cell_type": "code",
   "execution_count": null,
   "metadata": {},
   "outputs": [],
   "source": [
    "df[df.Installs == df.Installs.min()]"
   ]
  },
  {
   "cell_type": "markdown",
   "metadata": {},
   "source": [
    "## Question 3 : Which Category has the most Installing?"
   ]
  },
  {
   "cell_type": "code",
   "execution_count": null,
   "metadata": {},
   "outputs": [],
   "source": [
    "df.groupby(\"Category\").count().sort_values(\"Size\" , ascending=False) # 1879 Family , 942 Game , 828 Tools apps."
   ]
  },
  {
   "cell_type": "code",
   "execution_count": null,
   "metadata": {},
   "outputs": [],
   "source": [
    "df.groupby(\"Category\").mean()[\"Installs\"].sort_values(ascending=False) # Communication category have most Installing rates."
   ]
  },
  {
   "cell_type": "code",
   "execution_count": null,
   "metadata": {},
   "outputs": [],
   "source": [
    "df.groupby(\"Category\").sum()[\"Installs\"].sort_values(ascending=False) # Game Category most Installed. But also too many game apps..."
   ]
  },
  {
   "cell_type": "code",
   "execution_count": null,
   "metadata": {},
   "outputs": [],
   "source": [
    "df.groupby(\"Category\").mean()[\"Installs\"].sort_values(ascending=False).plot(kind = \"bar\" , figsize = (20,15));"
   ]
  },
  {
   "cell_type": "markdown",
   "metadata": {},
   "source": [
    "## Question 4 : Which categories get the highest ratings? "
   ]
  },
  {
   "cell_type": "code",
   "execution_count": null,
   "metadata": {},
   "outputs": [],
   "source": [
    "df.groupby(\"Category\").mean()[\"Rating\"].sort_values(ascending=False) # Events , Art and Design , Education , Book , Personalization ..."
   ]
  },
  {
   "cell_type": "code",
   "execution_count": null,
   "metadata": {},
   "outputs": [],
   "source": [
    "df.groupby(\"Category\").mean()[\"Rating\"].sort_values(ascending=False).plot(kind = \"bar\" , figsize = (18,12));"
   ]
  },
  {
   "cell_type": "markdown",
   "metadata": {},
   "source": [
    "## Question 5 : Is there any realation between app size and app installing ?"
   ]
  },
  {
   "cell_type": "code",
   "execution_count": null,
   "metadata": {},
   "outputs": [],
   "source": [
    "df.info()"
   ]
  },
  {
   "cell_type": "code",
   "execution_count": null,
   "metadata": {},
   "outputs": [],
   "source": [
    "df.corr()[\"Size\"][\"Installs\"] # 0.13 correlation is too low. So there is no realation between size and installing."
   ]
  },
  {
   "cell_type": "markdown",
   "metadata": {},
   "source": [
    "## Question 6 : Lets comparate installing rates between free and paid apps."
   ]
  },
  {
   "cell_type": "code",
   "execution_count": null,
   "metadata": {},
   "outputs": [],
   "source": [
    "df.Type.value_counts() # First of all 8903 free , 756 paid app in our data."
   ]
  },
  {
   "cell_type": "code",
   "execution_count": null,
   "metadata": {},
   "outputs": [],
   "source": [
    "df.groupby(\"Type\").mean() # We saw that Free apps too many more Installs and Reviews than Paid ones.\n",
    "                          # But about ratings, paid apps have more ratings rate."
   ]
  },
  {
   "cell_type": "code",
   "execution_count": null,
   "metadata": {},
   "outputs": [],
   "source": [
    "fig,ax = plt.subplots(1,3 , figsize = (15,10))\n",
    "\n",
    "sns.barplot(x = df[\"Type\"] , y = df[\"Installs\"] , ax = ax[0]);\n",
    "sns.scatterplot(x = df[\"Price\"] , y = df[\"Installs\"] , ax = ax[1] );\n",
    "sns.lineplot(x = df[\"Price\"] , y = df[\"Installs\"] , ax = ax[2] );\n",
    "\n",
    "# We see that Free apps too many more installing rate than paid ones."
   ]
  },
  {
   "cell_type": "markdown",
   "metadata": {},
   "source": [
    "## Question 7 : Which content rating have more installing ?"
   ]
  },
  {
   "cell_type": "code",
   "execution_count": null,
   "metadata": {},
   "outputs": [],
   "source": [
    "df.head()"
   ]
  },
  {
   "cell_type": "code",
   "execution_count": null,
   "metadata": {},
   "outputs": [],
   "source": [
    "df.groupby(\"Content Rating\").mean()[\"Installs\"].sort_values(ascending=False) # Teens content rating have most installing rates. After teens, Everyone 10+ most popular content."
   ]
  },
  {
   "cell_type": "markdown",
   "metadata": {},
   "source": [
    "## Question 8 : Lets comparate categories and genres columns, are we need to keep both of them or can we delete someone ?"
   ]
  },
  {
   "cell_type": "code",
   "execution_count": null,
   "metadata": {},
   "outputs": [],
   "source": [
    "df.groupby(\"Category\")[\"Genres\"].value_counts() # Best way to compare 2 feature.\n",
    "                                                # Category looks like a main feature and Genres its subset. I'm not sure am i drop one of them. \n",
    "                                                # If i was going to build a model i would drop one, but I wont build model for now. So I won't drop anyone."
   ]
  },
  {
   "cell_type": "markdown",
   "metadata": {},
   "source": [
    "## Question 9 : "
   ]
  },
  {
   "cell_type": "markdown",
   "metadata": {},
   "source": [
    "## Question 10 : Lets try to find estimated number of users via Install's and Ratings."
   ]
  },
  {
   "cell_type": "code",
   "execution_count": null,
   "metadata": {},
   "outputs": [],
   "source": [
    "df.head()"
   ]
  },
  {
   "cell_type": "code",
   "execution_count": null,
   "metadata": {},
   "outputs": [],
   "source": [
    "percentageUser = df[\"Rating\"] * 20 / 100\n",
    "df[\"Estimated Num of Users\"] = df[\"Installs\"] *percentageUser\n",
    "df.head()"
   ]
  },
  {
   "cell_type": "markdown",
   "metadata": {},
   "source": [
    "## Question 11: Find the realation between ratings and reviews by graphs."
   ]
  },
  {
   "cell_type": "code",
   "execution_count": null,
   "metadata": {},
   "outputs": [],
   "source": [
    "df.corr()[\"Rating\"][\"Reviews\"] # 0.05 there is no any realation between rating and reviews."
   ]
  },
  {
   "cell_type": "code",
   "execution_count": null,
   "metadata": {},
   "outputs": [],
   "source": [
    "fig, ax = plt.subplots(1,3, figsize = (15,12))\n",
    "\n",
    "sns.scatterplot(x = df[\"Rating\"] , y = df[\"Reviews\"] , ax = ax[0]);\n",
    "sns.lineplot(x = df[\"Rating\"] , y = df[\"Reviews\"] , ax = ax[1]);\n",
    "sns.barplot(x = df[\"Rating\"] , y = df[\"Reviews\"] , ax = ax[2]);\n",
    "\n",
    "# Graphs a little bit misleading. There is no good realation between Rating and Reviews."
   ]
  },
  {
   "cell_type": "markdown",
   "metadata": {},
   "source": [
    "## Question 12 : If you were to produce an app, what kind of app would you produce for more views?"
   ]
  },
  {
   "cell_type": "code",
   "execution_count": null,
   "metadata": {},
   "outputs": [],
   "source": [
    "# If I were to make an app, It would be in the game or education category and it would be for teens and free app."
   ]
  }
 ],
 "metadata": {
  "kernelspec": {
   "display_name": "Python 3.10.5 64-bit",
   "language": "python",
   "name": "python3"
  },
  "language_info": {
   "codemirror_mode": {
    "name": "ipython",
    "version": 3
   },
   "file_extension": ".py",
   "mimetype": "text/x-python",
   "name": "python",
   "nbconvert_exporter": "python",
   "pygments_lexer": "ipython3",
   "version": "3.10.5"
  },
  "orig_nbformat": 4,
  "vscode": {
   "interpreter": {
    "hash": "2d8cd8638caa719e77c3ece9ee6c9cdab6f2065d170551d375a17b4273bc3a23"
   }
  }
 },
 "nbformat": 4,
 "nbformat_minor": 2
}
